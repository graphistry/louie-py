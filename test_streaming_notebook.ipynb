{
 "cells": [
  {
   "cell_type": "markdown",
   "metadata": {},
   "source": [
    "# Test Streaming Display in Jupyter\n",
    "\n",
    "This notebook demonstrates real-time streaming display for Louie responses."
   ]
  },
  {
   "cell_type": "code",
   "execution_count": null,
   "metadata": {},
   "outputs": [],
   "source": [
    "# Set up credentials\n",
    "import os\n",
    "os.environ['GRAPHISTRY_USERNAME'] = 'leotest2'\n",
    "os.environ['GRAPHISTRY_PASSWORD'] = 'accountaccount'\n",
    "os.environ['GRAPHISTRY_SERVER'] = 'graphistry-dev.grph.xyz'\n",
    "os.environ['LOUIE_URL'] = 'https://louie-dev.grph.xyz'"
   ]
  },
  {
   "cell_type": "code",
   "execution_count": null,
   "metadata": {},
   "outputs": [],
   "source": [
    "# Import louie\n",
    "from louieai import louie\n",
    "\n",
    "# Create interface\n",
    "lui = louie()\n",
    "print(\"Louie interface ready!\")"
   ]
  },
  {
   "cell_type": "markdown",
   "metadata": {},
   "source": [
    "## Test 1: Simple Query with Streaming\n",
    "\n",
    "Watch as the response appears progressively:"
   ]
  },
  {
   "cell_type": "code",
   "execution_count": null,
   "metadata": {},
   "outputs": [],
   "source": [
    "# This should stream the response\n",
    "lui(\"Count from 1 to 5, explaining each number briefly.\")"
   ]
  },
  {
   "cell_type": "markdown",
   "metadata": {},
   "source": [
    "## Test 2: Check Results\n",
    "\n",
    "After streaming, we can still access the results:"
   ]
  },
  {
   "cell_type": "code",
   "execution_count": null,
   "metadata": {},
   "outputs": [],
   "source": [
    "# Access the text\n",
    "print(\"First 200 chars of response:\")\n",
    "print(lui.text[:200])"
   ]
  },
  {
   "cell_type": "markdown",
   "metadata": {},
   "source": [
    "## Test 3: Complex Query with Data\n",
    "\n",
    "Test streaming with a query that returns a dataframe:"
   ]
  },
  {
   "cell_type": "code",
   "execution_count": null,
   "metadata": {},
   "outputs": [],
   "source": [
    "# Query that should return data\n",
    "lui(\"Create a sample dataframe with 5 rows of user data including name, age, and score.\")"
   ]
  },
  {
   "cell_type": "code",
   "execution_count": null,
   "metadata": {},
   "outputs": [],
   "source": [
    "# Check if we got a dataframe\n",
    "if lui.df is not None:\n",
    "    print(\"Got dataframe!\")\n",
    "    display(lui.df)\n",
    "else:\n",
    "    print(\"No dataframe returned\")"
   ]
  }
 ],
 "metadata": {
  "kernelspec": {
   "display_name": "Python 3",
   "language": "python",
   "name": "python3"
  },
  "language_info": {
   "codemirror_mode": {
    "name": "ipython",
    "version": 3
   },
   "file_extension": ".py",
   "mimetype": "text/x-python",
   "name": "python",
   "nbconvert_exporter": "python",
   "pygments_lexer": "ipython3",
   "version": "3.10.0"
  }
 },
 "nbformat": 4,
 "nbformat_minor": 4
}