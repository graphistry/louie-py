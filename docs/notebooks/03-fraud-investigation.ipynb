{
 "cells": [
  {
   "cell_type": "markdown",
   "metadata": {},
   "source": [
    "# Fraud Investigation Workflow\n",
    "\n",
    "This notebook demonstrates using LouieAI for investigating potential fraud patterns in transaction data.\n",
    "\n",
    "**Key features demonstrated:**\n",
    "- Pattern detection across large datasets\n",
    "- Anomaly identification\n",
    "- Interactive investigation workflow\n",
    "- Combining multiple analysis techniques"
   ]
  },
  {
   "cell_type": "markdown",
   "metadata": {},
   "source": [
    "## 1. Setup and Authentication"
   ]
  },
  {
   "cell_type": "code",
   "execution_count": null,
   "metadata": {},
   "outputs": [],
   "source": [
    "import os\n",
    "import warnings\n",
    "\n",
    "warnings.filterwarnings('ignore')\n",
    "\n",
    "# Check for credentials\n",
    "if not os.environ.get('LOUIE_USER'):\n",
    "    raise RuntimeError(\n",
    "        \"Please set LOUIE_USER and LOUIE_PASS environment variables. \"\n",
    "        \"See README for details.\"\n",
    "    )\n",
    "\n",
    "# Import the notebook-friendly interface\n",
    "from louieai.notebook import lui\n",
    "\n",
    "print(\"✅ LouieAI notebook interface ready!\")\n",
    "print(f\"Server: {os.environ.get('LOUIE_SERVER', 'default')}\")\n",
    "lui"
   ]
  },
  {
   "cell_type": "markdown",
   "metadata": {},
   "source": [
    "## 2. Load Transaction Data"
   ]
  },
  {
   "cell_type": "code",
   "execution_count": null,
   "metadata": {},
   "outputs": [],
   "source": [
    "# Request sample fraud investigation data\n",
    "lui(\"Generate sample transaction data for fraud investigation. Include:\"\n",
    "    \"- 1000 transactions over the past month\"\n",
    "    \"- Mix of normal and suspicious patterns\"\n",
    "    \"- Customer IDs, amounts, timestamps, merchant info\"\n",
    "    \"- Some obvious fraud patterns for demonstration\")\n",
    "\n",
    "# Access the transaction data\n",
    "transactions = lui.df\n",
    "print(f\"Loaded {len(transactions)} transactions\")\n",
    "transactions.head()"
   ]
  },
  {
   "cell_type": "markdown",
   "metadata": {},
   "source": [
    "## 3. Initial Fraud Pattern Analysis"
   ]
  },
  {
   "cell_type": "code",
   "execution_count": null,
   "metadata": {},
   "outputs": [],
   "source": [
    "# Analyze for common fraud patterns\n",
    "lui(\"Analyze the transaction data for potential fraud patterns. Look for:\"\n",
    "    \"- Unusual transaction amounts or frequencies\"\n",
    "    \"- Suspicious timing patterns\"\n",
    "    \"- Geographic anomalies\"\n",
    "    \"- Merchant category inconsistencies\"\n",
    "    \"Show findings as a summary table\")\n",
    "\n",
    "# Get the analysis results\n",
    "fraud_patterns = lui.df\n",
    "print(\"\\n🔍 Detected Fraud Patterns:\")\n",
    "fraud_patterns"
   ]
  },
  {
   "cell_type": "markdown",
   "metadata": {},
   "source": [
    "## 4. Deep Dive: Velocity Analysis"
   ]
  },
  {
   "cell_type": "code",
   "execution_count": null,
   "metadata": {},
   "outputs": [],
   "source": [
    "# Velocity check - rapid transactions\n",
    "lui(\"Perform velocity analysis on the transactions. \"\n",
    "    \"Find customers with multiple transactions in short time windows \"\n",
    "    \"(potential card testing or rapid fraud). \"\n",
    "    \"Show top 10 suspicious customers with their transaction patterns\")\n",
    "\n",
    "velocity_alerts = lui.df\n",
    "print(\"\\n⚡ High Velocity Customers:\")\n",
    "velocity_alerts"
   ]
  },
  {
   "cell_type": "code",
   "execution_count": null,
   "metadata": {},
   "outputs": [],
   "source": [
    "# Investigate a specific suspicious customer\n",
    "if len(velocity_alerts) > 0:\n",
    "    suspect_id = velocity_alerts.iloc[0]['customer_id']\n",
    "\n",
    "    lui(f\"Show all transactions for customer {suspect_id} with:\"\n",
    "        \"- Time gaps between transactions\"\n",
    "        \"- Running total\"\n",
    "        \"- Merchant diversity analysis\")\n",
    "\n",
    "    suspect_history = lui.df\n",
    "    print(f\"\\n📋 Transaction History for Customer {suspect_id}:\")\n",
    "    suspect_history"
   ]
  },
  {
   "cell_type": "markdown",
   "metadata": {},
   "source": [
    "## 5. Anomaly Detection"
   ]
  },
  {
   "cell_type": "code",
   "execution_count": null,
   "metadata": {},
   "outputs": [],
   "source": [
    "# Statistical anomaly detection\n",
    "lui(\"Apply statistical anomaly detection to find outliers:\"\n",
    "    \"- Z-score analysis on transaction amounts by merchant category\"\n",
    "    \"- Time-of-day anomalies\"\n",
    "    \"- Geographic outliers\"\n",
    "    \"Rank by anomaly score and show top 20\")\n",
    "\n",
    "anomalies = lui.df\n",
    "print(\"\\n🚨 Top Anomalous Transactions:\")\n",
    "anomalies.head(10)"
   ]
  },
  {
   "cell_type": "markdown",
   "metadata": {},
   "source": [
    "## 6. Network Analysis"
   ]
  },
  {
   "cell_type": "code",
   "execution_count": null,
   "metadata": {},
   "outputs": [],
   "source": [
    "# Look for connected fraud rings\n",
    "lui(\"Analyze transaction network to find potential fraud rings:\"\n",
    "    \"- Customers using same merchants in suspicious patterns\"\n",
    "    \"- Shared characteristics (location, timing, amounts)\"\n",
    "    \"- Create a connection score between customers\"\n",
    "    \"Show potential fraud rings/clusters\")\n",
    "\n",
    "fraud_networks = lui.df\n",
    "print(\"\\n🕸️ Potential Fraud Networks:\")\n",
    "fraud_networks"
   ]
  },
  {
   "cell_type": "markdown",
   "metadata": {},
   "source": [
    "## 7. Risk Scoring"
   ]
  },
  {
   "cell_type": "code",
   "execution_count": null,
   "metadata": {},
   "outputs": [],
   "source": [
    "# Create comprehensive risk scores\n",
    "lui(\"Create a comprehensive fraud risk score for each customer based on:\"\n",
    "    \"- Velocity patterns\"\n",
    "    \"- Anomaly scores\"\n",
    "    \"- Network connections\"\n",
    "    \"- Transaction patterns\"\n",
    "    \"Show top 20 highest risk customers with score breakdown\")\n",
    "\n",
    "risk_scores = lui.df\n",
    "print(\"\\n📊 Highest Risk Customers:\")\n",
    "risk_scores.head(10)"
   ]
  },
  {
   "cell_type": "markdown",
   "metadata": {},
   "source": [
    "## 8. Investigation Summary"
   ]
  },
  {
   "cell_type": "code",
   "execution_count": null,
   "metadata": {},
   "outputs": [],
   "source": [
    "# Generate investigation report\n",
    "lui(\"Generate an executive summary of the fraud investigation including:\"\n",
    "    \"- Total suspected fraudulent transactions and amount\"\n",
    "    \"- Main fraud patterns identified\"\n",
    "    \"- Highest risk customers requiring immediate action\"\n",
    "    \"- Recommended next steps\")\n",
    "\n",
    "print(\"\\n📄 FRAUD INVESTIGATION SUMMARY\\n\")\n",
    "print(lui.text)"
   ]
  },
  {
   "cell_type": "code",
   "execution_count": null,
   "metadata": {},
   "outputs": [],
   "source": [
    "# Export high-risk transactions for further investigation\n",
    "lui(\"Create a detailed investigation list with all transactions from \"\n",
    "    \"the top 10 highest risk customers, including all relevant details\")\n",
    "\n",
    "investigation_list = lui.df\n",
    "print(f\"\\n💾 Exported {len(investigation_list)} transactions for investigation\")\n",
    "\n",
    "# Save for offline investigation\n",
    "# investigation_list.to_csv('fraud_investigation.csv', index=False)"
   ]
  },
  {
   "cell_type": "markdown",
   "metadata": {},
   "source": [
    "## 9. Pattern Monitoring Setup"
   ]
  },
  {
   "cell_type": "code",
   "execution_count": null,
   "metadata": {},
   "outputs": [],
   "source": [
    "# Set up monitoring rules\n",
    "lui(\"Based on the fraud patterns discovered, create monitoring rules for:\"\n",
    "    \"- Real-time velocity checks\"\n",
    "    \"- Amount thresholds by merchant category\"\n",
    "    \"- Geographic anomalies\"\n",
    "    \"- Time-based patterns\"\n",
    "    \"Format as implementable business rules\")\n",
    "\n",
    "print(\"\\n🚦 RECOMMENDED MONITORING RULES\\n\")\n",
    "print(lui.text)"
   ]
  },
  {
   "cell_type": "markdown",
   "metadata": {},
   "source": [
    "## Key Takeaways\n",
    "\n",
    "This notebook demonstrated:\n",
    "\n",
    "1. **Pattern Detection**: Using LouieAI to identify fraud patterns in transaction data\n",
    "2. **Multi-faceted Analysis**: Velocity, anomaly, and network analysis approaches\n",
    "3. **Risk Scoring**: Creating comprehensive risk assessments\n",
    "4. **Investigation Workflow**: From initial detection to detailed investigation\n",
    "5. **Actionable Outputs**: Generating investigation lists and monitoring rules\n",
    "\n",
    "The `lui` interface makes it easy to iterate on fraud investigations, quickly testing different hypotheses and diving deeper into suspicious patterns."
   ]
  }
 ],
 "metadata": {
  "kernelspec": {
   "display_name": "Python 3",
   "language": "python",
   "name": "python3"
  },
  "language_info": {
   "codemirror_mode": {
    "name": "ipython",
    "version": 3
   },
   "file_extension": ".py",
   "mimetype": "text/x-python",
   "name": "python",
   "nbconvert_exporter": "python",
   "pygments_lexer": "ipython3",
   "version": "3.12.0"
  }
 },
 "nbformat": 4,
 "nbformat_minor": 4
}