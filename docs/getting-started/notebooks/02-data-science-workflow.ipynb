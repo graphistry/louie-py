{
 "cells": [
  {
   "cell_type": "markdown",
   "metadata": {},
   "source": "# Data Science with LouieAI Agents\n\nQuick data science workflow showcasing specialized agents for analysis and visualization."
  },
  {
   "cell_type": "code",
   "execution_count": null,
   "metadata": {},
   "outputs": [],
   "source": [
    "import numpy as np\n",
    "import pandas as pd\n",
    "\n",
    "from louieai.notebook import lui\n",
    "\n",
    "# Option 1: Upload your own data\n",
    "# Uncomment to use your data:\n",
    "# my_data = pd.read_csv('your_sales_data.csv')\n",
    "# lui(\"Profile this dataset and prepare it for analysis\", my_data)\n",
    "\n",
    "# Option 2: Generate sample data for demonstration\n",
    "demo_data = pd.DataFrame(\n",
    "    {\n",
    "        \"date\": pd.date_range(\"2024-01-01\", periods=100, freq=\"D\"),\n",
    "        \"product\": np.random.choice([\"Widget\", \"Gadget\", \"Gizmo\"], 100),\n",
    "        \"region\": np.random.choice([\"North\", \"South\", \"East\", \"West\"], 100),\n",
    "        \"revenue\": np.random.uniform(100, 1000, 100),\n",
    "        \"units_sold\": np.random.randint(1, 50, 100),\n",
    "    }\n",
    ")\n",
    "\n",
    "# Upload and get initial insights\n",
    "lui(\"Provide initial insights about this sales dataset\", demo_data)\n",
    "print(\"Initial analysis:\", lui.text[:200], \"...\")"
   ]
  },
  {
   "cell_type": "markdown",
   "metadata": {},
   "source": "## Analysis with CodeAgent\n\nNow let's analyze the data patterns. If you uploaded your own data above, the agents will work with your data:"
  },
  {
   "cell_type": "code",
   "execution_count": null,
   "metadata": {},
   "outputs": [],
   "source": [
    "from louieai.notebook import lui\n",
    "\n",
    "# Generate sample data with TableAIAgent\n",
    "lui(\n",
    "    \"Create sample sales data with 100 rows: date, product, region, revenue\",\n",
    "    agent=\"TableAIAgent\",\n",
    ")"
   ]
  },
  {
   "cell_type": "markdown",
   "metadata": {},
   "source": "## Analysis with CodeAgent\n\nLet's analyze the data patterns:"
  },
  {
   "cell_type": "code",
   "execution_count": null,
   "metadata": {},
   "outputs": [],
   "source": [
    "# Statistical analysis with CodeAgent\n",
    "lui(\n",
    "    \"Calculate revenue statistics by region and create summary table\",\n",
    "    agent=\"CodeAgent\",\n",
    ")"
   ]
  },
  {
   "cell_type": "markdown",
   "metadata": {},
   "source": "## Visualization with PerspectiveAgent"
  },
  {
   "cell_type": "code",
   "execution_count": null,
   "metadata": {},
   "outputs": [],
   "source": [
    "# Interactive visualization\n",
    "lui(\n",
    "    \"Create an interactive bar chart showing revenue by region\",\n",
    "    agent=\"PerspectiveAgent\",\n",
    ")"
   ]
  },
  {
   "cell_type": "markdown",
   "metadata": {},
   "source": "## Graph Analysis\n\nBuild relationships for deeper insights:"
  },
  {
   "cell_type": "code",
   "execution_count": null,
   "metadata": {},
   "outputs": [],
   "source": [
    "# Network analysis with GraphAgent\n",
    "lui(\n",
    "    \"Create a product-region relationship graph showing sales connections\",\n",
    "    agent=\"GraphAgent\",\n",
    ")"
   ]
  },
  {
   "cell_type": "markdown",
   "metadata": {},
   "source": "## Agent Composition\n\nCombine multiple agents for complex workflows:"
  },
  {
   "cell_type": "code",
   "execution_count": null,
   "metadata": {},
   "outputs": [],
   "source": [
    "# Multi-agent workflow\n",
    "lui(\n",
    "    \"Find top products, then create a forecast visualization\",\n",
    "    agent=\"TableAIAgent\",\n",
    ")\n",
    "\n",
    "# Chain to visualization\n",
    "lui(\n",
    "    \"Turn the previous analysis into an interactive dashboard\",\n",
    "    agent=\"PerspectiveAgent\",\n",
    ")\n",
    "\n",
    "print(\"✅ Complete data science workflow using 4 specialized agents!\")"
   ]
  }
 ],
 "metadata": {
  "kernelspec": {
   "display_name": "Python 3",
   "language": "python",
   "name": "python3"
  },
  "language_info": {
   "codemirror_mode": {
    "name": "ipython",
    "version": 3
   },
   "file_extension": ".py",
   "mimetype": "text/x-python",
   "name": "python",
   "nbconvert_exporter": "python",
   "pygments_lexer": "ipython3",
   "version": "3.8.0"
  }
 },
 "nbformat": 4,
 "nbformat_minor": 4
}