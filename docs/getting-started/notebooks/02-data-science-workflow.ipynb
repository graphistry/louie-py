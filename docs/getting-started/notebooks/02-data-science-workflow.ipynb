{
 "cells": [
  {
   "cell_type": "code",
   "source": "# Multi-agent workflow\nlui(\"Find top products, then create a forecast visualization\", \n    agent=\"TableAIAgent\")\n\n# Chain to visualization  \nlui(\"Turn the previous analysis into an interactive dashboard\", \n    agent=\"PerspectiveAgent\")\n\nprint(\"✅ Complete data science workflow using 4 specialized agents!\")",
   "metadata": {},
   "execution_count": null,
   "outputs": []
  },
  {
   "cell_type": "markdown",
   "metadata": {},
   "source": "# Data Science with LouieAI Agents\n\nQuick data science workflow showcasing specialized agents for analysis and visualization."
  },
  {
   "cell_type": "code",
   "execution_count": null,
   "metadata": {},
   "outputs": [],
   "source": "from louieai.notebook import lui\n\n# Generate sample data with TableAIAgent\nlui(\"Create sample sales data with 100 rows: date, product, region, revenue\", \n    agent=\"TableAIAgent\")"
  },
  {
   "cell_type": "markdown",
   "metadata": {},
   "source": "## Analysis with CodeAgent\n\nLet's analyze the data patterns:"
  },
  {
   "cell_type": "code",
   "execution_count": null,
   "metadata": {},
   "outputs": [],
   "source": "# Statistical analysis with CodeAgent\nlui(\"Calculate revenue statistics by region and create summary table\", \n    agent=\"CodeAgent\")"
  },
  {
   "cell_type": "markdown",
   "metadata": {},
   "source": "## Visualization with PerspectiveAgent"
  },
  {
   "cell_type": "code",
   "execution_count": null,
   "metadata": {},
   "outputs": [],
   "source": "# Interactive visualization\nlui(\"Create an interactive bar chart showing revenue by region\", \n    agent=\"PerspectiveAgent\")"
  },
  {
   "cell_type": "code",
   "execution_count": null,
   "metadata": {},
   "outputs": [],
   "source": "## Graph Analysis\n\nBuild relationships for deeper insights:"
  },
  {
   "cell_type": "markdown",
   "metadata": {},
   "source": "# Network analysis with GraphAgent\nlui(\"Create a product-region relationship graph showing sales connections\", \n    agent=\"GraphAgent\")"
  },
  {
   "cell_type": "markdown",
   "source": "## Agent Composition\n\nCombine multiple agents for complex workflows:",
   "metadata": {}
  },
  {
   "cell_type": "markdown",
   "metadata": {},
   "source": [
    "## 4. Product Performance Analysis"
   ]
  },
  {
   "cell_type": "markdown",
   "metadata": {},
   "source": [
    "## 5. Advanced Analytics"
   ]
  },
  {
   "cell_type": "markdown",
   "metadata": {},
   "source": [
    "## 6. Forecasting"
   ]
  },
  {
   "cell_type": "markdown",
   "metadata": {},
   "source": [
    "## 7. Export Results\n",
    "\n",
    "Save your analysis results for reporting:"
   ]
  },
  {
   "cell_type": "markdown",
   "metadata": {},
   "source": [
    "## Working with Historical Analysis\n",
    "\n",
    "The notebook interface keeps your entire analysis history:"
   ]
  },
  {
   "cell_type": "markdown",
   "metadata": {},
   "source": [
    "## Best Practices\n",
    "\n",
    "1. **Be specific** about output format - ask for \"table\", \"dataframe\", or \"list\"\n",
    "2. **Enable traces** for complex analyses to understand the reasoning\n",
    "3. **Check for errors** when working with external data\n",
    "4. **Use history** to access previous results without re-running analyses\n",
    "5. **Save intermediate results** for reproducibility\n",
    "\n",
    "Next: Try the fraud investigation notebook for pattern detection techniques!"
   ]
  }
 ],
 "metadata": {
  "kernelspec": {
   "display_name": "Python 3",
   "language": "python",
   "name": "python3"
  },
  "language_info": {
   "codemirror_mode": {
    "name": "ipython",
    "version": 3
   },
   "file_extension": ".py",
   "mimetype": "text/x-python",
   "name": "python",
   "nbconvert_exporter": "python",
   "pygments_lexer": "ipython3",
   "version": "3.8.0"
  }
 },
 "nbformat": 4,
 "nbformat_minor": 4
}