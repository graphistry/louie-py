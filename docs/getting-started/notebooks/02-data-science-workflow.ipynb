{
 "cells": [
  {
   "cell_type": "markdown",
   "metadata": {},
   "source": [
    "# Data Science Workflow with LouieAI\n",
    "\n",
    "This notebook demonstrates a complete data science workflow using the LouieAI notebook interface.\n",
    "\n",
    "## Setup"
   ]
  },
  {
   "cell_type": "code",
   "execution_count": null,
   "metadata": {},
   "outputs": [],
   "source": "import os\n\nimport matplotlib.pyplot as plt\n\n# Credential check\nif not os.environ.get('GRAPHISTRY_USERNAME'):\n    raise RuntimeError(\n        \"Set GRAPHISTRY_USERNAME and GRAPHISTRY_PASSWORD \"\n        \"environment variables\"\n    )\n\nfrom louieai.notebook import lui\n\n# Set up plotting style\nplt.style.use('seaborn-v0_8-darkgrid')\n%matplotlib inline"
  },
  {
   "cell_type": "markdown",
   "metadata": {},
   "source": [
    "## 1. Data Generation and Loading\n",
    "\n",
    "Let's create a realistic dataset for analysis:"
   ]
  },
  {
   "cell_type": "code",
   "execution_count": null,
   "metadata": {},
   "outputs": [],
   "source": [
    "# Generate a sales dataset\n",
    "lui(\"\"\"\n",
    "Create a realistic sales dataset with 1000 rows containing:\n",
    "- date (last 12 months)\n",
    "- product_id\n",
    "- product_name\n",
    "- category (Electronics, Clothing, Home, Sports)\n",
    "- price\n",
    "- quantity_sold\n",
    "- customer_region (North, South, East, West)\n",
    "- discount_percentage\n",
    "- revenue (calculated as price * quantity * (1 - discount_percentage/100))\n",
    "\n",
    "Make it realistic with seasonal trends and regional preferences.\n",
    "\"\"\")\n",
    "\n",
    "# Get the generated data\n",
    "sales_df = lui.df\n",
    "if sales_df is not None:\n",
    "    print(f\"Dataset shape: {sales_df.shape}\")\n",
    "    print(f\"\\nColumns: {list(sales_df.columns)}\")\n",
    "    print(f\"\\nData types:\\n{sales_df.dtypes}\")\n",
    "    display(sales_df.head())"
   ]
  },
  {
   "cell_type": "markdown",
   "metadata": {},
   "source": [
    "## 2. Exploratory Data Analysis"
   ]
  },
  {
   "cell_type": "code",
   "execution_count": null,
   "metadata": {},
   "outputs": [],
   "source": "# Get basic statistics\nlui(\"Provide summary statistics for the sales data, \"\n    \"including total revenue by category\")\n\n# Display any generated summary tables\nif lui.df is not None:\n    print(\"Summary by Category:\")\n    display(lui.df)"
  },
  {
   "cell_type": "code",
   "execution_count": null,
   "metadata": {},
   "outputs": [],
   "source": [
    "# Analyze seasonal trends\n",
    "lui(\"\"\"\n",
    "Analyze seasonal trends in the sales data:\n",
    "1. Calculate monthly revenue\n",
    "2. Identify the best and worst performing months\n",
    "3. Show revenue trends by category over time\n",
    "Return the monthly summary as a table.\n",
    "\"\"\")\n",
    "\n",
    "monthly_data = lui.df\n",
    "if monthly_data is not None:\n",
    "    display(monthly_data)\n",
    "\n",
    "    # Visualize the trends\n",
    "    if 'month' in monthly_data.columns or 'date' in monthly_data.columns:\n",
    "        plt.figure(figsize=(12, 6))\n",
    "        # Plot logic would go here based on actual column names\n",
    "        plt.title('Monthly Revenue Trends')\n",
    "        plt.show()"
   ]
  },
  {
   "cell_type": "markdown",
   "metadata": {},
   "source": [
    "## 3. Regional Analysis"
   ]
  },
  {
   "cell_type": "code",
   "execution_count": null,
   "metadata": {},
   "outputs": [],
   "source": [
    "# Analyze regional performance\n",
    "lui(\"\"\"\n",
    "Perform a regional analysis:\n",
    "1. Calculate total revenue and average order value by region\n",
    "2. Identify the most popular product category in each region\n",
    "3. Calculate the effectiveness of discounts by region\n",
    "Show results as a comprehensive table.\n",
    "\"\"\")\n",
    "\n",
    "regional_analysis = lui.df\n",
    "if regional_analysis is not None:\n",
    "    print(\"Regional Performance Analysis:\")\n",
    "    display(regional_analysis)\n",
    "\n",
    "print(f\"\\nKey insights: {lui.text}\")"
   ]
  },
  {
   "cell_type": "markdown",
   "metadata": {},
   "source": [
    "## 4. Product Performance Analysis"
   ]
  },
  {
   "cell_type": "code",
   "execution_count": null,
   "metadata": {},
   "outputs": [],
   "source": [
    "# Find top performers\n",
    "lui(\"\"\"\n",
    "Identify the top 10 best-selling products by:\n",
    "1. Total revenue\n",
    "2. Total quantity sold\n",
    "3. Average discount given\n",
    "\n",
    "Also identify products that might need attention (low sales despite high discounts).\n",
    "\"\"\")\n",
    "\n",
    "top_products = lui.df\n",
    "if top_products is not None:\n",
    "    print(\"Top 10 Products by Revenue:\")\n",
    "    display(top_products.head(10))"
   ]
  },
  {
   "cell_type": "markdown",
   "metadata": {},
   "source": [
    "## 5. Advanced Analytics"
   ]
  },
  {
   "cell_type": "code",
   "execution_count": null,
   "metadata": {},
   "outputs": [],
   "source": [
    "# Enable traces to see the analysis process\n",
    "lui.traces = True\n",
    "\n",
    "# Perform correlation analysis\n",
    "lui(\"\"\"\n",
    "Perform a correlation analysis to understand:\n",
    "1. Relationship between discount percentage and quantity sold\n",
    "2. Price elasticity by category\n",
    "3. Regional preferences for different price points\n",
    "\n",
    "Provide actionable insights for pricing strategy.\n",
    "\"\"\")\n",
    "\n",
    "# Turn off traces\n",
    "lui.traces = False\n",
    "\n",
    "# Display results\n",
    "if lui.df is not None:\n",
    "    display(lui.df)\n",
    "\n",
    "print(\"\\nStrategic Insights:\")\n",
    "print(lui.text)"
   ]
  },
  {
   "cell_type": "markdown",
   "metadata": {},
   "source": [
    "## 6. Forecasting"
   ]
  },
  {
   "cell_type": "code",
   "execution_count": null,
   "metadata": {},
   "outputs": [],
   "source": [
    "# Simple forecasting\n",
    "lui(\"\"\"\n",
    "Based on the historical data:\n",
    "1. Project next month's revenue by category\n",
    "2. Identify which products are trending up vs down\n",
    "3. Recommend inventory adjustments\n",
    "\n",
    "Show projections as a table with confidence levels.\n",
    "\"\"\")\n",
    "\n",
    "projections = lui.df\n",
    "if projections is not None:\n",
    "    print(\"Revenue Projections:\")\n",
    "    display(projections)\n",
    "\n",
    "# Get recommendations\n",
    "print(\"\\nRecommendations:\")\n",
    "print(lui.text)"
   ]
  },
  {
   "cell_type": "markdown",
   "metadata": {},
   "source": [
    "## 7. Export Results\n",
    "\n",
    "Save your analysis results for reporting:"
   ]
  },
  {
   "cell_type": "code",
   "execution_count": null,
   "metadata": {},
   "outputs": [],
   "source": [
    "# Compile all insights\n",
    "lui(\"\"\"\n",
    "Create an executive summary table with:\n",
    "1. Total revenue YTD\n",
    "2. Top performing category and region\n",
    "3. Average discount rate and its impact\n",
    "4. Key recommendations (top 3)\n",
    "5. Revenue projection for next quarter\n",
    "\"\"\")\n",
    "\n",
    "executive_summary = lui.df\n",
    "if executive_summary is not None:\n",
    "    print(\"Executive Summary:\")\n",
    "    display(executive_summary)\n",
    "\n",
    "    # Save to CSV\n",
    "    # executive_summary.to_csv('executive_summary.csv', index=False)\n",
    "    # print(\"\\nSummary saved to executive_summary.csv\")"
   ]
  },
  {
   "cell_type": "markdown",
   "metadata": {},
   "source": [
    "## Working with Historical Analysis\n",
    "\n",
    "The notebook interface keeps your entire analysis history:"
   ]
  },
  {
   "cell_type": "code",
   "execution_count": null,
   "metadata": {},
   "outputs": [],
   "source": "# Access any previous analysis\nprint(\"Analysis steps performed:\")\nfor i in range(-5, 0):\n    try:\n        response_text = lui[i].text\n        if response_text:\n            preview = (response_text[:100] + \"...\"\n                      if len(response_text) > 100\n                      else response_text)\n            print(f\"\\nStep {i}: {preview}\")\n    except Exception:\n        break\n\n# Combine multiple dataframes\nall_dataframes = []\nfor i in range(-10, 0):\n    try:\n        df = lui[i].df\n        if df is not None:\n            all_dataframes.append(df)\n    except Exception:\n        break\n\nprint(f\"\\nFound {len(all_dataframes)} dataframes in history\")"
  },
  {
   "cell_type": "markdown",
   "metadata": {},
   "source": [
    "## Best Practices\n",
    "\n",
    "1. **Be specific** about output format - ask for \"table\", \"dataframe\", or \"list\"\n",
    "2. **Enable traces** for complex analyses to understand the reasoning\n",
    "3. **Check for errors** when working with external data\n",
    "4. **Use history** to access previous results without re-running analyses\n",
    "5. **Save intermediate results** for reproducibility\n",
    "\n",
    "Next: Try the fraud investigation notebook for pattern detection techniques!"
   ]
  }
 ],
 "metadata": {
  "kernelspec": {
   "display_name": "Python 3",
   "language": "python",
   "name": "python3"
  },
  "language_info": {
   "codemirror_mode": {
    "name": "ipython",
    "version": 3
   },
   "file_extension": ".py",
   "mimetype": "text/x-python",
   "name": "python",
   "nbconvert_exporter": "python",
   "pygments_lexer": "ipython3",
   "version": "3.8.0"
  }
 },
 "nbformat": 4,
 "nbformat_minor": 4
}