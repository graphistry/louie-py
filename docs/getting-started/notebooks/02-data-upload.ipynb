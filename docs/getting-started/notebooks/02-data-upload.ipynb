{
 "cells": [
  {
   "cell_type": "markdown",
   "metadata": {},
   "source": [
    "# Advanced Data Upload with LouieAI\n",
    "\n",
    "This notebook demonstrates all the ways to upload data to LouieAI for analysis."
   ]
  },
  {
   "cell_type": "code",
   "execution_count": null,
   "metadata": {},
   "outputs": [],
   "source": [
    "import numpy as np\n",
    "import pandas as pd\n",
    "\n",
    "from louieai.notebook import lui"
   ]
  },
  {
   "cell_type": "markdown",
   "metadata": {},
   "source": [
    "## DataFrame Upload\n",
    "\n",
    "Upload pandas DataFrames for AI-powered analysis."
   ]
  },
  {
   "cell_type": "code",
   "execution_count": null,
   "metadata": {},
   "outputs": [],
   "source": [
    "# Create a sample DataFrame\n",
    "df = pd.DataFrame(\n",
    "    {\n",
    "        \"date\": pd.date_range(\"2024-01-01\", periods=30, freq=\"D\"),\n",
    "        \"sales\": np.random.randn(30).cumsum() + 100,\n",
    "        \"visitors\": np.random.randint(50, 200, 30),\n",
    "    }\n",
    ")\n",
    "\n",
    "# Pattern 1: Prompt first (recommended for clarity)\n",
    "lui(\"What are the key trends in this data?\", df)\n",
    "\n",
    "# Pattern 2: DataFrame first (concise for simple operations)\n",
    "lui(df, \"show summary statistics\")\n",
    "\n",
    "# Pattern 3: Specify serialization format\n",
    "lui(\"Analyze this\", df, format=\"csv\")  # Options: parquet (default), csv, json, arrow"
   ]
  },
  {
   "cell_type": "markdown",
   "metadata": {},
   "source": [
    "## Image Upload\n",
    "\n",
    "Multiple ways to upload images for analysis."
   ]
  },
  {
   "cell_type": "code",
   "execution_count": null,
   "metadata": {},
   "outputs": [],
   "source": [
    "# Method 1: File path (file must exist)\n",
    "# lui(\"What's in this image?\", \"path/to/image.png\")\n",
    "\n",
    "# Method 2: Raw bytes\n",
    "# with open(\"image.jpg\", \"rb\") as f:\n",
    "#     image_bytes = f.read()\n",
    "# lui(\"Describe this image\", image_bytes)\n",
    "\n",
    "# Method 3: BytesIO (file-like object)\n",
    "# import io\n",
    "# image_buffer = io.BytesIO(image_data)\n",
    "# lui(\"Analyze this\", image_buffer)\n",
    "\n",
    "# Method 4: PIL/Pillow Image\n",
    "# from PIL import Image\n",
    "# img = Image.open(\"photo.jpg\")\n",
    "# lui(\"What objects are in this photo?\", img)"
   ]
  },
  {
   "cell_type": "markdown",
   "metadata": {},
   "source": [
    "## Document Upload\n",
    "\n",
    "Upload PDFs, Word docs, Excel files, and more."
   ]
  },
  {
   "cell_type": "code",
   "execution_count": null,
   "metadata": {},
   "outputs": [],
   "source": [
    "# PDF files\n",
    "# lui(\"Summarize this document\", \"report.pdf\")\n",
    "\n",
    "# Excel files (as binary, not DataFrame)\n",
    "# lui(\"Extract tables from this Excel file\", \"data.xlsx\")\n",
    "\n",
    "# Word documents\n",
    "# lui(\"What are the key points?\", \"document.docx\")\n",
    "\n",
    "# PowerPoint presentations\n",
    "# lui(\"Summarize this presentation\", \"slides.pptx\")\n",
    "\n",
    "# From bytes\n",
    "# with open(\"document.pdf\", \"rb\") as f:\n",
    "#     pdf_bytes = f.read()\n",
    "# lui(\"Extract key information\", pdf_bytes)"
   ]
  },
  {
   "cell_type": "markdown",
   "metadata": {},
   "source": [
    "## Loading Data from Files\n",
    "\n",
    "Common patterns for loading and analyzing data files."
   ]
  },
  {
   "cell_type": "code",
   "execution_count": null,
   "metadata": {},
   "outputs": [],
   "source": [
    "# CSV files\n",
    "# df = pd.read_csv('sales_data.csv')\n",
    "# lui(\"Find insights in this sales data\", df)\n",
    "\n",
    "# Excel files as DataFrames\n",
    "# df = pd.read_excel('report.xlsx', sheet_name='Sales')\n",
    "# lui(\"What patterns do you see?\", df)\n",
    "\n",
    "# JSON files\n",
    "# df = pd.read_json('data.json')\n",
    "# lui(\"Analyze this JSON data\", df)\n",
    "\n",
    "# Parquet files\n",
    "# df = pd.read_parquet('large_dataset.parquet')\n",
    "# lui(\"Summarize this dataset\", df)"
   ]
  },
  {
   "cell_type": "markdown",
   "metadata": {},
   "source": [
    "## Advanced Options\n",
    "\n",
    "Additional parameters for upload operations."
   ]
  },
  {
   "cell_type": "code",
   "execution_count": null,
   "metadata": {},
   "outputs": [],
   "source": [
    "# Specify parsing options for DataFrames\n",
    "# lui(\"Analyze\", df,\n",
    "#     format=\"csv\",\n",
    "#     parsing_options={\"delimiter\": \";\", \"header\": True})\n",
    "\n",
    "# Control the agent used for processing\n",
    "# lui(\"Analyze\", df, agent=\"UploadAgent\")  # Uses LLM for parsing\n",
    "# lui(\"Analyze\", df, agent=\"UploadPassthroughAgent\")  # Direct parsing (default)\n",
    "\n",
    "# Thread management\n",
    "# response = lui(\"First analysis\", df)\n",
    "# thread_id = response.thread_id\n",
    "# lui(\"Follow-up question\", df, thread_id=thread_id)  # Continue same thread"
   ]
  },
  {
   "cell_type": "markdown",
   "metadata": {},
   "source": [
    "## File Detection Details\n",
    "\n",
    "How LouieAI detects different file types:\n",
    "\n",
    "### Image Detection\n",
    "- **File extensions**: .png, .jpg, .jpeg, .gif, .bmp, .webp, .svg\n",
    "- **Byte signatures**: PNG (89 50 4E 47), JPEG (FF D8 FF), GIF (47 49 46 38)\n",
    "- **PIL Images**: Automatically detected if Pillow is installed\n",
    "\n",
    "### Document Detection\n",
    "- **File extensions**: .pdf, .doc, .docx, .xls, .xlsx, .ppt, .pptx\n",
    "- **Byte signatures**: PDF (%PDF), ZIP-based Office files (PK 03 04)\n",
    "- **File-like objects**: Anything with a .read() method\n",
    "\n",
    "### DataFrame Detection\n",
    "- **Type check**: isinstance(obj, pd.DataFrame)\n",
    "- **Serialization formats**: parquet (default), csv, json, arrow"
   ]
  },
  {
   "cell_type": "markdown",
   "metadata": {},
   "source": [
    "## Tips and Best Practices\n",
    "\n",
    "1. **Use descriptive prompts** - Be specific about what analysis you want\n",
    "2. **Check file paths** - Ensure files exist before passing paths\n",
    "3. **Handle large files** - Use bytes or file-like objects for better memory management\n",
    "4. **Format selection** - Use parquet for DataFrames (fastest and preserves types)\n",
    "5. **Error handling** - Check `lui.has_errors` after uploads"
   ]
  }
 ],
 "metadata": {
  "kernelspec": {
   "display_name": "Python 3",
   "language": "python",
   "name": "python3"
  },
  "language_info": {
   "name": "python",
   "version": "3.12.0"
  }
 },
 "nbformat": 4,
 "nbformat_minor": 4
}