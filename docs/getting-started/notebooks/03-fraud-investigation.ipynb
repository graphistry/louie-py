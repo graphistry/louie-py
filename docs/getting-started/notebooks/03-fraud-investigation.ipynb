{
 "cells": [
  {
   "cell_type": "markdown",
   "metadata": {},
   "source": "# Fraud Investigation with LouieAI Agents\n\nDetect and investigate fraud patterns using specialized agents for graph analysis and anomaly detection."
  },
  {
   "cell_type": "markdown",
   "metadata": {},
   "source": "## Generate Suspicious Transaction Data"
  },
  {
   "cell_type": "code",
   "execution_count": null,
   "metadata": {},
   "outputs": [],
   "source": "from louieai.notebook import lui\n\n# Create transaction data with embedded fraud patterns\nlui(\"Create 500 transaction records with user_id, amount, merchant, timestamp. Include suspicious patterns like rapid transactions, unusual amounts\", \n    agent=\"TableAIAgent\")"
  },
  {
   "cell_type": "markdown",
   "metadata": {},
   "source": "## Network Analysis for Fraud Rings"
  },
  {
   "cell_type": "code",
   "execution_count": null,
   "metadata": {},
   "outputs": [],
   "source": "# Build fraud detection graph\nlui(\"Create a network graph connecting users who share merchants or have similar transaction patterns\", \n    agent=\"GraphAgent\")"
  },
  {
   "cell_type": "markdown",
   "metadata": {},
   "source": "## Statistical Anomaly Detection"
  },
  {
   "cell_type": "code",
   "execution_count": null,
   "metadata": {},
   "outputs": [],
   "source": "# Identify outliers with CodeAgent\nlui(\"Calculate Z-scores for transaction amounts and flag outliers. Show top 10 anomalous transactions\", \n    agent=\"CodeAgent\")"
  },
  {
   "cell_type": "markdown",
   "metadata": {},
   "source": "## Interactive Investigation Dashboard"
  },
  {
   "cell_type": "code",
   "execution_count": null,
   "metadata": {},
   "outputs": [],
   "source": "# Create investigation interface  \nlui(\"Build an interactive timeline showing suspicious transactions with filters for amount and user\", \n    agent=\"PerspectiveAgent\")"
  },
  {
   "cell_type": "markdown",
   "metadata": {},
   "source": "## Risk Assessment"
  },
  {
   "cell_type": "code",
   "source": "# Generate final risk scores combining all analysis\nlui(\"Create comprehensive fraud risk scores using graph centrality, statistical outliers, and transaction velocity\", \n    agent=\"TableAIAgent\")\n\nprint(\"✅ Complete fraud investigation using 4 specialized agents!\")",
   "metadata": {},
   "execution_count": null,
   "outputs": []
  }
 ],
 "metadata": {
  "kernelspec": {
   "display_name": "Python 3",
   "language": "python",
   "name": "python3"
  },
  "language_info": {
   "codemirror_mode": {
    "name": "ipython",
    "version": 3
   },
   "file_extension": ".py",
   "mimetype": "text/x-python",
   "name": "python",
   "nbconvert_exporter": "python",
   "pygments_lexer": "ipython3",
   "version": "3.12.0"
  }
 },
 "nbformat": 4,
 "nbformat_minor": 4
}