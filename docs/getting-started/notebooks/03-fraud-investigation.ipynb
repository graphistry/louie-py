{
 "cells": [
  {
   "cell_type": "markdown",
   "metadata": {},
   "source": "# Fraud Investigation with LouieAI Agents\n\nDetect and investigate fraud patterns using specialized agents for graph analysis and anomaly detection."
  },
  {
   "cell_type": "markdown",
   "metadata": {},
   "source": "## Option B: Generate Suspicious Transaction Data\n\nFor demonstration, let's generate sample data with embedded fraud patterns:"
  },
  {
   "cell_type": "code",
   "execution_count": null,
   "metadata": {},
   "outputs": [],
   "source": [
    "# Example: Upload and analyze your transaction data\n",
    "import pandas as pd\n",
    "\n",
    "# Load your transaction data (example structure)\n",
    "# Uncomment and modify for your actual data:\n",
    "# transactions_df = pd.read_csv('your_transactions.csv')\n",
    "\n",
    "# For demonstration, here's the expected format:\n",
    "example_format = pd.DataFrame(\n",
    "    {\n",
    "        \"transaction_id\": [\"T001\", \"T002\"],\n",
    "        \"timestamp\": pd.to_datetime([\"2024-01-01 10:00\", \"2024-01-01 10:05\"]),\n",
    "        \"account_id\": [\"ACC123\", \"ACC456\"],\n",
    "        \"amount\": [1000.00, 250.00],\n",
    "        \"merchant\": [\"Online Store A\", \"ATM Withdrawal\"],\n",
    "        \"location\": [\"New York\", \"Los Angeles\"],\n",
    "    }\n",
    ")\n",
    "\n",
    "print(\"Expected data format:\")\n",
    "example_format.head()\n",
    "\n",
    "# Upload and analyze for fraud patterns\n",
    "# lui(\"Detect suspicious patterns and potential fraud in these transactions\", transactions_df)"
   ]
  },
  {
   "cell_type": "markdown",
   "metadata": {},
   "source": "## Option A: Upload Your Own Transaction Data\n\nIf you have real transaction data, you can upload it directly for analysis:"
  },
  {
   "cell_type": "code",
   "execution_count": null,
   "metadata": {},
   "outputs": [],
   "source": [
    "from louieai.notebook import lui\n",
    "\n",
    "# Create transaction data with embedded fraud patterns\n",
    "lui(\n",
    "    \"Create 500 transaction records with user_id, amount, merchant, timestamp. \"\n",
    "    \"Include suspicious patterns like rapid transactions, unusual amounts\",\n",
    "    agent=\"TableAIAgent\",\n",
    ")"
   ]
  },
  {
   "cell_type": "markdown",
   "metadata": {},
   "source": "## Network Analysis for Fraud Rings"
  },
  {
   "cell_type": "code",
   "execution_count": null,
   "metadata": {},
   "outputs": [],
   "source": [
    "# Build fraud detection graph\n",
    "lui(\n",
    "    \"Create a network graph connecting users who share merchants \"\n",
    "    \"or have similar transaction patterns\",\n",
    "    agent=\"GraphAgent\",\n",
    ")"
   ]
  },
  {
   "cell_type": "markdown",
   "metadata": {},
   "source": "## Statistical Anomaly Detection"
  },
  {
   "cell_type": "code",
   "execution_count": null,
   "metadata": {},
   "outputs": [],
   "source": [
    "# Identify outliers with CodeAgent\n",
    "lui(\n",
    "    \"Calculate Z-scores for transaction amounts and flag outliers. \"\n",
    "    \"Show top 10 anomalous transactions\",\n",
    "    agent=\"CodeAgent\",\n",
    ")"
   ]
  },
  {
   "cell_type": "markdown",
   "metadata": {},
   "source": "## Interactive Investigation Dashboard"
  },
  {
   "cell_type": "code",
   "execution_count": null,
   "metadata": {},
   "outputs": [],
   "source": [
    "# Create investigation interface\n",
    "lui(\n",
    "    \"Build an interactive timeline showing suspicious transactions \"\n",
    "    \"with filters for amount and user\",\n",
    "    agent=\"PerspectiveAgent\",\n",
    ")"
   ]
  },
  {
   "cell_type": "markdown",
   "metadata": {},
   "source": "## Risk Assessment"
  },
  {
   "cell_type": "code",
   "execution_count": null,
   "metadata": {},
   "outputs": [],
   "source": [
    "# Generate final risk scores combining all analysis\n",
    "lui(\n",
    "    \"Create comprehensive fraud risk scores using graph centrality, \"\n",
    "    \"statistical outliers, and transaction velocity\",\n",
    "    agent=\"TableAIAgent\",\n",
    ")\n",
    "\n",
    "print(\"✅ Complete fraud investigation using 4 specialized agents!\")"
   ]
  }
 ],
 "metadata": {
  "kernelspec": {
   "display_name": "Python 3",
   "language": "python",
   "name": "python3"
  },
  "language_info": {
   "codemirror_mode": {
    "name": "ipython",
    "version": 3
   },
   "file_extension": ".py",
   "mimetype": "text/x-python",
   "name": "python",
   "nbconvert_exporter": "python",
   "pygments_lexer": "ipython3",
   "version": "3.12.0"
  }
 },
 "nbformat": 4,
 "nbformat_minor": 4
}