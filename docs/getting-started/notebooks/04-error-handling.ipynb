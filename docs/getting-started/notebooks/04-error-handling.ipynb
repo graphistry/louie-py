{
 "cells": [
  {
   "cell_type": "markdown",
   "metadata": {},
   "source": [
    "# Error Handling and Recovery Patterns\n",
    "\n",
    "This notebook demonstrates robust error handling with the LouieAI notebook interface.\n",
    "\n",
    "**Topics covered:**\n",
    "- Handling authentication errors\n",
    "- Recovering from query failures\n",
    "- Dealing with missing data\n",
    "- Error inspection and debugging\n",
    "- Graceful fallbacks"
   ]
  },
  {
   "cell_type": "markdown",
   "metadata": {},
   "source": [
    "## 1. Setup with Error Handling"
   ]
  },
  {
   "cell_type": "code",
   "execution_count": null,
   "metadata": {},
   "outputs": [],
   "source": "import os\n\nimport pandas as pd\n\n# Demonstration: Handling missing credentials gracefully\ntry:\n    from louieai.notebook import lui\n\n    # Check credentials\n    if not os.environ.get('GRAPHISTRY_USERNAME'):\n        print(\"⚠️  No credentials found in environment\")\n        print(\"\\nTo use this notebook:\")\n        print(\"1. Set GRAPHISTRY_USERNAME and \"\n              \"GRAPHISTRY_PASSWORD environment variables\")\n        print(\"2. Restart the kernel\")\n        print(\"\\nExample:\")\n        print(\"export GRAPHISTRY_USERNAME=your_username\")\n        print(\"export GRAPHISTRY_PASSWORD=your_password\")\n    else:\n        print(\"✅ LouieAI ready with credentials\")\n        print(f\"User: {os.environ.get('GRAPHISTRY_USERNAME')}\")\n\nexcept ImportError as e:\n    print(f\"❌ Import error: {e}\")\n    print(\"\\nPlease install louieai: pip install louieai\")"
  },
  {
   "cell_type": "markdown",
   "metadata": {},
   "source": [
    "## 2. Handling Query Errors"
   ]
  },
  {
   "cell_type": "code",
   "execution_count": null,
   "metadata": {},
   "outputs": [],
   "source": "# Example: Handling various query scenarios\nfrom louieai.notebook.exceptions import (\n    AuthenticationError,\n    ConnectionError,\n    NotebookError,\n)\n\n\ndef safe_query(prompt, fallback_action=None):\n    \"\"\"Execute a query with comprehensive error handling.\"\"\"\n    try:\n        response = lui(prompt)\n\n        # Check for errors in response\n        if lui.has_errors:\n            print(\"⚠️  Query completed with errors:\")\n            for error in lui.errors:\n                print(f\"  - {error.get('message', 'Unknown error')}\")\n\n        return response\n\n    except AuthenticationError:\n        print(\"❌ Authentication failed\")\n        print(\"💡 Check your GRAPHISTRY_USERNAME and \"\n              \"GRAPHISTRY_PASSWORD environment variables\")\n\n    except ConnectionError as e:\n        print(f\"❌ Connection error: {e}\")\n        print(\"💡 Check your internet connection and server URL\")\n\n    except NotebookError as e:\n        print(f\"❌ Notebook error: {e}\")\n        if hasattr(e, 'suggestion') and e.suggestion:\n            print(f\"💡 {e.suggestion}\")\n\n    except Exception as e:\n        print(f\"❌ Unexpected error: {type(e).__name__}: {e}\")\n\n    # Execute fallback if provided\n    if fallback_action:\n        print(\"\\n🔄 Executing fallback action...\")\n        return fallback_action()\n\n    return None\n\n# Test the error handling\nprint(\"Testing query with error handling:\")\nsafe_query(\"Generate a simple test dataset with 5 rows\")"
  },
  {
   "cell_type": "markdown",
   "metadata": {},
   "source": [
    "## 3. Handling Missing Data Gracefully"
   ]
  },
  {
   "cell_type": "code",
   "execution_count": null,
   "metadata": {},
   "outputs": [],
   "source": [
    "# The lui interface returns None/empty instead of raising exceptions\n",
    "print(\"Demonstrating graceful missing data handling:\\n\")\n",
    "\n",
    "# Before any queries\n",
    "print(f\"lui.df before queries: {lui.df}\")\n",
    "print(f\"lui.dfs before queries: {lui.dfs}\")\n",
    "print(f\"lui.text before queries: {lui.text}\")\n",
    "print(f\"lui.elements before queries: {lui.elements}\")\n",
    "\n",
    "# Make a text-only query\n",
    "lui(\"What is the weather like today? Just describe it, no data.\")\n",
    "\n",
    "print(\"\\nAfter text-only query:\")\n",
    "print(f\"lui.df: {lui.df}\")  # None - no dataframe\n",
    "print(f\"lui.text: {lui.text[:50]}...\")  # Has text\n",
    "\n",
    "# Safe data access patterns\n",
    "def get_latest_data():\n",
    "    \"\"\"Get latest dataframe with fallback.\"\"\"\n",
    "    df = lui.df\n",
    "    if df is None:\n",
    "        print(\"No dataframe available, using empty DataFrame\")\n",
    "        return pd.DataFrame()\n",
    "    return df\n",
    "\n",
    "# This always works, never raises exception\n",
    "data = get_latest_data()\n",
    "print(f\"\\nData shape: {data.shape}\")"
   ]
  },
  {
   "cell_type": "markdown",
   "metadata": {},
   "source": [
    "## 4. Error Recovery Patterns"
   ]
  },
  {
   "cell_type": "code",
   "execution_count": null,
   "metadata": {},
   "outputs": [],
   "source": [
    "# Pattern 1: Retry with modifications\n",
    "def query_with_retry(prompt, max_retries=3):\n",
    "    \"\"\"Query with automatic retry on failure.\"\"\"\n",
    "    for attempt in range(max_retries):\n",
    "        try:\n",
    "            response = lui(prompt)\n",
    "            if not lui.has_errors:\n",
    "                return response\n",
    "\n",
    "            # If errors, modify prompt and retry\n",
    "            print(f\"Attempt {attempt + 1} had errors, retrying...\")\n",
    "            prompt = f\"Please try again: {prompt}\"\n",
    "\n",
    "        except Exception as e:\n",
    "            if attempt < max_retries - 1:\n",
    "                print(f\"Attempt {attempt + 1} failed: {e}\")\n",
    "                continue\n",
    "            else:\n",
    "                raise\n",
    "\n",
    "    return None\n",
    "\n",
    "# Pattern 2: Fallback to simpler query\n",
    "def query_with_fallback(complex_prompt, simple_prompt):\n",
    "    \"\"\"Try complex query, fall back to simple if needed.\"\"\"\n",
    "    try:\n",
    "        print(\"Trying complex query...\")\n",
    "        response = lui(complex_prompt)\n",
    "        if lui.df is not None:\n",
    "            return response\n",
    "    except Exception:\n",
    "        pass\n",
    "\n",
    "    print(\"Falling back to simple query...\")\n",
    "    return lui(simple_prompt)\n",
    "\n",
    "# Example usage\n",
    "query_with_fallback(\n",
    "    complex_prompt=\"Create a complex financial model with projections\",\n",
    "    simple_prompt=\"Create a simple table with 3 columns and 5 rows of sample data\"\n",
    ")\n",
    "\n",
    "if lui.df is not None:\n",
    "    print(f\"\\nGot data with shape: {lui.df.shape}\")\n",
    "    lui.df.head()"
   ]
  },
  {
   "cell_type": "markdown",
   "metadata": {},
   "source": [
    "## 5. Debugging and Error Inspection"
   ]
  },
  {
   "cell_type": "code",
   "execution_count": null,
   "metadata": {},
   "outputs": [],
   "source": [
    "# Enable traces for debugging\n",
    "print(\"Enabling traces for detailed debugging...\")\n",
    "lui.traces = True\n",
    "\n",
    "# Make a query that might have issues\n",
    "lui(\"Try to parse this invalid JSON: {name: 'test, value: 42}\")\n",
    "\n",
    "# Inspect errors if any\n",
    "if lui.has_errors:\n",
    "    print(\"\\n🔍 Error Details:\")\n",
    "    for i, error in enumerate(lui.errors, 1):\n",
    "        print(f\"\\nError {i}:\")\n",
    "        print(f\"  Message: {error.get('message')}\")\n",
    "        print(f\"  Type: {error.get('error_type')}\")\n",
    "        if error.get('traceback'):\n",
    "            print(f\"  Traceback: {error.get('traceback')[:200]}...\")\n",
    "\n",
    "# Turn traces back off\n",
    "lui.traces = False\n",
    "print(\"\\n✅ Traces disabled\")"
   ]
  },
  {
   "cell_type": "markdown",
   "metadata": {},
   "source": [
    "## 6. History-Based Recovery"
   ]
  },
  {
   "cell_type": "code",
   "execution_count": null,
   "metadata": {},
   "outputs": [],
   "source": [
    "# Use history to recover from errors\n",
    "def get_last_valid_dataframe():\n",
    "    \"\"\"Search history for last valid dataframe.\"\"\"\n",
    "    # Check current response first\n",
    "    if lui.df is not None:\n",
    "        return lui.df\n",
    "\n",
    "    # Search history\n",
    "    print(\"Current response has no dataframe, searching history...\")\n",
    "    for i in range(-1, -10, -1):  # Check last 10 responses\n",
    "        try:\n",
    "            historical = lui[i]\n",
    "            if historical.df is not None:\n",
    "                print(f\"Found dataframe in response {i}\")\n",
    "                return historical.df\n",
    "        except IndexError:\n",
    "            break\n",
    "\n",
    "    print(\"No dataframe found in recent history\")\n",
    "    return pd.DataFrame()\n",
    "\n",
    "# Make some queries\n",
    "lui(\"Create a dataset with product sales\")\n",
    "lui(\"Now just tell me about the weather\")  # No dataframe\n",
    "\n",
    "# Recover last valid dataframe\n",
    "df = get_last_valid_dataframe()\n",
    "print(f\"\\nRecovered dataframe shape: {df.shape}\")"
   ]
  },
  {
   "cell_type": "markdown",
   "metadata": {},
   "source": [
    "## 7. Batch Processing with Error Handling"
   ]
  },
  {
   "cell_type": "code",
   "execution_count": null,
   "metadata": {},
   "outputs": [],
   "source": [
    "# Process multiple queries with error tracking\n",
    "queries = [\n",
    "    \"Generate sales data for Q1\",\n",
    "    \"Generate sales data for Q2\",\n",
    "    \"Generate sales data for Q3\",\n",
    "    \"Generate sales data for Q4\"\n",
    "]\n",
    "\n",
    "results = []\n",
    "errors = []\n",
    "\n",
    "for query in queries:\n",
    "    try:\n",
    "        print(f\"Processing: {query}\")\n",
    "        lui(query)\n",
    "\n",
    "        if lui.df is not None:\n",
    "            results.append({\n",
    "                'query': query,\n",
    "                'rows': len(lui.df),\n",
    "                'columns': len(lui.df.columns),\n",
    "                'data': lui.df\n",
    "            })\n",
    "        else:\n",
    "            errors.append({\n",
    "                'query': query,\n",
    "                'error': 'No dataframe returned'\n",
    "            })\n",
    "\n",
    "    except Exception as e:\n",
    "        errors.append({\n",
    "            'query': query,\n",
    "            'error': str(e)\n",
    "        })\n",
    "\n",
    "# Summary\n",
    "print(\"\\n📊 Batch Processing Summary:\")\n",
    "print(f\"Successful: {len(results)}\")\n",
    "print(f\"Failed: {len(errors)}\")\n",
    "\n",
    "if results:\n",
    "    # Combine successful results\n",
    "    all_data = pd.concat([r['data'] for r in results], ignore_index=True)\n",
    "    print(f\"\\nCombined data shape: {all_data.shape}\")"
   ]
  },
  {
   "cell_type": "markdown",
   "metadata": {},
   "source": [
    "## 8. Custom Error Handlers"
   ]
  },
  {
   "cell_type": "code",
   "execution_count": null,
   "metadata": {},
   "outputs": [],
   "source": [
    "# Create custom error handling decorators\n",
    "from functools import wraps\n",
    "\n",
    "\n",
    "def handle_louie_errors(default_return=None):\n",
    "    \"\"\"Decorator for handling LouieAI errors gracefully.\"\"\"\n",
    "    def decorator(func):\n",
    "        @wraps(func)\n",
    "        def wrapper(*args, **kwargs):\n",
    "            try:\n",
    "                return func(*args, **kwargs)\n",
    "            except NotebookError as e:\n",
    "                print(f\"⚠️  {func.__name__} failed: {e}\")\n",
    "                return default_return\n",
    "            except Exception as e:\n",
    "                print(f\"❌ Unexpected error in {func.__name__}: {e}\")\n",
    "                return default_return\n",
    "        return wrapper\n",
    "    return decorator\n",
    "\n",
    "# Use the decorator\n",
    "@handle_louie_errors(default_return=pd.DataFrame({'error': ['No data available']}))\n",
    "def analyze_sales(region):\n",
    "    \"\"\"Analyze sales for a specific region.\"\"\"\n",
    "    lui(f\"Show sales data for {region} region\")\n",
    "    if lui.df is None:\n",
    "        raise NotebookError(f\"No data available for {region}\")\n",
    "    return lui.df\n",
    "\n",
    "# This won't crash even if it fails\n",
    "result = analyze_sales(\"North America\")\n",
    "print(f\"Result shape: {result.shape}\")\n",
    "result.head()"
   ]
  },
  {
   "cell_type": "markdown",
   "metadata": {},
   "source": [
    "## Best Practices Summary\n",
    "\n",
    "### 1. **Always Check for Data**\n",
    "```python\n",
    "if lui.df is not None:\n",
    "    # Process dataframe\n",
    "else:\n",
    "    # Handle missing data\n",
    "```\n",
    "\n",
    "### 2. **Use History for Recovery**\n",
    "```python\n",
    "# Access previous successful responses\n",
    "last_df = lui[-1].df or lui[-2].df or pd.DataFrame()\n",
    "```\n",
    "\n",
    "### 3. **Enable Traces for Debugging**\n",
    "```python\n",
    "lui.traces = True  # See AI reasoning\n",
    "# Debug your issue\n",
    "lui.traces = False  # Turn off for performance\n",
    "```\n",
    "\n",
    "### 4. **Check for Errors in Responses**\n",
    "```python\n",
    "if lui.has_errors:\n",
    "    for error in lui.errors:\n",
    "        print(error['message'])\n",
    "```\n",
    "\n",
    "### 5. **Implement Graceful Fallbacks**\n",
    "```python\n",
    "try:\n",
    "    complex_operation()\n",
    "except NotebookError:\n",
    "    simple_fallback()\n",
    "```"
   ]
  }
 ],
 "metadata": {
  "kernelspec": {
   "display_name": "Python 3",
   "language": "python",
   "name": "python3"
  },
  "language_info": {
   "codemirror_mode": {
    "name": "ipython",
    "version": 3
   },
   "file_extension": ".py",
   "mimetype": "text/x-python",
   "name": "python",
   "nbconvert_exporter": "python",
   "pygments_lexer": "ipython3",
   "version": "3.12.0"
  }
 },
 "nbformat": 4,
 "nbformat_minor": 4
}