{
 "cells": [
  {
   "cell_type": "markdown",
   "metadata": {},
   "source": "# Getting Started with LouieAI Notebook Interface\n\nThis notebook demonstrates the basic usage of the LouieAI notebook-friendly API (`lui`).\n\n## Authentication Requirements\n\nLouieAI uses PyGraphistry for authentication. Before running this notebook, you need:\n\n1. **PyGraphistry Account**: Sign up for free at [hub.graphistry.com](https://hub.graphistry.com)\n2. **Set Credentials**: Use one of these methods:\n\n   ```bash\n   # Option 1: Environment variables (recommended for notebooks)\n   export GRAPHISTRY_USERNAME=\"your_username\"\n   export GRAPHISTRY_PASSWORD=\"your_password\"\n   ```\n   \n   ```python\n   # Option 2: Authenticate in code\n   import graphistry\n   graphistry.register(api=3, server=\"hub.graphistry.com\", \n                      username=\"your_username\", password=\"your_password\")\n   ```\n\n## Setup\n\nFirst, make sure you have LouieAI installed and your credentials configured."
  },
  {
   "cell_type": "code",
   "execution_count": null,
   "metadata": {},
   "outputs": [],
   "source": [
    "import os\n",
    "\n",
    "# Check for credentials\n",
    "if not os.environ.get(\"GRAPHISTRY_USERNAME\"):\n",
    "    raise RuntimeError(\n",
    "        \"Please set GRAPHISTRY_USERNAME and GRAPHISTRY_PASSWORD \"\n",
    "        \"environment variables.\\n\"\n",
    "        \"Example: export GRAPHISTRY_USERNAME=your_username \"\n",
    "        \"GRAPHISTRY_PASSWORD=your_password\"\n",
    "    )\n",
    "\n",
    "# Import the notebook interface\n",
    "from louieai.notebook import lui\n",
    "\n",
    "# Display the interface status\n",
    "lui"
   ]
  },
  {
   "cell_type": "markdown",
   "metadata": {},
   "source": [
    "## Basic Queries\n",
    "\n",
    "Making queries with `lui` is simple - just call it like a function:"
   ]
  },
  {
   "cell_type": "code",
   "execution_count": null,
   "metadata": {},
   "outputs": [],
   "source": [
    "# Ask a simple question\n",
    "response = lui(\"What is the capital of France?\")\n",
    "\n",
    "# The response is automatically stored and accessible\n",
    "print(f\"Answer: {lui.text}\")"
   ]
  },
  {
   "cell_type": "markdown",
   "metadata": {},
   "source": [
    "## Working with Data\n",
    "\n",
    "LouieAI can generate and analyze data. Let's create a sample dataset:"
   ]
  },
  {
   "cell_type": "code",
   "execution_count": null,
   "metadata": {},
   "outputs": [],
   "source": [
    "# Request data generation\n",
    "lui(\n",
    "    \"Create a sample dataset of 10 products with columns: \"\n",
    "    \"product_name, category, price, units_sold\"\n",
    ")\n",
    "\n",
    "# Access the generated dataframe\n",
    "df = lui.df\n",
    "if df is not None:\n",
    "    print(f\"Generated DataFrame with shape: {df.shape}\")\n",
    "    print(\"\\nFirst few rows:\")\n",
    "    display(df.head())\n",
    "else:\n",
    "    print(\n",
    "        \"No dataframe was generated. Try asking for 'a table' \"\n",
    "        \"or 'dataframe' explicitly.\"\n",
    "    )"
   ]
  },
  {
   "cell_type": "markdown",
   "metadata": {},
   "source": [
    "## Analyzing Data\n",
    "\n",
    "Once you have data, you can ask questions about it:"
   ]
  },
  {
   "cell_type": "code",
   "execution_count": null,
   "metadata": {},
   "outputs": [],
   "source": [
    "# Analyze the data\n",
    "lui(\"What are the top 3 best-selling products? Show the results as a table.\")\n",
    "\n",
    "# Get the analysis results\n",
    "if lui.df is not None:\n",
    "    print(\"Top products:\")\n",
    "    display(lui.df)\n",
    "\n",
    "# The text explanation is also available\n",
    "print(f\"\\nExplanation: {lui.text}\")"
   ]
  },
  {
   "cell_type": "markdown",
   "source": "### Need more options?\n\nFor advanced upload patterns including BytesIO, PIL Images, and more, see the [Data Upload Guide](02-data-upload.ipynb).",
   "metadata": {}
  },
  {
   "cell_type": "markdown",
   "source": "## Uploading and Analyzing Your Own Data\n\nLouieAI supports uploading your own DataFrames, images, and documents for analysis:",
   "metadata": {}
  },
  {
   "cell_type": "code",
   "execution_count": null,
   "metadata": {},
   "outputs": [],
   "source": [
    "import numpy as np\n",
    "import pandas as pd\n",
    "\n",
    "# Create your own DataFrame (or load from CSV/Excel)\n",
    "my_data = pd.DataFrame(\n",
    "    {\n",
    "        \"date\": pd.date_range(\"2024-01-01\", periods=30, freq=\"D\"),\n",
    "        \"sales\": np.random.randn(30).cumsum() + 100,\n",
    "        \"visitors\": np.random.randint(50, 200, 30),\n",
    "        \"region\": np.random.choice([\"North\", \"South\", \"East\", \"West\"], 30),\n",
    "    }\n",
    ")\n",
    "\n",
    "print(\"Sample of your data:\")\n",
    "my_data.head()"
   ]
  },
  {
   "cell_type": "code",
   "execution_count": null,
   "metadata": {},
   "outputs": [],
   "source": [
    "# Analyze images\n",
    "# lui(\"What's in this image?\", \"chart.png\")\n",
    "# lui(\"Extract text from this screenshot\", \"screenshot.jpg\")\n",
    "\n",
    "# Analyze documents\n",
    "# lui(\"Summarize this document\", \"report.pdf\")\n",
    "# lui(\"Extract key points from this presentation\", \"slides.pptx\")\n",
    "\n",
    "# The AI will process your files and provide analysis\n",
    "# print(\"Analysis:\", lui.text)"
   ]
  },
  {
   "cell_type": "markdown",
   "metadata": {},
   "source": "### Loading Data from Files\n\nYou can also load and analyze data from CSV, Excel, or other formats:"
  },
  {
   "cell_type": "markdown",
   "metadata": {},
   "source": "### Different Ways to Upload DataFrames\n\nThere are several patterns for uploading DataFrames:"
  },
  {
   "cell_type": "code",
   "execution_count": null,
   "metadata": {},
   "outputs": [],
   "source": [
    "# Upload and analyze your DataFrame with natural language\n",
    "lui(\"What are the key trends and patterns in this sales data?\", my_data)\n",
    "\n",
    "# The AI analyzes YOUR data\n",
    "print(\"Analysis:\", lui.text)\n",
    "\n",
    "# Access any returned visualizations or processed data\n",
    "if lui.df is not None:\n",
    "    print(\"\\nProcessed results:\")\n",
    "    display(lui.df)"
   ]
  },
  {
   "cell_type": "markdown",
   "metadata": {},
   "source": [
    "## Session History\n",
    "\n",
    "The `lui` interface maintains a history of your interactions:"
   ]
  },
  {
   "cell_type": "markdown",
   "metadata": {},
   "source": [
    "## Enabling Traces\n",
    "\n",
    "For complex queries, you might want to see the AI's reasoning process:"
   ]
  },
  {
   "cell_type": "markdown",
   "metadata": {},
   "source": [
    "## Error Handling\n",
    "\n",
    "The interface handles errors gracefully:"
   ]
  },
  {
   "cell_type": "markdown",
   "metadata": {},
   "source": [
    "## Tips and Tricks\n",
    "\n",
    "Here are some helpful patterns for using the notebook interface:"
   ]
  },
  {
   "cell_type": "code",
   "source": "# Enable traces for the session\nlui.traces = True\n\n# Now queries will show reasoning steps\nlui(\n    \"Calculate the total revenue from the products data and \"\n    \"identify which category contributes most\"\n)\n\n# Disable traces\nlui.traces = False\n\n# Or enable traces for just one query\nlui(\"What's the average price by category?\", traces=True)",
   "metadata": {},
   "execution_count": null,
   "outputs": []
  },
  {
   "cell_type": "markdown",
   "metadata": {},
   "source": "# Upload images and documents for analysis\n# lui(\"What's in this image?\", \"chart.png\")\n# lui(\"Summarize this document\", \"report.pdf\")\n\n# Or pass data directly\n# lui(\"Analyze this data\", my_dataframe)\n# lui(\"What do you see?\", image_bytes)"
  }
 ],
 "metadata": {
  "kernelspec": {
   "display_name": "Python 3",
   "language": "python",
   "name": "python3"
  },
  "language_info": {
   "codemirror_mode": {
    "name": "ipython",
    "version": 3
   },
   "file_extension": ".py",
   "mimetype": "text/x-python",
   "name": "python",
   "nbconvert_exporter": "python",
   "pygments_lexer": "ipython3",
   "version": "3.8.0"
  }
 },
 "nbformat": 4,
 "nbformat_minor": 4
}