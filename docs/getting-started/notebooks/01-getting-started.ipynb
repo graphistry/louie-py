{
 "cells": [
  {
   "cell_type": "markdown",
   "id": "1e9db8de",
   "metadata": {},
   "source": [
    "# Getting Started with LouieAI Notebook Interface\n",
    "\n",
    "This notebook demonstrates the basic usage of the LouieAI notebook-friendly API (`lui`).\n",
    "\n",
    "## Authentication Requirements\n",
    "\n",
    "LouieAI uses PyGraphistry for authentication. Before running this notebook, you need:\n",
    "\n",
    "1. **PyGraphistry Account**: Sign up for free at [hub.graphistry.com](https://hub.graphistry.com)\n",
    "2. **Set Credentials**: Use one of these methods:\n",
    "\n",
    "   ```bash\n",
    "   # Option 1: Environment variables (recommended for notebooks)\n",
    "   export GRAPHISTRY_USERNAME=\"your_username\"\n",
    "   export GRAPHISTRY_PASSWORD=\"your_password\"\n",
    "   ```\n",
    "   \n",
    "   ```python\n",
    "   # Option 2: Authenticate in code\n",
    "   import graphistry\n",
    "   graphistry.register(api=3, server=\"hub.graphistry.com\", \n",
    "                      username=\"your_username\", password=\"your_password\")\n",
    "   ```\n",
    "\n",
    "## Setup\n",
    "\n",
    "First, make sure you have LouieAI installed and your credentials configured."
   ]
  },
  {
   "cell_type": "code",
   "execution_count": 1,
   "id": "fdb0cef5",
   "metadata": {
    "execution": {
     "iopub.execute_input": "2025-08-16T17:05:08.847763Z",
     "iopub.status.busy": "2025-08-16T17:05:08.847383Z",
     "iopub.status.idle": "2025-08-16T17:05:09.934598Z",
     "shell.execute_reply": "2025-08-16T17:05:09.934158Z"
    }
   },
   "outputs": [
    {
     "data": {
      "text/html": [
       "<div style='border: 1px solid #ddd; padding: 10px; border-radius: 5px; margin-bottom: 10px;'>\n",
       "<h4 style='margin-top: 0;'>🤖 LouieAI Session</h4>\n",
       "<hr style='margin: 10px 0;'>\n",
       "<p style='margin: 5px 0; font-size: 0.9em;'>⚪ <b>Session:</b> Not started (use <code>lui('your query')</code>)</p>\n",
       "<p style='margin: 5px 0; font-size: 0.9em;'>📚 <b>History:</b> 0 responses\n",
       "</p>\n",
       "<p style='margin: 5px 0; font-size: 0.9em;'>🔍 <b>Traces:</b> Disabled (use <code>lui.traces = True</code> to enable)</p>\n",
       "<details><summary><b>Quick Help</b> (click to expand)</summary>\n",
       "<pre style='margin: 10px 0; padding: 10px; background: #f5f5f5;'>\n",
       "# Make a query\n",
       "\n",
       "lui('Show me sales data from last week')\n",
       "\n",
       "\n",
       "# Control visibility\n",
       "\n",
       "lui('query', share_mode='Private')       # Default: only you\n",
       "\n",
       "lui('query', share_mode='Organization')  # Share within org\n",
       "\n",
       "lui('query', share_mode='Public')        # Share publicly\n",
       "\n",
       "\n",
       "# Access results\n",
       "\n",
       "df = lui.df          # Latest dataframe\n",
       "\n",
       "text = lui.text      # Latest text response\n",
       "\n",
       "all_dfs = lui.dfs    # All dataframes\n",
       "\n",
       "\n",
       "# History\n",
       "\n",
       "lui[-1].df           # Previous response's dataframe\n",
       "\n",
       "\n",
       "# Traces (AI reasoning)\n",
       "\n",
       "lui.traces = True    # Enable for session\n",
       "\n",
       "lui('query', traces=True)  # Enable for one query\n",
       "</pre>\n",
       "</details>\n",
       "</div>"
      ],
      "text/plain": [
       "<LouieAI Notebook Interface | Session: Not started | History: 0 responses | Traces: Disabled>"
      ]
     },
     "execution_count": 1,
     "metadata": {},
     "output_type": "execute_result"
    }
   ],
   "source": [
    "import os\n",
    "\n",
    "import graphistry\n",
    "\n",
    "from louieai import louie  # Factory function to create Louie interface\n",
    "\n",
    "# Authenticate with Graphistry\n",
    "# Uses GRAPHISTRY_USERNAME and GRAPHISTRY_PASSWORD from environment\n",
    "g = graphistry.register(\n",
    "    api=3,\n",
    "    server=os.environ.get(\"GRAPHISTRY_SERVER\", \"hub.graphistry.com\"),\n",
    "    username=os.environ.get(\"GRAPHISTRY_USERNAME\"),\n",
    "    password=os.environ.get(\"GRAPHISTRY_PASSWORD\"),\n",
    ")\n",
    "\n",
    "# Configure Louie server URL\n",
    "# Default to production server, or set LOUIE_SERVER env var for custom\n",
    "# Examples:\n",
    "#   export LOUIE_SERVER=\"http://localhost:8000\"  # Local development\n",
    "#   export LOUIE_SERVER=\"https://den.louie.ai\"    # Production (default)\n",
    "LOUIE_SERVER_URL = os.environ.get(\"LOUIE_SERVER\", \"https://den.louie.ai\")\n",
    "\n",
    "# Create the Louie interface\n",
    "lui = louie(g, server_url=LOUIE_SERVER_URL)\n",
    "\n",
    "lui  # Display status"
   ]
  },
  {
   "cell_type": "markdown",
   "id": "feb998d0",
   "metadata": {},
   "source": [
    "## Basic Queries\n",
    "\n",
    "Making queries with `lui` is simple - just call it like a function:"
   ]
  },
  {
   "cell_type": "code",
   "execution_count": 2,
   "id": "2b2e6f64",
   "metadata": {
    "execution": {
     "iopub.execute_input": "2025-08-16T17:05:09.936048Z",
     "iopub.status.busy": "2025-08-16T17:05:09.935837Z",
     "iopub.status.idle": "2025-08-16T17:05:17.387784Z",
     "shell.execute_reply": "2025-08-16T17:05:17.387475Z"
    }
   },
   "outputs": [
    {
     "data": {
      "text/html": [
       "<div style='border: 1px solid #ddd; padding: 15px; border-radius: 5px;'><h4 style='margin-top: 0;'>🤖 LouieAI Response</h4><div style='font-size: 0.8em; color: #666; margin-bottom: 10px;'>Thread: <code>D_ses6pOxO6YtOvFO9FLRW</code> | Time: 7.4s</div><div style='margin-top: 10px;'><div id='B_eW7oqNO_'>The question is straightforward and doesn't require any tools or complex calculations. <br></div></div></div>"
      ],
      "text/plain": [
       "<IPython.core.display.HTML object>"
      ]
     },
     "metadata": {},
     "output_type": "display_data"
    },
    {
     "name": "stdout",
     "output_type": "stream",
     "text": [
      "Answer: The question is straightforward and doesn't require any tools or complex calculations. \n",
      "\n"
     ]
    }
   ],
   "source": [
    "# Ask a simple question\n",
    "response = lui(\"What is 2 + 2?\")\n",
    "\n",
    "# The response is automatically stored and accessible\n",
    "print(f\"Answer: {lui.text}\")"
   ]
  },
  {
   "cell_type": "markdown",
   "id": "8191d818",
   "metadata": {},
   "source": [
    "## Working with Data\n",
    "\n",
    "LouieAI can generate and analyze data. Let's create a sample dataset:"
   ]
  },
  {
   "cell_type": "code",
   "execution_count": 3,
   "id": "480a9a58",
   "metadata": {
    "execution": {
     "iopub.execute_input": "2025-08-16T17:05:17.388872Z",
     "iopub.status.busy": "2025-08-16T17:05:17.388747Z",
     "iopub.status.idle": "2025-08-16T17:05:45.367437Z",
     "shell.execute_reply": "2025-08-16T17:05:45.367105Z"
    }
   },
   "outputs": [
    {
     "data": {
      "text/html": [
       "<div style='border: 1px solid #ddd; padding: 15px; border-radius: 5px;'><h4 style='margin-top: 0;'>🤖 LouieAI Response</h4><div style='font-size: 0.8em; color: #666; margin-bottom: 10px;'>Thread: <code>D_ses6pOxO6YtOvFO9FLRW</code> | Time: 26.2s</div><div style='margin-top: 10px;'><div id='B_IQYzLoQJ'>The task is to generate a pandas DataFrame with 3 rows and columns for name, age, and city. I will use the CodeAgent to create this DataFrame.<br><br>Plan:<br>1. Use the CodeAgent to generate a pandas DataFrame with the specified columns and rows.<br>2. Ensure the DataFrame is correctly formatted and contains the required data.<br><br>CodeAgent<br>Generate a pandas DataFrame with 3 rows and columns: name, age, city. Fill it with example data.<br>I successfully generated a pandas DataFrame with 3 rows and columns: name, age, and city. The DataFrame contains the following example data:<br><br>- Names: Alice, Bob, Charlie<br>- Ages: 25, 30, 35<br>- Cities: New York, Los Angeles, Chicago<br><br>The DataFrame was saved as an artifact named \"people_data.\" If you need further assistance or want</div><div id='B_REKn1Tsc'><div style='color: gray;'>[CallElement] Generate a pandas DataFrame with 3 rows and columns: name, age, city. Fill it with example data.\n",
       "</div></div><div id='B_ez6kLBq4'>```python<br>import pandas as pd<br><br># Create a dictionary with the data<br>data = {<br>    'name': ['Alice', 'Bob', 'Charlie'],<br>    'age': [25, 30, 35],<br>    'city': ['New York', 'Los Angeles', 'Chicago']<br>}<br><br># Convert the dictionary into a pandas DataFrame<br>df = pd.DataFrame(data)<br><br># Save the DataFrame as an artifact<br>save_artifact(df, 'people_data')<br><br># Print the DataFrame to verify its contents<br>print(df)<br><br>print('Success: DataFrame created and saved as an</div><div id='B_bayl6F0p'><div style='background: #f0f0f0; padding: 5px; margin: 5px 0;'>📊 DataFrame: B_bayl6F0p (shape: 3 x 3)</div></div><div id='B_0KAfjeQh'>The task to generate a pandas DataFrame with 3 rows and columns: name, age, and city has been successfully completed. The DataFrame was created with the following example data: names \"Alice,\" \"Bob,\" and \"Charlie,\" ages 25, 30, and 35, and cities \"New York,\" \"Los Angeles,\" and \"Chicago.\" The DataFrame was saved as an artifact named \"people_data,\" and the process was executed efficiently, completing in approximately 0.1 seconds. This demonstrates the capability to quickly generate and store structured data using pandas, which is useful for data analysis and manipulation tasks.</div></div></div>"
      ],
      "text/plain": [
       "<IPython.core.display.HTML object>"
      ]
     },
     "metadata": {},
     "output_type": "display_data"
    },
    {
     "name": "stdout",
     "output_type": "stream",
     "text": [
      "Generated DataFrame with shape: (3, 3)\n",
      "\n",
      "DataFrame contents:\n"
     ]
    },
    {
     "data": {
      "text/html": [
       "<div>\n",
       "<style scoped>\n",
       "    .dataframe tbody tr th:only-of-type {\n",
       "        vertical-align: middle;\n",
       "    }\n",
       "\n",
       "    .dataframe tbody tr th {\n",
       "        vertical-align: top;\n",
       "    }\n",
       "\n",
       "    .dataframe thead th {\n",
       "        text-align: right;\n",
       "    }\n",
       "</style>\n",
       "<table border=\"1\" class=\"dataframe\">\n",
       "  <thead>\n",
       "    <tr style=\"text-align: right;\">\n",
       "      <th></th>\n",
       "      <th>name</th>\n",
       "      <th>age</th>\n",
       "      <th>city</th>\n",
       "    </tr>\n",
       "  </thead>\n",
       "  <tbody>\n",
       "    <tr>\n",
       "      <th>0</th>\n",
       "      <td>Alice</td>\n",
       "      <td>25</td>\n",
       "      <td>New York</td>\n",
       "    </tr>\n",
       "    <tr>\n",
       "      <th>1</th>\n",
       "      <td>Bob</td>\n",
       "      <td>30</td>\n",
       "      <td>Los Angeles</td>\n",
       "    </tr>\n",
       "    <tr>\n",
       "      <th>2</th>\n",
       "      <td>Charlie</td>\n",
       "      <td>35</td>\n",
       "      <td>Chicago</td>\n",
       "    </tr>\n",
       "  </tbody>\n",
       "</table>\n",
       "</div>"
      ],
      "text/plain": [
       "      name  age         city\n",
       "0    Alice   25     New York\n",
       "1      Bob   30  Los Angeles\n",
       "2  Charlie   35      Chicago"
      ]
     },
     "metadata": {},
     "output_type": "display_data"
    }
   ],
   "source": [
    "# Use the exact working prompt from our test\n",
    "lui(\"Generate a pandas dataframe with 3 rows: name, age, city columns\")\n",
    "\n",
    "# Access the generated dataframe\n",
    "df = lui.df\n",
    "if df is not None:\n",
    "    print(f\"Generated DataFrame with shape: {df.shape}\")\n",
    "    print(\"\\nDataFrame contents:\")\n",
    "    display(df)\n",
    "else:\n",
    "    print(\"No dataframe was generated. Let's try a different approach.\")\n",
    "    print(f\"Response text: {lui.text}\")\n",
    "    \n",
    "    # Try alternate approach\n",
    "    lui(\"Create a table with 3 products: name, price, quantity\")\n",
    "    if lui.df is not None:\n",
    "        print(f\"\\nSecond attempt successful! Shape: {lui.df.shape}\")\n",
    "        display(lui.df)"
   ]
  },
  {
   "cell_type": "markdown",
   "id": "ba207adc",
   "metadata": {},
   "source": [
    "## Analyzing Data\n",
    "\n",
    "Once you have data, you can ask questions about it:"
   ]
  },
  {
   "cell_type": "code",
   "execution_count": 4,
   "id": "c178e715",
   "metadata": {
    "execution": {
     "iopub.execute_input": "2025-08-16T17:05:45.368778Z",
     "iopub.status.busy": "2025-08-16T17:05:45.368563Z",
     "iopub.status.idle": "2025-08-16T17:05:50.893757Z",
     "shell.execute_reply": "2025-08-16T17:05:50.893483Z"
    }
   },
   "outputs": [
    {
     "data": {
      "text/html": [
       "<div style='border: 1px solid #ddd; padding: 15px; border-radius: 5px;'><h4 style='margin-top: 0;'>🤖 LouieAI Response</h4><div style='font-size: 0.8em; color: #666; margin-bottom: 10px;'>Thread: <code>D_ses6pOxO6YtOvFO9FLRW</code> | Time: 5.5s</div><div style='margin-top: 10px;'><div id='B_msZNAWTh'>The shape of the dataframe is (3, 3), which means it has</div></div></div>"
      ],
      "text/plain": [
       "<IPython.core.display.HTML object>"
      ]
     },
     "metadata": {},
     "output_type": "display_data"
    },
    {
     "name": "stdout",
     "output_type": "stream",
     "text": [
      "Answer: The shape of the dataframe is (3, 3), which means it has\n"
     ]
    }
   ],
   "source": [
    "# Simple analysis using the dataframe we just created\n",
    "lui(\"What is the shape of the dataframe?\")\n",
    "\n",
    "# The text explanation is available\n",
    "print(f\"Answer: {lui.text}\")\n",
    "\n",
    "# If a dataframe is returned, display it\n",
    "if lui.df is not None:\n",
    "    print(\"\\nReturned data:\")\n",
    "    display(lui.df)"
   ]
  },
  {
   "cell_type": "markdown",
   "id": "9d497178",
   "metadata": {},
   "source": [
    "### Need more options?\n",
    "\n",
    "For advanced upload patterns including BytesIO, PIL Images, and more, see the [Data Upload Guide](02-data-upload.ipynb)."
   ]
  },
  {
   "cell_type": "markdown",
   "id": "1e27f7f0",
   "metadata": {},
   "source": [
    "## Uploading and Analyzing Your Own Data\n",
    "\n",
    "LouieAI supports uploading your own DataFrames, images, and documents for analysis:"
   ]
  },
  {
   "cell_type": "code",
   "execution_count": 5,
   "id": "df0bd045",
   "metadata": {
    "execution": {
     "iopub.execute_input": "2025-08-16T17:05:50.894855Z",
     "iopub.status.busy": "2025-08-16T17:05:50.894724Z",
     "iopub.status.idle": "2025-08-16T17:05:50.904407Z",
     "shell.execute_reply": "2025-08-16T17:05:50.904162Z"
    }
   },
   "outputs": [
    {
     "name": "stdout",
     "output_type": "stream",
     "text": [
      "Sample of your data:\n"
     ]
    },
    {
     "data": {
      "text/html": [
       "<div>\n",
       "<style scoped>\n",
       "    .dataframe tbody tr th:only-of-type {\n",
       "        vertical-align: middle;\n",
       "    }\n",
       "\n",
       "    .dataframe tbody tr th {\n",
       "        vertical-align: top;\n",
       "    }\n",
       "\n",
       "    .dataframe thead th {\n",
       "        text-align: right;\n",
       "    }\n",
       "</style>\n",
       "<table border=\"1\" class=\"dataframe\">\n",
       "  <thead>\n",
       "    <tr style=\"text-align: right;\">\n",
       "      <th></th>\n",
       "      <th>date</th>\n",
       "      <th>sales</th>\n",
       "      <th>visitors</th>\n",
       "      <th>region</th>\n",
       "    </tr>\n",
       "  </thead>\n",
       "  <tbody>\n",
       "    <tr>\n",
       "      <th>0</th>\n",
       "      <td>2024-01-01</td>\n",
       "      <td>100.858849</td>\n",
       "      <td>59</td>\n",
       "      <td>South</td>\n",
       "    </tr>\n",
       "    <tr>\n",
       "      <th>1</th>\n",
       "      <td>2024-01-02</td>\n",
       "      <td>102.608532</td>\n",
       "      <td>162</td>\n",
       "      <td>East</td>\n",
       "    </tr>\n",
       "    <tr>\n",
       "      <th>2</th>\n",
       "      <td>2024-01-03</td>\n",
       "      <td>102.897474</td>\n",
       "      <td>110</td>\n",
       "      <td>East</td>\n",
       "    </tr>\n",
       "    <tr>\n",
       "      <th>3</th>\n",
       "      <td>2024-01-04</td>\n",
       "      <td>101.881075</td>\n",
       "      <td>172</td>\n",
       "      <td>East</td>\n",
       "    </tr>\n",
       "    <tr>\n",
       "      <th>4</th>\n",
       "      <td>2024-01-05</td>\n",
       "      <td>103.439794</td>\n",
       "      <td>185</td>\n",
       "      <td>East</td>\n",
       "    </tr>\n",
       "  </tbody>\n",
       "</table>\n",
       "</div>"
      ],
      "text/plain": [
       "        date       sales  visitors region\n",
       "0 2024-01-01  100.858849        59  South\n",
       "1 2024-01-02  102.608532       162   East\n",
       "2 2024-01-03  102.897474       110   East\n",
       "3 2024-01-04  101.881075       172   East\n",
       "4 2024-01-05  103.439794       185   East"
      ]
     },
     "execution_count": 5,
     "metadata": {},
     "output_type": "execute_result"
    }
   ],
   "source": [
    "import numpy as np\n",
    "import pandas as pd\n",
    "\n",
    "# Create your own DataFrame (or load from CSV/Excel)\n",
    "my_data = pd.DataFrame(\n",
    "    {\n",
    "        \"date\": pd.date_range(\"2024-01-01\", periods=30, freq=\"D\"),\n",
    "        \"sales\": np.random.randn(30).cumsum() + 100,\n",
    "        \"visitors\": np.random.randint(50, 200, 30),\n",
    "        \"region\": np.random.choice([\"North\", \"South\", \"East\", \"West\"], 30),\n",
    "    }\n",
    ")\n",
    "\n",
    "print(\"Sample of your data:\")\n",
    "my_data.head()"
   ]
  },
  {
   "cell_type": "code",
   "execution_count": 6,
   "id": "1f66a6df",
   "metadata": {
    "execution": {
     "iopub.execute_input": "2025-08-16T17:05:50.905373Z",
     "iopub.status.busy": "2025-08-16T17:05:50.905276Z",
     "iopub.status.idle": "2025-08-16T17:05:50.906803Z",
     "shell.execute_reply": "2025-08-16T17:05:50.906581Z"
    }
   },
   "outputs": [],
   "source": [
    "# Analyze images\n",
    "# lui(\"What's in this image?\", \"chart.png\")\n",
    "# lui(\"Extract text from this screenshot\", \"screenshot.jpg\")\n",
    "\n",
    "# Analyze documents\n",
    "# lui(\"Summarize this document\", \"report.pdf\")\n",
    "# lui(\"Extract key points from this presentation\", \"slides.pptx\")\n",
    "\n",
    "# The AI will process your files and provide analysis\n",
    "# print(\"Analysis:\", lui.text)"
   ]
  },
  {
   "cell_type": "markdown",
   "id": "abb4a015",
   "metadata": {},
   "source": [
    "### Loading Data from Files\n",
    "\n",
    "You can also load and analyze data from CSV, Excel, or other formats:"
   ]
  },
  {
   "cell_type": "code",
   "execution_count": 7,
   "id": "e66159eb",
   "metadata": {
    "execution": {
     "iopub.execute_input": "2025-08-16T17:05:50.907692Z",
     "iopub.status.busy": "2025-08-16T17:05:50.907602Z",
     "iopub.status.idle": "2025-08-16T17:05:50.909052Z",
     "shell.execute_reply": "2025-08-16T17:05:50.908822Z"
    }
   },
   "outputs": [],
   "source": [
    "# Load data from CSV\n",
    "# df = pd.read_csv('sales_data.csv')\n",
    "# lui(\"Find patterns in this sales data\", df)\n",
    "\n",
    "# Load from Excel\n",
    "# df = pd.read_excel('report.xlsx', sheet_name='Sales')\n",
    "# lui(\"What are the key insights?\", df)\n",
    "\n",
    "# The data is now uploaded and analyzed by LouieAI\n",
    "# print(\"Analysis:\", lui.text)"
   ]
  },
  {
   "cell_type": "code",
   "execution_count": 8,
   "id": "3bed216e",
   "metadata": {
    "execution": {
     "iopub.execute_input": "2025-08-16T17:05:50.909921Z",
     "iopub.status.busy": "2025-08-16T17:05:50.909833Z",
     "iopub.status.idle": "2025-08-16T17:05:53.342028Z",
     "shell.execute_reply": "2025-08-16T17:05:53.341703Z"
    }
   },
   "outputs": [
    {
     "name": "stdout",
     "output_type": "stream",
     "text": [
      "Analysis: How many rows are in this sales data?\n"
     ]
    }
   ],
   "source": [
    "# Upload and analyze your DataFrame with a simple question\n",
    "lui(\"How many rows are in this sales data?\", my_data)\n",
    "\n",
    "# The AI analyzes YOUR data\n",
    "print(\"Analysis:\", lui.text)\n",
    "\n",
    "# Access any returned visualizations or processed data\n",
    "if lui.df is not None:\n",
    "    print(\"\\nProcessed results:\")\n",
    "    display(lui.df)"
   ]
  },
  {
   "cell_type": "markdown",
   "id": "15885e22",
   "metadata": {},
   "source": [
    "## Session History\n",
    "\n",
    "The `lui` interface maintains a history of your interactions:"
   ]
  },
  {
   "cell_type": "code",
   "execution_count": 9,
   "id": "676f2a36",
   "metadata": {
    "execution": {
     "iopub.execute_input": "2025-08-16T17:05:53.343187Z",
     "iopub.status.busy": "2025-08-16T17:05:53.343063Z",
     "iopub.status.idle": "2025-08-16T17:05:53.345079Z",
     "shell.execute_reply": "2025-08-16T17:05:53.344793Z"
    }
   },
   "outputs": [
    {
     "name": "stdout",
     "output_type": "stream",
     "text": [
      "Total interactions: 4\n"
     ]
    }
   ],
   "source": [
    "# Access previous responses by index\n",
    "# lui[-1]  # Last response\n",
    "# lui[-2]  # Second to last response\n",
    "\n",
    "# Check the number of interactions\n",
    "print(f\"Total interactions: {len(lui._history)}\")"
   ]
  },
  {
   "cell_type": "markdown",
   "id": "8050f3dc",
   "metadata": {},
   "source": [
    "## Enabling Traces\n",
    "\n",
    "For complex queries, you might want to see the AI's reasoning process:"
   ]
  },
  {
   "cell_type": "code",
   "execution_count": 10,
   "id": "a72cbbd2",
   "metadata": {
    "execution": {
     "iopub.execute_input": "2025-08-16T17:05:53.346177Z",
     "iopub.status.busy": "2025-08-16T17:05:53.346048Z",
     "iopub.status.idle": "2025-08-16T17:06:06.034113Z",
     "shell.execute_reply": "2025-08-16T17:06:06.033820Z"
    }
   },
   "outputs": [
    {
     "data": {
      "text/html": [
       "<div style='border: 1px solid #ddd; padding: 15px; border-radius: 5px;'><h4 style='margin-top: 0;'>🤖 LouieAI Response</h4><div style='font-size: 0.8em; color: #666; margin-bottom: 10px;'>Thread: <code>D_ses6pOxO6YtOvFO9FLRW</code> | Time: 5.9s</div><div style='margin-top: 10px;'><div id='B_uE0kSVqa'><div style='color: #0066cc; font-family: monospace; font-size: 0.9em;'>i LouieAgent::runner</div></div><div id='B_LduEF1uY'><div style='color: #666; font-family: monospace; font-size: 0.9em;'>🐛 Input text:::What is the sum of 1 to 10?</div></div><div id='B_WrYEZmwn'><div style='color: #666; font-family: monospace; font-size: 0.9em;'>🐛 Reading chat history. (is_prepared: True)</div></div><div id='B_25gBCfsI'><div style='color: #666; font-family: monospace; font-size: 0.9em;'>🐛 LouieAgent predict with tools: ['GraphAgent', 'CodeAgent', 'TableAIAgent', 'FirecrawlAgent', 'NotebookAgent', 'DatabricksAgent', 'MermaidAgent', 'PerspectiveAgent', 'OpenSearchAgent', 'KeplerAgent', 'SpannerAgent', 'SpannerPassthroughAgent', 'KustoAgent', 'KustoPassthroughAgent', 'PostgresAgent', 'PostgresPassthroughAgent', 'Done', 'Chat'] has_recipes: True has_examples: True</div></div><div id='B_73uhwCN0'>The sum of the numbers from 1 to </div><div id='B_U5yXLEqf'><div style='color: #0066cc; font-family: monospace; font-size: 0.9em;'>i Louie output text: The sum of the numbers from 1 to 10 is 55.</div></div></div></div>"
      ],
      "text/plain": [
       "<IPython.core.display.HTML object>"
      ]
     },
     "metadata": {},
     "output_type": "display_data"
    },
    {
     "data": {
      "text/html": [
       "<div style='border: 1px solid #ddd; padding: 10px; border-radius: 5px; margin-bottom: 10px;'>\n",
       "<h4 style='margin-top: 0;'>🤖 LouieAI Session</h4>\n",
       "<hr style='margin: 10px 0;'>\n",
       "<p style='margin: 5px 0; font-size: 0.9em;'>✅ <b>Session:</b> Active | <b>Thread ID:</b> <code>D_ses6pOxO6YtOvFO9FLRW</code> | <a href='http://localhost:8000/?dthread=D_ses6pOxO6YtOvFO9FLRW' target='_blank'>View Thread ↗</a> | <b>Org:</b> all-users</p>\n",
       "<p style='margin: 5px 0; font-size: 0.9em;'>📚 <b>History:</b> 6 responses\n",
       " (access with <code>lui[-1]</code>, <code>lui[-2]</code>, etc.)</p>\n",
       "<p style='margin: 5px 0; font-size: 0.9em;'>🔍 <b>Traces:</b> Disabled (use <code>lui.traces = True</code> to enable)</p>\n",
       "<p><b>Latest Response:</b></p>\n",
       "<ul style='margin: 5px 0;'>\n",
       "<li>1 text element(s) - access with <code>lui.text</code> or <code>lui.texts</code></li>\n",
       "</ul>\n",
       "<details><summary><b>Quick Help</b> (click to expand)</summary>\n",
       "<pre style='margin: 10px 0; padding: 10px; background: #f5f5f5;'>\n",
       "# Make a query\n",
       "\n",
       "lui('Show me sales data from last week')\n",
       "\n",
       "\n",
       "# Control visibility\n",
       "\n",
       "lui('query', share_mode='Private')       # Default: only you\n",
       "\n",
       "lui('query', share_mode='Organization')  # Share within org\n",
       "\n",
       "lui('query', share_mode='Public')        # Share publicly\n",
       "\n",
       "\n",
       "# Access results\n",
       "\n",
       "df = lui.df          # Latest dataframe\n",
       "\n",
       "text = lui.text      # Latest text response\n",
       "\n",
       "all_dfs = lui.dfs    # All dataframes\n",
       "\n",
       "\n",
       "# History\n",
       "\n",
       "lui[-1].df           # Previous response's dataframe\n",
       "\n",
       "\n",
       "# Traces (AI reasoning)\n",
       "\n",
       "lui.traces = True    # Enable for session\n",
       "\n",
       "lui('query', traces=True)  # Enable for one query\n",
       "</pre>\n",
       "</details>\n",
       "</div>"
      ],
      "text/plain": [
       "<LouieAI Notebook Interface | Session: Active | History: 6 responses | Traces: Disabled | Latest: 1 text>"
      ]
     },
     "execution_count": 10,
     "metadata": {},
     "output_type": "execute_result"
    }
   ],
   "source": [
    "# Enable traces for the session\n",
    "lui.traces = True\n",
    "\n",
    "# Now queries will show reasoning steps\n",
    "lui(\"What is 100 + 50?\")\n",
    "\n",
    "# Disable traces\n",
    "lui.traces = False\n",
    "\n",
    "# Or enable traces for just one query\n",
    "lui(\"What is the sum of 1 to 10?\", traces=True)"
   ]
  },
  {
   "cell_type": "markdown",
   "id": "2b3dd3c0",
   "metadata": {},
   "source": [
    "## Error Handling\n",
    "\n",
    "The interface handles errors gracefully:"
   ]
  },
  {
   "cell_type": "code",
   "execution_count": 11,
   "id": "2563848c",
   "metadata": {
    "execution": {
     "iopub.execute_input": "2025-08-16T17:06:06.035210Z",
     "iopub.status.busy": "2025-08-16T17:06:06.035093Z",
     "iopub.status.idle": "2025-08-16T17:06:06.037096Z",
     "shell.execute_reply": "2025-08-16T17:06:06.036831Z"
    }
   },
   "outputs": [
    {
     "name": "stdout",
     "output_type": "stream",
     "text": [
      "No errors in last operation\n"
     ]
    }
   ],
   "source": [
    "# Check if the last operation had errors\n",
    "if lui.has_errors:\n",
    "    print(\"Last operation had errors:\", lui.errors)\n",
    "else:\n",
    "    print(\"No errors in last operation\")"
   ]
  },
  {
   "cell_type": "markdown",
   "id": "ba2d1e2a",
   "metadata": {},
   "source": [
    "## Tips and Tricks\n",
    "\n",
    "Here are some helpful patterns for using the notebook interface:\n",
    "\n",
    "1. **Use clear prompts**: Be specific about what you want to analyze\n",
    "2. **Check outputs**: Always verify `lui.df` and `lui.text` after queries\n",
    "3. **Enable traces for debugging**: Use `traces=True` when troubleshooting\n",
    "4. **Leverage history**: Access previous results with `lui[-1]`, `lui[-2]`, etc.\n",
    "5. **Upload various formats**: DataFrames, images, PDFs all work seamlessly"
   ]
  }
 ],
 "metadata": {
  "language_info": {
   "codemirror_mode": {
    "name": "ipython",
    "version": 3
   },
   "file_extension": ".py",
   "mimetype": "text/x-python",
   "name": "python",
   "nbconvert_exporter": "python",
   "pygments_lexer": "ipython3",
   "version": "3.12.11"
  }
 },
 "nbformat": 4,
 "nbformat_minor": 5
}
