{
 "cells": [
  {
   "cell_type": "markdown",
   "id": "1e9db8de",
   "metadata": {},
   "source": [
    "# Getting Started with LouieAI Notebook Interface\n",
    "\n",
    "This notebook demonstrates the basic usage of the LouieAI notebook-friendly API (`lui`).\n",
    "\n",
    "## Authentication Requirements\n",
    "\n",
    "LouieAI uses PyGraphistry for authentication. Before running this notebook, you need:\n",
    "\n",
    "1. **PyGraphistry Account**: Sign up for free at [hub.graphistry.com](https://hub.graphistry.com)\n",
    "2. **Set Credentials**: Use one of these methods:\n",
    "\n",
    "   ```bash\n",
    "   # Option 1: Environment variables (recommended for notebooks)\n",
    "   export GRAPHISTRY_USERNAME=\"your_username\"\n",
    "   export GRAPHISTRY_PASSWORD=\"your_password\"\n",
    "   ```\n",
    "   \n",
    "   ```python\n",
    "   # Option 2: Authenticate in code\n",
    "   import graphistry\n",
    "   graphistry.register(api=3, server=\"hub.graphistry.com\", \n",
    "                      username=\"your_username\", password=\"your_password\")\n",
    "   ```\n",
    "\n",
    "## Setup\n",
    "\n",
    "First, make sure you have LouieAI installed and your credentials configured."
   ]
  },
  {
   "cell_type": "code",
   "execution_count": 1,
   "id": "fdb0cef5",
   "metadata": {
    "execution": {
     "iopub.execute_input": "2025-08-16T10:01:29.765853Z",
     "iopub.status.busy": "2025-08-16T10:01:29.765723Z",
     "iopub.status.idle": "2025-08-16T10:01:30.815952Z",
     "shell.execute_reply": "2025-08-16T10:01:30.815547Z"
    }
   },
   "outputs": [
    {
     "data": {
      "text/html": [
       "<div style='border: 1px solid #ddd; padding: 10px; border-radius: 5px; margin-bottom: 10px;'>\n",
       "<h4 style='margin-top: 0;'>🤖 LouieAI Session</h4>\n",
       "<hr style='margin: 10px 0;'>\n",
       "<p style='margin: 5px 0; font-size: 0.9em;'>⚪ <b>Session:</b> Not started (use <code>lui('your query')</code>)</p>\n",
       "<p style='margin: 5px 0; font-size: 0.9em;'>📚 <b>History:</b> 0 responses\n",
       "</p>\n",
       "<p style='margin: 5px 0; font-size: 0.9em;'>🔍 <b>Traces:</b> Disabled (use <code>lui.traces = True</code> to enable)</p>\n",
       "<details><summary><b>Quick Help</b> (click to expand)</summary>\n",
       "<pre style='margin: 10px 0; padding: 10px; background: #f5f5f5;'>\n",
       "# Make a query\n",
       "\n",
       "lui('Show me sales data from last week')\n",
       "\n",
       "\n",
       "# Control visibility\n",
       "\n",
       "lui('query', share_mode='Private')       # Default: only you\n",
       "\n",
       "lui('query', share_mode='Organization')  # Share within org\n",
       "\n",
       "lui('query', share_mode='Public')        # Share publicly\n",
       "\n",
       "\n",
       "# Access results\n",
       "\n",
       "df = lui.df          # Latest dataframe\n",
       "\n",
       "text = lui.text      # Latest text response\n",
       "\n",
       "all_dfs = lui.dfs    # All dataframes\n",
       "\n",
       "\n",
       "# History\n",
       "\n",
       "lui[-1].df           # Previous response's dataframe\n",
       "\n",
       "\n",
       "# Traces (AI reasoning)\n",
       "\n",
       "lui.traces = True    # Enable for session\n",
       "\n",
       "lui('query', traces=True)  # Enable for one query\n",
       "</pre>\n",
       "</details>\n",
       "</div>"
      ],
      "text/plain": [
       "<LouieAI Notebook Interface | Session: Not started | History: 0 responses | Traces: Disabled>"
      ]
     },
     "execution_count": 1,
     "metadata": {},
     "output_type": "execute_result"
    }
   ],
   "source": [
    "import os\n",
    "\n",
    "import graphistry\n",
    "\n",
    "from louieai import louie  # Factory function to create Louie interface\n",
    "\n",
    "# Authenticate with Graphistry\n",
    "# Uses GRAPHISTRY_USERNAME and GRAPHISTRY_PASSWORD from environment\n",
    "g = graphistry.register(\n",
    "    api=3,\n",
    "    server=os.environ.get(\"GRAPHISTRY_SERVER\", \"hub.graphistry.com\"),\n",
    "    username=os.environ.get(\"GRAPHISTRY_USERNAME\"),\n",
    "    password=os.environ.get(\"GRAPHISTRY_PASSWORD\"),\n",
    ")\n",
    "\n",
    "# Configure Louie server URL\n",
    "# Default to production server, or set LOUIE_SERVER env var for custom\n",
    "# Examples:\n",
    "#   export LOUIE_SERVER=\"http://localhost:8000\"  # Local development\n",
    "#   export LOUIE_SERVER=\"https://den.louie.ai\"    # Production (default)\n",
    "LOUIE_SERVER_URL = os.environ.get(\"LOUIE_SERVER\", \"https://den.louie.ai\")\n",
    "\n",
    "# Create the Louie interface\n",
    "lui = louie(g, server_url=LOUIE_SERVER_URL)\n",
    "\n",
    "lui  # Display status"
   ]
  },
  {
   "cell_type": "markdown",
   "id": "feb998d0",
   "metadata": {},
   "source": [
    "## Basic Queries\n",
    "\n",
    "Making queries with `lui` is simple - just call it like a function:"
   ]
  },
  {
   "cell_type": "code",
   "execution_count": 2,
   "id": "2b2e6f64",
   "metadata": {
    "execution": {
     "iopub.execute_input": "2025-08-16T10:01:30.817716Z",
     "iopub.status.busy": "2025-08-16T10:01:30.817547Z",
     "iopub.status.idle": "2025-08-16T10:01:37.967678Z",
     "shell.execute_reply": "2025-08-16T10:01:37.967355Z"
    }
   },
   "outputs": [
    {
     "data": {
      "text/html": [
       "<div style='border: 1px solid #ddd; padding: 15px; border-radius: 5px;'><h4 style='margin-top: 0;'>🤖 LouieAI Response</h4><div style='font-size: 0.8em; color: #666; margin-bottom: 10px;'>Thread: <code>D__Yk2v8WZrMwvwaUv2yVj</code> | Time: 7.1s</div><div style='margin-top: 10px;'><div id='B_96fwQqMS'>The capital of France</div></div></div>"
      ],
      "text/plain": [
       "<IPython.core.display.HTML object>"
      ]
     },
     "metadata": {},
     "output_type": "display_data"
    },
    {
     "name": "stdout",
     "output_type": "stream",
     "text": [
      "Answer: The capital of France\n"
     ]
    }
   ],
   "source": [
    "# Ask a simple question\n",
    "response = lui(\"What is the capital of France?\")\n",
    "\n",
    "# The response is automatically stored and accessible\n",
    "print(f\"Answer: {lui.text}\")"
   ]
  },
  {
   "cell_type": "markdown",
   "id": "8191d818",
   "metadata": {},
   "source": [
    "## Working with Data\n",
    "\n",
    "LouieAI can generate and analyze data. Let's create a sample dataset:"
   ]
  },
  {
   "cell_type": "code",
   "execution_count": 3,
   "id": "480a9a58",
   "metadata": {
    "execution": {
     "iopub.execute_input": "2025-08-16T10:01:37.969586Z",
     "iopub.status.busy": "2025-08-16T10:01:37.969237Z",
     "iopub.status.idle": "2025-08-16T10:01:54.517529Z",
     "shell.execute_reply": "2025-08-16T10:01:54.516637Z"
    }
   },
   "outputs": [
    {
     "data": {
      "text/html": [
       "<div style='border: 1px solid #ddd; padding: 15px; border-radius: 5px;'><h4 style='margin-top: 0;'>🤖 LouieAI Response</h4><div style='font-size: 0.8em; color: #666; margin-bottom: 10px;'>Thread: <code>D__Yk2v8WZrMwvwaUv2yVj</code> | Time: 16.5s</div><div style='margin-top: 10px;'><div id='B_BJ8gIYTk'>To create a dataframe with the specified columns and data, I will use the CodeAgent to generate a sample dataframe with 10 products.<br>Plan:<br>1. Use the CodeAgent to create a dataframe with the specified columns: product_name, category, price, and units_sold.<br>2. Ensure the dataframe contains 10 products with appropriate data types for each column.<br>3. Return the dataframe to the user.<br><br>CodeAgent<br>Create a dataframe with 10 products containing columns: product_name (string), category (string), price (float), and units_sold (integer).It seems there was an issue with the tool I tried to use. Let's try a different approach to create the dataframe.<br><br>Plan:<br>1. Use a different tool or method to create the dataframe with the specified columns and data.<br>2. Ensure the dataframe contains 10 products with appropriate data types for each column.<br>3. Return the dataframe to the user.<br><br>CodeAgent<br>Create a dataframe with 10 products containing columns: product_name (string), category (string), price (float), and units_sold (integer) using a different method.It seems there is a persistent issue with the tool I attempted to use for creating the dataframe. Let's try a different approach to solve this problem.<br><br>Plan:<br>1. I will manually create a sample dataframe using Python code, which you can run in your local environment or any Python environment that supports Pandas.<br>2. This code will generate a dataframe with 10 products, including the specified columns: product_name, category, price, and units_sold.<br><br>Here's the code you can use:<br><br>```python<br>import pandas as pd<br><br># Create a sample dataframe<br>data = {<br>    'product_name': ['Product A', 'Product B', 'Product C', 'Product D', 'Product E',<br>                     'Product F', 'Product G', 'Product H', 'Product I', 'Product J'],<br>    'category': ['Electronics', 'Clothing', 'Home', 'Beauty', 'Sports',<br>                 'Toys', 'Automotive', 'Books', 'Music', 'Garden'],<br>    'price': [199.99, 49.99, 29.99, 19.99, 99.99, 14.99, 299.99, 9.99, 24.99, 39.99],<br>    'units_sold': [150, 200, 300, 250, 100, 400, 50, 500, 350, 450]<br>}<br><br>df = pd.DataFrame(data)<br><br>print(df)<br>```<br><br>This code will create a dataframe with 10 products, each having a product name, category, price, and units sold. You can run this code in your Python environment to see the dataframe. If you</div><div id='B_hkKgOGvn'><div style='color: gray;'>[CallElement] Create a dataframe with 10 products containing columns: product_name (string), category (string), price (float), and units_sold (integer).</div></div><div id='B_OGGu52vs'><div style='color: red; background: #ffe0e0; padding: 10px; margin: 5px 0;'>⚠️ Error: Unknown error</div></div><div id='B_EqLqFToL'><div style='color: gray;'>[CallElement] Create a dataframe with 10 products containing columns: product_name (string), category (string), price (float), and units_sold (integer) using a different method.</div></div><div id='B_n3R_jwUD'><div style='color: red; background: #ffe0e0; padding: 10px; margin: 5px 0;'>⚠️ Error: Unknown error</div></div></div></div>"
      ],
      "text/plain": [
       "<IPython.core.display.HTML object>"
      ]
     },
     "metadata": {},
     "output_type": "display_data"
    },
    {
     "name": "stdout",
     "output_type": "stream",
     "text": [
      "No dataframe was generated. Try asking for 'a table' or 'dataframe' explicitly.\n"
     ]
    }
   ],
   "source": [
    "# Request data generation with explicit \"dataframe\" mention\n",
    "lui(\n",
    "    \"Create a dataframe with 10 products containing columns: \"\n",
    "    \"product_name (string), category (string), price (float), units_sold (integer)\"\n",
    ")\n",
    "\n",
    "# Access the generated dataframe\n",
    "df = lui.df\n",
    "if df is not None:\n",
    "    print(f\"Generated DataFrame with shape: {df.shape}\")\n",
    "    print(\"\\nFirst few rows:\")\n",
    "    display(df.head())\n",
    "else:\n",
    "    print(\n",
    "        \"No dataframe was generated. Try asking for 'a table' \"\n",
    "        \"or 'dataframe' explicitly.\"\n",
    "    )"
   ]
  },
  {
   "cell_type": "markdown",
   "id": "ba207adc",
   "metadata": {},
   "source": [
    "## Analyzing Data\n",
    "\n",
    "Once you have data, you can ask questions about it:"
   ]
  },
  {
   "cell_type": "code",
   "execution_count": 4,
   "id": "c178e715",
   "metadata": {
    "execution": {
     "iopub.execute_input": "2025-08-16T10:01:54.520483Z",
     "iopub.status.busy": "2025-08-16T10:01:54.520155Z",
     "iopub.status.idle": "2025-08-16T10:02:05.994966Z",
     "shell.execute_reply": "2025-08-16T10:02:05.994611Z"
    }
   },
   "outputs": [
    {
     "data": {
      "text/html": [
       "<div style='border: 1px solid #ddd; padding: 15px; border-radius: 5px;'><h4 style='margin-top: 0;'>🤖 LouieAI Response</h4><div style='font-size: 0.8em; color: #666; margin-bottom: 10px;'>Thread: <code>D__Yk2v8WZrMwvwaUv2yVj</code> | Time: 11.5s</div><div style='margin-top: 10px;'><div id='B_B5iTZ1bW'>To find the maximum price in the dataframe, I'll need to analyze the data. Let's proceed with the following steps:<br><br>1. Retrieve the dataframe.<br>2. Identify the column containing the price information.<br>3. Calculate the maximum price.<br><br>Since I don't have direct access to the dataframe here, I'll guide you on how to do it using Python and Pandas, assuming you have the dataframe from the previous task.<br><br>Here's a simple code snippet to find the maximum price:<br><br>```python<br>import pandas as pd<br><br># Assuming 'df' is your dataframe<br>max_price = df['price'].max()<br><br>print(\"The maximum price in the dataframe is:\", max_price)<br>```<br><br>This code will output the maximum price from the 'price' column of your dataframe. If you have any questions or need further</div></div></div>"
      ],
      "text/plain": [
       "<IPython.core.display.HTML object>"
      ]
     },
     "metadata": {},
     "output_type": "display_data"
    },
    {
     "name": "stdout",
     "output_type": "stream",
     "text": [
      "Answer: To find the maximum price in the dataframe, I'll need to analyze the data. Let's proceed with the following steps:\n",
      "\n",
      "1. Retrieve the dataframe.\n",
      "2. Identify the column containing the price information.\n",
      "3. Calculate the maximum price.\n",
      "\n",
      "Since I don't have direct access to the dataframe here, I'll guide you on how to do it using Python and Pandas, assuming you have the dataframe from the previous task.\n",
      "\n",
      "Here's a simple code snippet to find the maximum price:\n",
      "\n",
      "```python\n",
      "import pandas as pd\n",
      "\n",
      "# Assuming 'df' is your dataframe\n",
      "max_price = df['price'].max()\n",
      "\n",
      "print(\"The maximum price in the dataframe is:\", max_price)\n",
      "```\n",
      "\n",
      "This code will output the maximum price from the 'price' column of your dataframe. If you have any questions or need further\n"
     ]
    }
   ],
   "source": [
    "# Simple analysis\n",
    "lui(\"What is the maximum price in the dataframe?\")\n",
    "\n",
    "# The text explanation is available\n",
    "print(f\"Answer: {lui.text}\")\n",
    "\n",
    "# If a dataframe is returned, display it\n",
    "if lui.df is not None:\n",
    "    print(\"\\nReturned data:\")\n",
    "    display(lui.df)"
   ]
  },
  {
   "cell_type": "markdown",
   "id": "9d497178",
   "metadata": {},
   "source": [
    "### Need more options?\n",
    "\n",
    "For advanced upload patterns including BytesIO, PIL Images, and more, see the [Data Upload Guide](02-data-upload.ipynb)."
   ]
  },
  {
   "cell_type": "markdown",
   "id": "1e27f7f0",
   "metadata": {},
   "source": [
    "## Uploading and Analyzing Your Own Data\n",
    "\n",
    "LouieAI supports uploading your own DataFrames, images, and documents for analysis:"
   ]
  },
  {
   "cell_type": "code",
   "execution_count": 5,
   "id": "df0bd045",
   "metadata": {
    "execution": {
     "iopub.execute_input": "2025-08-16T10:02:05.996234Z",
     "iopub.status.busy": "2025-08-16T10:02:05.996049Z",
     "iopub.status.idle": "2025-08-16T10:02:06.004533Z",
     "shell.execute_reply": "2025-08-16T10:02:06.004289Z"
    }
   },
   "outputs": [
    {
     "name": "stdout",
     "output_type": "stream",
     "text": [
      "Sample of your data:\n"
     ]
    },
    {
     "data": {
      "text/html": [
       "<div>\n",
       "<style scoped>\n",
       "    .dataframe tbody tr th:only-of-type {\n",
       "        vertical-align: middle;\n",
       "    }\n",
       "\n",
       "    .dataframe tbody tr th {\n",
       "        vertical-align: top;\n",
       "    }\n",
       "\n",
       "    .dataframe thead th {\n",
       "        text-align: right;\n",
       "    }\n",
       "</style>\n",
       "<table border=\"1\" class=\"dataframe\">\n",
       "  <thead>\n",
       "    <tr style=\"text-align: right;\">\n",
       "      <th></th>\n",
       "      <th>date</th>\n",
       "      <th>sales</th>\n",
       "      <th>visitors</th>\n",
       "      <th>region</th>\n",
       "    </tr>\n",
       "  </thead>\n",
       "  <tbody>\n",
       "    <tr>\n",
       "      <th>0</th>\n",
       "      <td>2024-01-01</td>\n",
       "      <td>100.162497</td>\n",
       "      <td>114</td>\n",
       "      <td>East</td>\n",
       "    </tr>\n",
       "    <tr>\n",
       "      <th>1</th>\n",
       "      <td>2024-01-02</td>\n",
       "      <td>99.350167</td>\n",
       "      <td>80</td>\n",
       "      <td>North</td>\n",
       "    </tr>\n",
       "    <tr>\n",
       "      <th>2</th>\n",
       "      <td>2024-01-03</td>\n",
       "      <td>100.016083</td>\n",
       "      <td>65</td>\n",
       "      <td>North</td>\n",
       "    </tr>\n",
       "    <tr>\n",
       "      <th>3</th>\n",
       "      <td>2024-01-04</td>\n",
       "      <td>99.480792</td>\n",
       "      <td>101</td>\n",
       "      <td>East</td>\n",
       "    </tr>\n",
       "    <tr>\n",
       "      <th>4</th>\n",
       "      <td>2024-01-05</td>\n",
       "      <td>99.999236</td>\n",
       "      <td>70</td>\n",
       "      <td>North</td>\n",
       "    </tr>\n",
       "  </tbody>\n",
       "</table>\n",
       "</div>"
      ],
      "text/plain": [
       "        date       sales  visitors region\n",
       "0 2024-01-01  100.162497       114   East\n",
       "1 2024-01-02   99.350167        80  North\n",
       "2 2024-01-03  100.016083        65  North\n",
       "3 2024-01-04   99.480792       101   East\n",
       "4 2024-01-05   99.999236        70  North"
      ]
     },
     "execution_count": 5,
     "metadata": {},
     "output_type": "execute_result"
    }
   ],
   "source": [
    "import numpy as np\n",
    "import pandas as pd\n",
    "\n",
    "# Create your own DataFrame (or load from CSV/Excel)\n",
    "my_data = pd.DataFrame(\n",
    "    {\n",
    "        \"date\": pd.date_range(\"2024-01-01\", periods=30, freq=\"D\"),\n",
    "        \"sales\": np.random.randn(30).cumsum() + 100,\n",
    "        \"visitors\": np.random.randint(50, 200, 30),\n",
    "        \"region\": np.random.choice([\"North\", \"South\", \"East\", \"West\"], 30),\n",
    "    }\n",
    ")\n",
    "\n",
    "print(\"Sample of your data:\")\n",
    "my_data.head()"
   ]
  },
  {
   "cell_type": "code",
   "execution_count": 6,
   "id": "1f66a6df",
   "metadata": {
    "execution": {
     "iopub.execute_input": "2025-08-16T10:02:06.005459Z",
     "iopub.status.busy": "2025-08-16T10:02:06.005359Z",
     "iopub.status.idle": "2025-08-16T10:02:06.006852Z",
     "shell.execute_reply": "2025-08-16T10:02:06.006627Z"
    }
   },
   "outputs": [],
   "source": [
    "# Analyze images\n",
    "# lui(\"What's in this image?\", \"chart.png\")\n",
    "# lui(\"Extract text from this screenshot\", \"screenshot.jpg\")\n",
    "\n",
    "# Analyze documents\n",
    "# lui(\"Summarize this document\", \"report.pdf\")\n",
    "# lui(\"Extract key points from this presentation\", \"slides.pptx\")\n",
    "\n",
    "# The AI will process your files and provide analysis\n",
    "# print(\"Analysis:\", lui.text)"
   ]
  },
  {
   "cell_type": "markdown",
   "id": "abb4a015",
   "metadata": {},
   "source": [
    "### Loading Data from Files\n",
    "\n",
    "You can also load and analyze data from CSV, Excel, or other formats:"
   ]
  },
  {
   "cell_type": "code",
   "execution_count": 7,
   "id": "e66159eb",
   "metadata": {
    "execution": {
     "iopub.execute_input": "2025-08-16T10:02:06.007664Z",
     "iopub.status.busy": "2025-08-16T10:02:06.007574Z",
     "iopub.status.idle": "2025-08-16T10:02:06.008992Z",
     "shell.execute_reply": "2025-08-16T10:02:06.008740Z"
    }
   },
   "outputs": [],
   "source": [
    "# Load data from CSV\n",
    "# df = pd.read_csv('sales_data.csv')\n",
    "# lui(\"Find patterns in this sales data\", df)\n",
    "\n",
    "# Load from Excel\n",
    "# df = pd.read_excel('report.xlsx', sheet_name='Sales')\n",
    "# lui(\"What are the key insights?\", df)\n",
    "\n",
    "# The data is now uploaded and analyzed by LouieAI\n",
    "# print(\"Analysis:\", lui.text)"
   ]
  },
  {
   "cell_type": "code",
   "execution_count": 8,
   "id": "3bed216e",
   "metadata": {
    "execution": {
     "iopub.execute_input": "2025-08-16T10:02:06.009924Z",
     "iopub.status.busy": "2025-08-16T10:02:06.009837Z",
     "iopub.status.idle": "2025-08-16T10:02:08.481082Z",
     "shell.execute_reply": "2025-08-16T10:02:08.480749Z"
    }
   },
   "outputs": [
    {
     "name": "stdout",
     "output_type": "stream",
     "text": [
      "Analysis: How many rows are in this sales data?\n"
     ]
    }
   ],
   "source": [
    "# Upload and analyze your DataFrame with a simple question\n",
    "lui(\"How many rows are in this sales data?\", my_data)\n",
    "\n",
    "# The AI analyzes YOUR data\n",
    "print(\"Analysis:\", lui.text)\n",
    "\n",
    "# Access any returned visualizations or processed data\n",
    "if lui.df is not None:\n",
    "    print(\"\\nProcessed results:\")\n",
    "    display(lui.df)"
   ]
  },
  {
   "cell_type": "markdown",
   "id": "15885e22",
   "metadata": {},
   "source": [
    "## Session History\n",
    "\n",
    "The `lui` interface maintains a history of your interactions:"
   ]
  },
  {
   "cell_type": "code",
   "execution_count": 9,
   "id": "676f2a36",
   "metadata": {
    "execution": {
     "iopub.execute_input": "2025-08-16T10:02:08.482196Z",
     "iopub.status.busy": "2025-08-16T10:02:08.482063Z",
     "iopub.status.idle": "2025-08-16T10:02:08.484074Z",
     "shell.execute_reply": "2025-08-16T10:02:08.483801Z"
    }
   },
   "outputs": [
    {
     "name": "stdout",
     "output_type": "stream",
     "text": [
      "Total interactions: 4\n"
     ]
    }
   ],
   "source": [
    "# Access previous responses by index\n",
    "# lui[-1]  # Last response\n",
    "# lui[-2]  # Second to last response\n",
    "\n",
    "# Check the number of interactions\n",
    "print(f\"Total interactions: {len(lui._history)}\")"
   ]
  },
  {
   "cell_type": "markdown",
   "id": "8050f3dc",
   "metadata": {},
   "source": [
    "## Enabling Traces\n",
    "\n",
    "For complex queries, you might want to see the AI's reasoning process:"
   ]
  },
  {
   "cell_type": "code",
   "execution_count": 10,
   "id": "a72cbbd2",
   "metadata": {
    "execution": {
     "iopub.execute_input": "2025-08-16T10:02:08.485032Z",
     "iopub.status.busy": "2025-08-16T10:02:08.484911Z",
     "iopub.status.idle": "2025-08-16T10:02:25.382655Z",
     "shell.execute_reply": "2025-08-16T10:02:25.381871Z"
    }
   },
   "outputs": [
    {
     "data": {
      "text/html": [
       "<div style='border: 1px solid #ddd; padding: 15px; border-radius: 5px;'><h4 style='margin-top: 0;'>🤖 LouieAI Response</h4><div style='font-size: 0.8em; color: #666; margin-bottom: 10px;'>Thread: <code>D__Yk2v8WZrMwvwaUv2yVj</code> | Time: 9.2s</div><div style='margin-top: 10px;'><div id='B_4G77QhMJ'><div style='color: #0066cc; font-family: monospace; font-size: 0.9em;'>i LouieAgent::runner</div></div><div id='B_9XYjA4Ek'><div style='color: #666; font-family: monospace; font-size: 0.9em;'>🐛 Input text:::What is the sum of 1 to 10?</div></div><div id='B_rZ77uYIB'><div style='color: #666; font-family: monospace; font-size: 0.9em;'>🐛 Reading chat history. (is_prepared: True)</div></div><div id='B_za1vV42D'><div style='color: #666; font-family: monospace; font-size: 0.9em;'>🐛 LouieAgent predict with tools: ['GraphAgent', 'CodeAgent', 'TableAIAgent', 'FirecrawlAgent', 'NotebookAgent', 'DatabricksAgent', 'MermaidAgent', 'PerspectiveAgent', 'OpenSearchAgent', 'KeplerAgent', 'SpannerAgent', 'SpannerPassthroughAgent', 'KustoAgent', 'KustoPassthroughAgent', 'PostgresAgent', 'PostgresPassthroughAgent', 'Done', 'Chat'] has_recipes: True has_examples: True</div></div><div id='B_Vr3Nz7Mp'>To find the sum of numbers from 1 to 10, you can use the formula for the sum of an arithmetic series:<br><br>\\[ \\text{Sum} = \\frac{n}{2} \\times (\\text{first term} + \\text{last term}) \\]<br><br>where \\( n \\) is the number of terms. In this case, the first term is 1, the last term is 10, and there are 10 terms.<br><br>\\[ \\text{Sum} = \\frac{10}{2} \\times (1 + 10) = 5 \\times 11 = 55 \\]<br><br>So, the sum of numbers from</div><div id='B_VtbBl_rl'><div style='color: #0066cc; font-family: monospace; font-size: 0.9em;'>i Louie output text: To find the sum of numbers from 1 to 10, you can use the formula for the sum of an arithmetic series:\n",
       "\n",
       "\\[ \\text{Sum} = \\frac{n}{2} \\times (\\text{first term} + \\text{last term}) \\]\n",
       "\n",
       "where \\( n \\) is the number of terms. In this case, the first term is 1, the last term is 10, and there are 10 terms.\n",
       "\n",
       "\\[ \\text{Sum} = \\frac{10}{2} \\times (1 + 10) = 5 \\times 11 = 55 \\]\n",
       "\n",
       "So, the sum of numbers from 1 to 10 is 55.</div></div></div></div>"
      ],
      "text/plain": [
       "<IPython.core.display.HTML object>"
      ]
     },
     "metadata": {},
     "output_type": "display_data"
    },
    {
     "data": {
      "text/html": [
       "<div style='border: 1px solid #ddd; padding: 10px; border-radius: 5px; margin-bottom: 10px;'>\n",
       "<h4 style='margin-top: 0;'>🤖 LouieAI Session</h4>\n",
       "<hr style='margin: 10px 0;'>\n",
       "<p style='margin: 5px 0; font-size: 0.9em;'>✅ <b>Session:</b> Active | <b>Thread ID:</b> <code>D__Yk2v8WZrMwvwaUv2yVj</code> | <a href='http://localhost:8000/?dthread=D__Yk2v8WZrMwvwaUv2yVj' target='_blank'>View Thread ↗</a> | <b>Org:</b> all-users</p>\n",
       "<p style='margin: 5px 0; font-size: 0.9em;'>📚 <b>History:</b> 6 responses\n",
       " (access with <code>lui[-1]</code>, <code>lui[-2]</code>, etc.)</p>\n",
       "<p style='margin: 5px 0; font-size: 0.9em;'>🔍 <b>Traces:</b> Disabled (use <code>lui.traces = True</code> to enable)</p>\n",
       "<p><b>Latest Response:</b></p>\n",
       "<ul style='margin: 5px 0;'>\n",
       "<li>1 text element(s) - access with <code>lui.text</code> or <code>lui.texts</code></li>\n",
       "</ul>\n",
       "<details><summary><b>Quick Help</b> (click to expand)</summary>\n",
       "<pre style='margin: 10px 0; padding: 10px; background: #f5f5f5;'>\n",
       "# Make a query\n",
       "\n",
       "lui('Show me sales data from last week')\n",
       "\n",
       "\n",
       "# Control visibility\n",
       "\n",
       "lui('query', share_mode='Private')       # Default: only you\n",
       "\n",
       "lui('query', share_mode='Organization')  # Share within org\n",
       "\n",
       "lui('query', share_mode='Public')        # Share publicly\n",
       "\n",
       "\n",
       "# Access results\n",
       "\n",
       "df = lui.df          # Latest dataframe\n",
       "\n",
       "text = lui.text      # Latest text response\n",
       "\n",
       "all_dfs = lui.dfs    # All dataframes\n",
       "\n",
       "\n",
       "# History\n",
       "\n",
       "lui[-1].df           # Previous response's dataframe\n",
       "\n",
       "\n",
       "# Traces (AI reasoning)\n",
       "\n",
       "lui.traces = True    # Enable for session\n",
       "\n",
       "lui('query', traces=True)  # Enable for one query\n",
       "</pre>\n",
       "</details>\n",
       "</div>"
      ],
      "text/plain": [
       "<LouieAI Notebook Interface | Session: Active | History: 6 responses | Traces: Disabled | Latest: 1 text>"
      ]
     },
     "execution_count": 10,
     "metadata": {},
     "output_type": "execute_result"
    }
   ],
   "source": [
    "# Enable traces for the session\n",
    "lui.traces = True\n",
    "\n",
    "# Now queries will show reasoning steps\n",
    "lui(\"What is 100 + 50?\")\n",
    "\n",
    "# Disable traces\n",
    "lui.traces = False\n",
    "\n",
    "# Or enable traces for just one query\n",
    "lui(\"What is the sum of 1 to 10?\", traces=True)"
   ]
  },
  {
   "cell_type": "markdown",
   "id": "2b3dd3c0",
   "metadata": {},
   "source": [
    "## Error Handling\n",
    "\n",
    "The interface handles errors gracefully:"
   ]
  },
  {
   "cell_type": "code",
   "execution_count": 11,
   "id": "2563848c",
   "metadata": {
    "execution": {
     "iopub.execute_input": "2025-08-16T10:02:25.384221Z",
     "iopub.status.busy": "2025-08-16T10:02:25.384101Z",
     "iopub.status.idle": "2025-08-16T10:02:25.386160Z",
     "shell.execute_reply": "2025-08-16T10:02:25.385890Z"
    }
   },
   "outputs": [
    {
     "name": "stdout",
     "output_type": "stream",
     "text": [
      "No errors in last operation\n"
     ]
    }
   ],
   "source": [
    "# Check if the last operation had errors\n",
    "if lui.has_errors:\n",
    "    print(\"Last operation had errors:\", lui.errors)\n",
    "else:\n",
    "    print(\"No errors in last operation\")"
   ]
  },
  {
   "cell_type": "markdown",
   "id": "ba2d1e2a",
   "metadata": {},
   "source": [
    "## Tips and Tricks\n",
    "\n",
    "Here are some helpful patterns for using the notebook interface:\n",
    "\n",
    "1. **Use clear prompts**: Be specific about what you want to analyze\n",
    "2. **Check outputs**: Always verify `lui.df` and `lui.text` after queries\n",
    "3. **Enable traces for debugging**: Use `traces=True` when troubleshooting\n",
    "4. **Leverage history**: Access previous results with `lui[-1]`, `lui[-2]`, etc.\n",
    "5. **Upload various formats**: DataFrames, images, PDFs all work seamlessly"
   ]
  }
 ],
 "metadata": {
  "language_info": {
   "codemirror_mode": {
    "name": "ipython",
    "version": 3
   },
   "file_extension": ".py",
   "mimetype": "text/x-python",
   "name": "python",
   "nbconvert_exporter": "python",
   "pygments_lexer": "ipython3",
   "version": "3.12.11"
  }
 },
 "nbformat": 4,
 "nbformat_minor": 5
}
