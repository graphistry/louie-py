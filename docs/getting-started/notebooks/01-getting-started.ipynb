{
 "cells": [
  {
   "cell_type": "markdown",
   "id": "1e9db8de",
   "metadata": {},
   "source": [
    "# Getting Started with LouieAI Notebook Interface\n",
    "\n",
    "This notebook demonstrates the basic usage of the LouieAI notebook-friendly API (`lui`).\n",
    "\n",
    "## Authentication Requirements\n",
    "\n",
    "LouieAI uses PyGraphistry for authentication. Before running this notebook, you need:\n",
    "\n",
    "1. **PyGraphistry Account**: Sign up for free at [hub.graphistry.com](https://hub.graphistry.com)\n",
    "2. **Set Credentials**: Use one of these methods:\n",
    "\n",
    "   ```bash\n",
    "   # Option 1: Environment variables (recommended for notebooks)\n",
    "   export GRAPHISTRY_USERNAME=\"your_username\"\n",
    "   export GRAPHISTRY_PASSWORD=\"your_password\"\n",
    "   ```\n",
    "   \n",
    "   ```python\n",
    "   # Option 2: Authenticate in code\n",
    "   import graphistry\n",
    "   graphistry.register(api=3, server=\"hub.graphistry.com\", \n",
    "                      username=\"your_username\", password=\"your_password\")\n",
    "   ```\n",
    "\n",
    "## Setup\n",
    "\n",
    "First, make sure you have LouieAI installed and your credentials configured."
   ]
  },
  {
   "cell_type": "code",
   "execution_count": null,
   "id": "fdb0cef5",
   "metadata": {
    "execution": {
     "iopub.execute_input": "2025-08-16T09:46:23.643076Z",
     "iopub.status.busy": "2025-08-16T09:46:23.642942Z",
     "iopub.status.idle": "2025-08-16T09:46:24.716327Z",
     "shell.execute_reply": "2025-08-16T09:46:24.715110Z"
    }
   },
   "outputs": [],
   "source": [
    "import os\n",
    "\n",
    "import graphistry\n",
    "\n",
    "from louieai import louieai  # Note: louieai not louie\n",
    "\n",
    "# Authenticate with Graphistry\n",
    "# Uses GRAPHISTRY_USERNAME and GRAPHISTRY_PASSWORD from environment\n",
    "g = graphistry.register(\n",
    "    api=3,\n",
    "    server=os.environ.get(\"GRAPHISTRY_SERVER\", \"hub.graphistry.com\"),\n",
    "    username=os.environ.get(\"GRAPHISTRY_USERNAME\"),\n",
    "    password=os.environ.get(\"GRAPHISTRY_PASSWORD\"),\n",
    ")\n",
    "\n",
    "# Configure Louie server URL\n",
    "# Default to production server, or set LOUIE_SERVER env var for custom\n",
    "# Examples:\n",
    "#   export LOUIE_SERVER=\"http://localhost:8000\"  # Local development\n",
    "#   export LOUIE_SERVER=\"https://den.louie.ai\"    # Production (default)\n",
    "LOUIE_SERVER_URL = os.environ.get(\"LOUIE_SERVER\", \"https://den.louie.ai\")\n",
    "\n",
    "# Create the Louie interface\n",
    "lui = louieai(g, server_url=LOUIE_SERVER_URL)\n",
    "\n",
    "lui  # Display status"
   ]
  },
  {
   "cell_type": "markdown",
   "id": "feb998d0",
   "metadata": {},
   "source": [
    "## Basic Queries\n",
    "\n",
    "Making queries with `lui` is simple - just call it like a function:"
   ]
  },
  {
   "cell_type": "code",
   "execution_count": 2,
   "id": "2b2e6f64",
   "metadata": {
    "execution": {
     "iopub.execute_input": "2025-08-16T09:46:24.719290Z",
     "iopub.status.busy": "2025-08-16T09:46:24.718695Z",
     "iopub.status.idle": "2025-08-16T09:46:57.317514Z",
     "shell.execute_reply": "2025-08-16T09:46:57.316462Z"
    }
   },
   "outputs": [
    {
     "data": {
      "text/html": [
       "<div style='border: 1px solid #ddd; padding: 15px; border-radius: 5px;'><h4 style='margin-top: 0;'>🤖 LouieAI Response</h4><div style='font-size: 0.8em; color: #666; margin-bottom: 10px;'>Thread: <code>D_eQbT1qRbv4YLp603pemG</code> | Time: 32.6s</div><div style='margin-top: 10px;'><div id='B_Tq6q_Oh3'>The capital of France</div></div></div>"
      ],
      "text/plain": [
       "<IPython.core.display.HTML object>"
      ]
     },
     "metadata": {},
     "output_type": "display_data"
    },
    {
     "name": "stdout",
     "output_type": "stream",
     "text": [
      "Answer: The capital of France\n"
     ]
    }
   ],
   "source": [
    "# Ask a simple question\n",
    "response = lui(\"What is the capital of France?\")\n",
    "\n",
    "# The response is automatically stored and accessible\n",
    "print(f\"Answer: {lui.text}\")"
   ]
  },
  {
   "cell_type": "markdown",
   "id": "8191d818",
   "metadata": {},
   "source": [
    "## Working with Data\n",
    "\n",
    "LouieAI can generate and analyze data. Let's create a sample dataset:"
   ]
  },
  {
   "cell_type": "code",
   "execution_count": null,
   "id": "480a9a58",
   "metadata": {
    "execution": {
     "iopub.execute_input": "2025-08-16T09:46:57.321232Z",
     "iopub.status.busy": "2025-08-16T09:46:57.320675Z",
     "iopub.status.idle": "2025-08-16T09:47:15.932681Z",
     "shell.execute_reply": "2025-08-16T09:47:15.932118Z"
    }
   },
   "outputs": [],
   "source": "# Request data generation with explicit \"dataframe\" mention\nlui(\n    \"Create a dataframe with 10 products containing columns: \"\n    \"product_name (string), category (string), price (float), units_sold (integer)\"\n)\n\n# Access the generated dataframe\ndf = lui.df\nif df is not None:\n    print(f\"Generated DataFrame with shape: {df.shape}\")\n    print(\"\\nFirst few rows:\")\n    display(df.head())\nelse:\n    print(\n        \"No dataframe was generated. Try asking for 'a table' \"\n        \"or 'dataframe' explicitly.\"\n    )"
  },
  {
   "cell_type": "markdown",
   "id": "ba207adc",
   "metadata": {},
   "source": [
    "## Analyzing Data\n",
    "\n",
    "Once you have data, you can ask questions about it:"
   ]
  },
  {
   "cell_type": "code",
   "execution_count": null,
   "id": "c178e715",
   "metadata": {
    "execution": {
     "iopub.execute_input": "2025-08-16T09:47:15.935605Z",
     "iopub.status.busy": "2025-08-16T09:47:15.935272Z",
     "iopub.status.idle": "2025-08-16T09:47:41.812811Z",
     "shell.execute_reply": "2025-08-16T09:47:41.811950Z"
    }
   },
   "outputs": [],
   "source": "# Simple analysis\nlui(\"What is the maximum price in the dataframe?\")\n\n# The text explanation is available\nprint(f\"Answer: {lui.text}\")\n\n# If a dataframe is returned, display it\nif lui.df is not None:\n    print(\"\\nReturned data:\")\n    display(lui.df)"
  },
  {
   "cell_type": "markdown",
   "id": "9d497178",
   "metadata": {},
   "source": [
    "### Need more options?\n",
    "\n",
    "For advanced upload patterns including BytesIO, PIL Images, and more, see the [Data Upload Guide](02-data-upload.ipynb)."
   ]
  },
  {
   "cell_type": "markdown",
   "id": "1e27f7f0",
   "metadata": {},
   "source": [
    "## Uploading and Analyzing Your Own Data\n",
    "\n",
    "LouieAI supports uploading your own DataFrames, images, and documents for analysis:"
   ]
  },
  {
   "cell_type": "code",
   "execution_count": 5,
   "id": "df0bd045",
   "metadata": {
    "execution": {
     "iopub.execute_input": "2025-08-16T09:47:41.814788Z",
     "iopub.status.busy": "2025-08-16T09:47:41.814665Z",
     "iopub.status.idle": "2025-08-16T09:47:41.823906Z",
     "shell.execute_reply": "2025-08-16T09:47:41.823658Z"
    }
   },
   "outputs": [
    {
     "name": "stdout",
     "output_type": "stream",
     "text": [
      "Sample of your data:\n"
     ]
    },
    {
     "data": {
      "text/html": [
       "<div>\n",
       "<style scoped>\n",
       "    .dataframe tbody tr th:only-of-type {\n",
       "        vertical-align: middle;\n",
       "    }\n",
       "\n",
       "    .dataframe tbody tr th {\n",
       "        vertical-align: top;\n",
       "    }\n",
       "\n",
       "    .dataframe thead th {\n",
       "        text-align: right;\n",
       "    }\n",
       "</style>\n",
       "<table border=\"1\" class=\"dataframe\">\n",
       "  <thead>\n",
       "    <tr style=\"text-align: right;\">\n",
       "      <th></th>\n",
       "      <th>date</th>\n",
       "      <th>sales</th>\n",
       "      <th>visitors</th>\n",
       "      <th>region</th>\n",
       "    </tr>\n",
       "  </thead>\n",
       "  <tbody>\n",
       "    <tr>\n",
       "      <th>0</th>\n",
       "      <td>2024-01-01</td>\n",
       "      <td>100.299330</td>\n",
       "      <td>168</td>\n",
       "      <td>East</td>\n",
       "    </tr>\n",
       "    <tr>\n",
       "      <th>1</th>\n",
       "      <td>2024-01-02</td>\n",
       "      <td>101.691448</td>\n",
       "      <td>94</td>\n",
       "      <td>East</td>\n",
       "    </tr>\n",
       "    <tr>\n",
       "      <th>2</th>\n",
       "      <td>2024-01-03</td>\n",
       "      <td>101.802578</td>\n",
       "      <td>110</td>\n",
       "      <td>West</td>\n",
       "    </tr>\n",
       "    <tr>\n",
       "      <th>3</th>\n",
       "      <td>2024-01-04</td>\n",
       "      <td>101.591971</td>\n",
       "      <td>129</td>\n",
       "      <td>South</td>\n",
       "    </tr>\n",
       "    <tr>\n",
       "      <th>4</th>\n",
       "      <td>2024-01-05</td>\n",
       "      <td>101.603414</td>\n",
       "      <td>193</td>\n",
       "      <td>East</td>\n",
       "    </tr>\n",
       "  </tbody>\n",
       "</table>\n",
       "</div>"
      ],
      "text/plain": [
       "        date       sales  visitors region\n",
       "0 2024-01-01  100.299330       168   East\n",
       "1 2024-01-02  101.691448        94   East\n",
       "2 2024-01-03  101.802578       110   West\n",
       "3 2024-01-04  101.591971       129  South\n",
       "4 2024-01-05  101.603414       193   East"
      ]
     },
     "execution_count": 5,
     "metadata": {},
     "output_type": "execute_result"
    }
   ],
   "source": [
    "import numpy as np\n",
    "import pandas as pd\n",
    "\n",
    "# Create your own DataFrame (or load from CSV/Excel)\n",
    "my_data = pd.DataFrame(\n",
    "    {\n",
    "        \"date\": pd.date_range(\"2024-01-01\", periods=30, freq=\"D\"),\n",
    "        \"sales\": np.random.randn(30).cumsum() + 100,\n",
    "        \"visitors\": np.random.randint(50, 200, 30),\n",
    "        \"region\": np.random.choice([\"North\", \"South\", \"East\", \"West\"], 30),\n",
    "    }\n",
    ")\n",
    "\n",
    "print(\"Sample of your data:\")\n",
    "my_data.head()"
   ]
  },
  {
   "cell_type": "code",
   "execution_count": 6,
   "id": "1f66a6df",
   "metadata": {
    "execution": {
     "iopub.execute_input": "2025-08-16T09:47:41.825024Z",
     "iopub.status.busy": "2025-08-16T09:47:41.824926Z",
     "iopub.status.idle": "2025-08-16T09:47:41.826524Z",
     "shell.execute_reply": "2025-08-16T09:47:41.826288Z"
    }
   },
   "outputs": [],
   "source": [
    "# Analyze images\n",
    "# lui(\"What's in this image?\", \"chart.png\")\n",
    "# lui(\"Extract text from this screenshot\", \"screenshot.jpg\")\n",
    "\n",
    "# Analyze documents\n",
    "# lui(\"Summarize this document\", \"report.pdf\")\n",
    "# lui(\"Extract key points from this presentation\", \"slides.pptx\")\n",
    "\n",
    "# The AI will process your files and provide analysis\n",
    "# print(\"Analysis:\", lui.text)"
   ]
  },
  {
   "cell_type": "markdown",
   "id": "abb4a015",
   "metadata": {},
   "source": [
    "### Loading Data from Files\n",
    "\n",
    "You can also load and analyze data from CSV, Excel, or other formats:"
   ]
  },
  {
   "cell_type": "code",
   "execution_count": 7,
   "id": "e66159eb",
   "metadata": {
    "execution": {
     "iopub.execute_input": "2025-08-16T09:47:41.827591Z",
     "iopub.status.busy": "2025-08-16T09:47:41.827498Z",
     "iopub.status.idle": "2025-08-16T09:47:41.829033Z",
     "shell.execute_reply": "2025-08-16T09:47:41.828791Z"
    }
   },
   "outputs": [],
   "source": [
    "# Load data from CSV\n",
    "# df = pd.read_csv('sales_data.csv')\n",
    "# lui(\"Find patterns in this sales data\", df)\n",
    "\n",
    "# Load from Excel\n",
    "# df = pd.read_excel('report.xlsx', sheet_name='Sales')\n",
    "# lui(\"What are the key insights?\", df)\n",
    "\n",
    "# The data is now uploaded and analyzed by LouieAI\n",
    "# print(\"Analysis:\", lui.text)"
   ]
  },
  {
   "cell_type": "code",
   "execution_count": null,
   "id": "3bed216e",
   "metadata": {
    "execution": {
     "iopub.execute_input": "2025-08-16T09:47:41.830019Z",
     "iopub.status.busy": "2025-08-16T09:47:41.829932Z",
     "iopub.status.idle": "2025-08-16T09:47:42.514687Z",
     "shell.execute_reply": "2025-08-16T09:47:42.514364Z"
    }
   },
   "outputs": [],
   "source": "# Upload and analyze your DataFrame with a simple question\nlui(\"How many rows are in this sales data?\", my_data)\n\n# The AI analyzes YOUR data\nprint(\"Analysis:\", lui.text)\n\n# Access any returned visualizations or processed data\nif lui.df is not None:\n    print(\"\\nProcessed results:\")\n    display(lui.df)"
  },
  {
   "cell_type": "markdown",
   "id": "15885e22",
   "metadata": {},
   "source": [
    "## Session History\n",
    "\n",
    "The `lui` interface maintains a history of your interactions:"
   ]
  },
  {
   "cell_type": "code",
   "execution_count": 9,
   "id": "676f2a36",
   "metadata": {
    "execution": {
     "iopub.execute_input": "2025-08-16T09:47:42.515746Z",
     "iopub.status.busy": "2025-08-16T09:47:42.515642Z",
     "iopub.status.idle": "2025-08-16T09:47:42.517497Z",
     "shell.execute_reply": "2025-08-16T09:47:42.517240Z"
    }
   },
   "outputs": [
    {
     "name": "stdout",
     "output_type": "stream",
     "text": [
      "Total interactions: 4\n"
     ]
    }
   ],
   "source": [
    "# Access previous responses by index\n",
    "# lui[-1]  # Last response\n",
    "# lui[-2]  # Second to last response\n",
    "\n",
    "# Check the number of interactions\n",
    "print(f\"Total interactions: {len(lui._history)}\")"
   ]
  },
  {
   "cell_type": "markdown",
   "id": "8050f3dc",
   "metadata": {},
   "source": [
    "## Enabling Traces\n",
    "\n",
    "For complex queries, you might want to see the AI's reasoning process:"
   ]
  },
  {
   "cell_type": "code",
   "execution_count": null,
   "id": "a72cbbd2",
   "metadata": {
    "execution": {
     "iopub.execute_input": "2025-08-16T09:47:42.518408Z",
     "iopub.status.busy": "2025-08-16T09:47:42.518317Z",
     "iopub.status.idle": "2025-08-16T09:48:13.789306Z",
     "shell.execute_reply": "2025-08-16T09:48:13.788232Z"
    }
   },
   "outputs": [],
   "source": "# Enable traces for the session\nlui.traces = True\n\n# Now queries will show reasoning steps\nlui(\"What is 100 + 50?\")\n\n# Disable traces\nlui.traces = False\n\n# Or enable traces for just one query\nlui(\"What is the sum of 1 to 10?\", traces=True)"
  },
  {
   "cell_type": "markdown",
   "id": "2b3dd3c0",
   "metadata": {},
   "source": [
    "## Error Handling\n",
    "\n",
    "The interface handles errors gracefully:"
   ]
  },
  {
   "cell_type": "code",
   "execution_count": 11,
   "id": "2563848c",
   "metadata": {
    "execution": {
     "iopub.execute_input": "2025-08-16T09:48:13.792668Z",
     "iopub.status.busy": "2025-08-16T09:48:13.792289Z",
     "iopub.status.idle": "2025-08-16T09:48:13.794598Z",
     "shell.execute_reply": "2025-08-16T09:48:13.794352Z"
    }
   },
   "outputs": [
    {
     "name": "stdout",
     "output_type": "stream",
     "text": [
      "Last operation had errors: [{'id': 'B_eZ6avA8Q', 'type': 'ExceptionElement', 'parent': 'B_fIgjbHsW', 'text': 'ERROR: ToolAdapter:_run:func:Exception: Failed to load requirements: HTTPConnectionPool(host=\\'maestro-caddy\\', port=80): Max retries exceeded with url: /maestro/reqs (Caused by NameResolutionError(\"<urllib3.connection.HTTPConnection object at 0x7f41334e2480>: Failed to resolve \\'maestro-caddy\\' ([Errno -3] Temporary failure in name resolution)\"))', 'traceback': None}]\n"
     ]
    }
   ],
   "source": [
    "# Check if the last operation had errors\n",
    "if lui.has_errors:\n",
    "    print(\"Last operation had errors:\", lui.errors)\n",
    "else:\n",
    "    print(\"No errors in last operation\")"
   ]
  },
  {
   "cell_type": "markdown",
   "id": "ba2d1e2a",
   "metadata": {},
   "source": [
    "## Tips and Tricks\n",
    "\n",
    "Here are some helpful patterns for using the notebook interface:\n",
    "\n",
    "1. **Use clear prompts**: Be specific about what you want to analyze\n",
    "2. **Check outputs**: Always verify `lui.df` and `lui.text` after queries\n",
    "3. **Enable traces for debugging**: Use `traces=True` when troubleshooting\n",
    "4. **Leverage history**: Access previous results with `lui[-1]`, `lui[-2]`, etc.\n",
    "5. **Upload various formats**: DataFrames, images, PDFs all work seamlessly"
   ]
  }
 ],
 "metadata": {
  "language_info": {
   "codemirror_mode": {
    "name": "ipython",
    "version": 3
   },
   "file_extension": ".py",
   "mimetype": "text/x-python",
   "name": "python",
   "nbconvert_exporter": "python",
   "pygments_lexer": "ipython3",
   "version": "3.12.11"
  }
 },
 "nbformat": 4,
 "nbformat_minor": 5
}