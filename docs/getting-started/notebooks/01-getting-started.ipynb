{
 "cells": [
  {
   "cell_type": "markdown",
   "metadata": {},
   "source": [
    "# Getting Started with LouieAI Notebook Interface\n",
    "\n",
    "This notebook demonstrates the basic usage of the LouieAI notebook-friendly API (`lui`).\n",
    "\n",
    "## Authentication Requirements\n",
    "\n",
    "LouieAI uses PyGraphistry for authentication. Before running this notebook, you need:\n",
    "\n",
    "1. **PyGraphistry Account**: Sign up for free at [hub.graphistry.com](https://hub.graphistry.com)\n",
    "2. **Set Credentials**: Use one of these methods:\n",
    "\n",
    "   ```bash\n",
    "   # Option 1: Environment variables (recommended for notebooks)\n",
    "   export GRAPHISTRY_USERNAME=\"your_username\"\n",
    "   export GRAPHISTRY_PASSWORD=\"your_password\"\n",
    "   ```\n",
    "   \n",
    "   ```python\n",
    "   # Option 2: Authenticate in code\n",
    "   import graphistry\n",
    "   graphistry.register(api=3, server=\"hub.graphistry.com\", \n",
    "                      username=\"your_username\", password=\"your_password\")\n",
    "   ```\n",
    "\n",
    "## Setup\n",
    "\n",
    "First, make sure you have LouieAI installed and your credentials configured."
   ]
  },
  {
   "cell_type": "code",
   "execution_count": null,
   "metadata": {
    "execution": {
     "iopub.execute_input": "2025-08-16T08:44:53.401917Z",
     "iopub.status.busy": "2025-08-16T08:44:53.401795Z",
     "iopub.status.idle": "2025-08-16T08:44:54.446254Z",
     "shell.execute_reply": "2025-08-16T08:44:54.445030Z"
    }
   },
   "outputs": [],
   "source": [
    "import os\n",
    "\n",
    "from louieai.notebook import lui\n",
    "\n",
    "# Check for credentials (either username/password or API keys)\n",
    "has_username = os.environ.get(\"GRAPHISTRY_USERNAME\")\n",
    "has_api_keys = os.environ.get(\"GRAPHISTRY_PERSONAL_KEY_ID\")\n",
    "\n",
    "if not has_username and not has_api_keys:\n",
    "    raise RuntimeError(\n",
    "        \"Please set authentication credentials.\\n\"\n",
    "        \"Option 1: Username/Password\\n\"\n",
    "        \"  export GRAPHISTRY_USERNAME=your_username\\n\"\n",
    "        \"  export GRAPHISTRY_PASSWORD=your_password\\n\"\n",
    "        \"Option 2: API Keys\\n\"\n",
    "        \"  export GRAPHISTRY_PERSONAL_KEY_ID=your_key_id\\n\"\n",
    "        \"  export GRAPHISTRY_PERSONAL_KEY_SECRET=your_key_secret\"\n",
    "    )\n",
    "\n",
    "# Display the interface status\n",
    "print(\"LouieAI interface ready:\", lui)"
   ]
  },
  {
   "cell_type": "markdown",
   "metadata": {},
   "source": [
    "## Basic Queries\n",
    "\n",
    "Making queries with `lui` is simple - just call it like a function:"
   ]
  },
  {
   "cell_type": "code",
   "execution_count": 2,
   "metadata": {
    "execution": {
     "iopub.execute_input": "2025-08-16T08:44:54.450441Z",
     "iopub.status.busy": "2025-08-16T08:44:54.449924Z",
     "iopub.status.idle": "2025-08-16T08:44:57.303245Z",
     "shell.execute_reply": "2025-08-16T08:44:57.302912Z"
    }
   },
   "outputs": [
    {
     "data": {
      "text/html": [
       "<div style='border: 1px solid #ddd; padding: 15px; border-radius: 5px;'><h4 style='margin-top: 0;'>🤖 LouieAI Response</h4><div style='font-size: 0.8em; color: #666; margin-bottom: 10px;'>Thread: <code>D_T266uPYgv0s23eTuKfYx</code> | Time: 2.8s</div><div style='margin-top: 10px;'><div id='B_pFC8I5K7'></div></div></div>"
      ],
      "text/plain": [
       "<IPython.core.display.HTML object>"
      ]
     },
     "metadata": {},
     "output_type": "display_data"
    },
    {
     "name": "stdout",
     "output_type": "stream",
     "text": [
      "Answer: \n"
     ]
    }
   ],
   "source": [
    "# Ask a simple question\n",
    "response = lui(\"What is the capital of France?\")\n",
    "\n",
    "# The response is automatically stored and accessible\n",
    "print(f\"Answer: {lui.text}\")"
   ]
  },
  {
   "cell_type": "markdown",
   "metadata": {},
   "source": [
    "## Working with Data\n",
    "\n",
    "LouieAI can generate and analyze data. Let's create a sample dataset:"
   ]
  },
  {
   "cell_type": "code",
   "execution_count": 3,
   "metadata": {
    "execution": {
     "iopub.execute_input": "2025-08-16T08:44:57.304615Z",
     "iopub.status.busy": "2025-08-16T08:44:57.304454Z",
     "iopub.status.idle": "2025-08-16T08:45:06.083819Z",
     "shell.execute_reply": "2025-08-16T08:45:06.082723Z"
    }
   },
   "outputs": [
    {
     "data": {
      "text/html": [
       "<div style='border: 1px solid #ddd; padding: 15px; border-radius: 5px;'><h4 style='margin-top: 0;'>🤖 LouieAI Response</h4><div style='font-size: 0.8em; color: #666; margin-bottom: 10px;'>Thread: <code>D_T266uPYgv0s23eTuKfYx</code> | Time: 8.8s</div><div style='margin-top: 10px;'><div id='B_TPP0Txro'>To create a sample dataset of 10 products with the specified columns, I will generate a list of products with random values for each column.<br><br>Plan:<br>1. Generate a list of 10 product names.<br>2. Assign each product a category.<br>3. Randomly generate a price for each product.<br>4. Randomly generate the number of units sold for each product.<br><br>Here's a sample dataset of 10 products:<br><br>| product_name | category    | price | units_sold |<br>|--------------|-------------|-------|------------|<br>| Widget A     | Electronics | 29.99 | 150        |<br>| Gadget B     | Home Goods  | 19.99 | 200        |<br>| Gizmo C      | Toys        | 14.99 | 300        |<br>| Device D     | Electronics | 49.99 | 120        |<br>| Appliance E  | Home Goods  | 99.99 | 80         |<br>| Tool F       | Hardware    | 24.99 | 250        |<br>| Item G       | Clothing    | 39.99 | 180        |<br>| Product H    | Toys        | 9.99  | 400        |<br>| Thing I      | Electronics | 59.99 | 90         |<br>| Object J     | Clothing    | 29.99 | 220        |<br><br>Feel free to</div></div></div>"
      ],
      "text/plain": [
       "<IPython.core.display.HTML object>"
      ]
     },
     "metadata": {},
     "output_type": "display_data"
    },
    {
     "name": "stdout",
     "output_type": "stream",
     "text": [
      "No dataframe was generated. Try asking for 'a table' or 'dataframe' explicitly.\n"
     ]
    }
   ],
   "source": [
    "# Request data generation\n",
    "lui(\n",
    "    \"Create a sample dataset of 10 products with columns: \"\n",
    "    \"product_name, category, price, units_sold\"\n",
    ")\n",
    "\n",
    "# Access the generated dataframe\n",
    "df = lui.df\n",
    "if df is not None:\n",
    "    print(f\"Generated DataFrame with shape: {df.shape}\")\n",
    "    print(\"\\nFirst few rows:\")\n",
    "    display(df.head())\n",
    "else:\n",
    "    print(\n",
    "        \"No dataframe was generated. Try asking for 'a table' \"\n",
    "        \"or 'dataframe' explicitly.\"\n",
    "    )"
   ]
  },
  {
   "cell_type": "markdown",
   "metadata": {},
   "source": [
    "## Analyzing Data\n",
    "\n",
    "Once you have data, you can ask questions about it:"
   ]
  },
  {
   "cell_type": "code",
   "execution_count": 4,
   "metadata": {
    "execution": {
     "iopub.execute_input": "2025-08-16T08:45:06.085884Z",
     "iopub.status.busy": "2025-08-16T08:45:06.085779Z",
     "iopub.status.idle": "2025-08-16T08:45:22.228926Z",
     "shell.execute_reply": "2025-08-16T08:45:22.227864Z"
    }
   },
   "outputs": [
    {
     "data": {
      "text/html": [
       "<div style='border: 1px solid #ddd; padding: 15px; border-radius: 5px;'><h4 style='margin-top: 0;'>🤖 LouieAI Response</h4><div style='font-size: 0.8em; color: #666; margin-bottom: 10px;'>Thread: <code>D_T266uPYgv0s23eTuKfYx</code> | Time: 16.1s</div><div style='margin-top: 10px;'><div id='B_3h5XbV1U'>To determine the top 3 best-selling products, I need to analyze the sample dataset based on the \"units_sold\" column. I'll sort the products by units sold in descending order and select the top 3.<br><br>Plan:<br>1. Use the sample dataset provided in the chat history.<br>2. Sort the dataset by the \"units_sold\" column in descending order.<br>3. Select the top 3 products based on units sold.<br>4. Present the results in a table format.<br><br>TableAIAgent<br>\"What are the top 3 best-selling products based on units_sold in the sample dataset?\"<br>It seems there was an issue accessing the dataset directly. However, I can manually sort the sample dataset provided earlier to determine the top 3 best-selling products based on units sold. Let's do that:<br><br>Here's the sample dataset again for reference:<br><br>| product_name | category    | price | units_sold |<br>|--------------|-------------|-------|------------|<br>| Widget A     | Electronics | 29.99 | 150        |<br>| Gadget B     | Home Goods  | 19.99 | 200        |<br>| Gizmo C      | Toys        | 14.99 | 300        |<br>| Device D     | Electronics | 49.99 | 120        |<br>| Appliance E  | Home Goods  | 99.99 | 80         |<br>| Tool F       | Hardware    | 24.99 | 250        |<br>| Item G       | Clothing    | 39.99 | 180        |<br>| Product H    | Toys        | 9.99  | 400        |<br>| Thing I      | Electronics | 59.99 | 90         |<br>| Object J     | Clothing    | 29.99 | 220        |<br><br>Now, let's sort this dataset by the \"units_sold\" column in descending order:<br><br>1. Product H - 400 units<br>2. Gizmo C - 300 units<br>3. Tool F - 250 units<br><br>Here are the top 3 best-selling products:<br><br>| product_name | category | price | units_sold |<br>|--------------|----------|-------|------------|<br>| Product H    | Toys     | 9.99  | 400        |<br>| Gizmo C      | Toys     | 14.99 | 300        |<br>| Tool F       | Hardware | 24.99 | 250        |<br><br>If you have any more questions or need</div><div id='B_VpFq8YtL'><div style='color: gray;'>[CallElement] What are the top 3 best-selling products based on units_sold in the sample dataset?\"\n",
       "</div></div><div id='B_IwQS39VS'>It seems there was an error in retrieving the data needed to determine the top 3 best-selling products based on units sold. Without access to the dataset, I am unable to provide a definitive answer. If you can provide the dataset or more details, I would be happy to assist further.</div></div></div>"
      ],
      "text/plain": [
       "<IPython.core.display.HTML object>"
      ]
     },
     "metadata": {},
     "output_type": "display_data"
    },
    {
     "name": "stdout",
     "output_type": "stream",
     "text": [
      "\n",
      "Explanation: It seems there was an error in retrieving the data needed to determine the top 3 best-selling products based on units sold. Without access to the dataset, I am unable to provide a definitive answer. If you can provide the dataset or more details, I would be happy to assist further.\n"
     ]
    }
   ],
   "source": [
    "# Analyze the data\n",
    "lui(\"What are the top 3 best-selling products? Show the results as a table.\")\n",
    "\n",
    "# Get the analysis results\n",
    "if lui.df is not None:\n",
    "    print(\"Top products:\")\n",
    "    display(lui.df)\n",
    "\n",
    "# The text explanation is also available\n",
    "print(f\"\\nExplanation: {lui.text}\")"
   ]
  },
  {
   "cell_type": "markdown",
   "metadata": {},
   "source": [
    "### Need more options?\n",
    "\n",
    "For advanced upload patterns including BytesIO, PIL Images, and more, see the [Data Upload Guide](02-data-upload.ipynb)."
   ]
  },
  {
   "cell_type": "markdown",
   "metadata": {},
   "source": [
    "## Uploading and Analyzing Your Own Data\n",
    "\n",
    "LouieAI supports uploading your own DataFrames, images, and documents for analysis:"
   ]
  },
  {
   "cell_type": "code",
   "execution_count": 5,
   "metadata": {
    "execution": {
     "iopub.execute_input": "2025-08-16T08:45:22.233080Z",
     "iopub.status.busy": "2025-08-16T08:45:22.232538Z",
     "iopub.status.idle": "2025-08-16T08:45:22.242547Z",
     "shell.execute_reply": "2025-08-16T08:45:22.242205Z"
    }
   },
   "outputs": [
    {
     "name": "stdout",
     "output_type": "stream",
     "text": [
      "Sample of your data:\n"
     ]
    },
    {
     "data": {
      "text/html": [
       "<div>\n",
       "<style scoped>\n",
       "    .dataframe tbody tr th:only-of-type {\n",
       "        vertical-align: middle;\n",
       "    }\n",
       "\n",
       "    .dataframe tbody tr th {\n",
       "        vertical-align: top;\n",
       "    }\n",
       "\n",
       "    .dataframe thead th {\n",
       "        text-align: right;\n",
       "    }\n",
       "</style>\n",
       "<table border=\"1\" class=\"dataframe\">\n",
       "  <thead>\n",
       "    <tr style=\"text-align: right;\">\n",
       "      <th></th>\n",
       "      <th>date</th>\n",
       "      <th>sales</th>\n",
       "      <th>visitors</th>\n",
       "      <th>region</th>\n",
       "    </tr>\n",
       "  </thead>\n",
       "  <tbody>\n",
       "    <tr>\n",
       "      <th>0</th>\n",
       "      <td>2024-01-01</td>\n",
       "      <td>99.734740</td>\n",
       "      <td>90</td>\n",
       "      <td>North</td>\n",
       "    </tr>\n",
       "    <tr>\n",
       "      <th>1</th>\n",
       "      <td>2024-01-02</td>\n",
       "      <td>101.568855</td>\n",
       "      <td>112</td>\n",
       "      <td>North</td>\n",
       "    </tr>\n",
       "    <tr>\n",
       "      <th>2</th>\n",
       "      <td>2024-01-03</td>\n",
       "      <td>102.364207</td>\n",
       "      <td>161</td>\n",
       "      <td>North</td>\n",
       "    </tr>\n",
       "    <tr>\n",
       "      <th>3</th>\n",
       "      <td>2024-01-04</td>\n",
       "      <td>103.311095</td>\n",
       "      <td>121</td>\n",
       "      <td>South</td>\n",
       "    </tr>\n",
       "    <tr>\n",
       "      <th>4</th>\n",
       "      <td>2024-01-05</td>\n",
       "      <td>104.887213</td>\n",
       "      <td>140</td>\n",
       "      <td>East</td>\n",
       "    </tr>\n",
       "  </tbody>\n",
       "</table>\n",
       "</div>"
      ],
      "text/plain": [
       "        date       sales  visitors region\n",
       "0 2024-01-01   99.734740        90  North\n",
       "1 2024-01-02  101.568855       112  North\n",
       "2 2024-01-03  102.364207       161  North\n",
       "3 2024-01-04  103.311095       121  South\n",
       "4 2024-01-05  104.887213       140   East"
      ]
     },
     "execution_count": 5,
     "metadata": {},
     "output_type": "execute_result"
    }
   ],
   "source": [
    "import numpy as np\n",
    "import pandas as pd\n",
    "\n",
    "# Create your own DataFrame (or load from CSV/Excel)\n",
    "my_data = pd.DataFrame(\n",
    "    {\n",
    "        \"date\": pd.date_range(\"2024-01-01\", periods=30, freq=\"D\"),\n",
    "        \"sales\": np.random.randn(30).cumsum() + 100,\n",
    "        \"visitors\": np.random.randint(50, 200, 30),\n",
    "        \"region\": np.random.choice([\"North\", \"South\", \"East\", \"West\"], 30),\n",
    "    }\n",
    ")\n",
    "\n",
    "print(\"Sample of your data:\")\n",
    "my_data.head()"
   ]
  },
  {
   "cell_type": "code",
   "execution_count": 6,
   "metadata": {
    "execution": {
     "iopub.execute_input": "2025-08-16T08:45:22.243759Z",
     "iopub.status.busy": "2025-08-16T08:45:22.243662Z",
     "iopub.status.idle": "2025-08-16T08:45:22.245195Z",
     "shell.execute_reply": "2025-08-16T08:45:22.244965Z"
    }
   },
   "outputs": [],
   "source": [
    "# Analyze images\n",
    "# lui(\"What's in this image?\", \"chart.png\")\n",
    "# lui(\"Extract text from this screenshot\", \"screenshot.jpg\")\n",
    "\n",
    "# Analyze documents\n",
    "# lui(\"Summarize this document\", \"report.pdf\")\n",
    "# lui(\"Extract key points from this presentation\", \"slides.pptx\")\n",
    "\n",
    "# The AI will process your files and provide analysis\n",
    "# print(\"Analysis:\", lui.text)"
   ]
  },
  {
   "cell_type": "markdown",
   "metadata": {},
   "source": [
    "### Loading Data from Files\n",
    "\n",
    "You can also load and analyze data from CSV, Excel, or other formats:"
   ]
  },
  {
   "cell_type": "code",
   "execution_count": 7,
   "metadata": {
    "execution": {
     "iopub.execute_input": "2025-08-16T08:45:22.246224Z",
     "iopub.status.busy": "2025-08-16T08:45:22.246132Z",
     "iopub.status.idle": "2025-08-16T08:45:22.247624Z",
     "shell.execute_reply": "2025-08-16T08:45:22.247355Z"
    }
   },
   "outputs": [],
   "source": [
    "# Load data from CSV\n",
    "# df = pd.read_csv('sales_data.csv')\n",
    "# lui(\"Find patterns in this sales data\", df)\n",
    "\n",
    "# Load from Excel\n",
    "# df = pd.read_excel('report.xlsx', sheet_name='Sales')\n",
    "# lui(\"What are the key insights?\", df)\n",
    "\n",
    "# The data is now uploaded and analyzed by LouieAI\n",
    "# print(\"Analysis:\", lui.text)"
   ]
  },
  {
   "cell_type": "code",
   "execution_count": 8,
   "metadata": {
    "execution": {
     "iopub.execute_input": "2025-08-16T08:45:22.248589Z",
     "iopub.status.busy": "2025-08-16T08:45:22.248501Z",
     "iopub.status.idle": "2025-08-16T08:45:22.866229Z",
     "shell.execute_reply": "2025-08-16T08:45:22.865713Z"
    }
   },
   "outputs": [
    {
     "name": "stderr",
     "output_type": "stream",
     "text": [
      "Query failed: Client error '404 Not Found' for url 'https://louie-dev.grph.xyz/api/chat_upload/'\n",
      "For more information check: https://developer.mozilla.org/en-US/docs/Web/HTTP/Status/404\n"
     ]
    }
   ],
   "source": [
    "# Upload and analyze your DataFrame with natural language\n",
    "lui(\"What are the key trends and patterns in this sales data?\", my_data)\n",
    "\n",
    "# The AI analyzes YOUR data\n",
    "print(\"Analysis:\", lui.text)\n",
    "\n",
    "# Access any returned visualizations or processed data\n",
    "if lui.df is not None:\n",
    "    print(\"\\nProcessed results:\")\n",
    "    display(lui.df)"
   ]
  },
  {
   "cell_type": "markdown",
   "metadata": {},
   "source": [
    "## Session History\n",
    "\n",
    "The `lui` interface maintains a history of your interactions:"
   ]
  },
  {
   "cell_type": "markdown",
   "metadata": {},
   "source": [
    "## Enabling Traces\n",
    "\n",
    "For complex queries, you might want to see the AI's reasoning process:"
   ]
  },
  {
   "cell_type": "markdown",
   "metadata": {},
   "source": [
    "## Error Handling\n",
    "\n",
    "The interface handles errors gracefully:"
   ]
  },
  {
   "cell_type": "markdown",
   "metadata": {},
   "source": [
    "## Tips and Tricks\n",
    "\n",
    "Here are some helpful patterns for using the notebook interface:"
   ]
  },
  {
   "cell_type": "code",
   "execution_count": null,
   "metadata": {},
   "outputs": [],
   "source": [
    "# Enable traces for the session\n",
    "lui.traces = True\n",
    "\n",
    "# Now queries will show reasoning steps\n",
    "lui(\n",
    "    \"Calculate the total revenue from the products data and \"\n",
    "    \"identify which category contributes most\"\n",
    ")\n",
    "\n",
    "# Disable traces\n",
    "lui.traces = False\n",
    "\n",
    "# Or enable traces for just one query\n",
    "lui(\"What's the average price by category?\", traces=True)"
   ]
  },
  {
   "cell_type": "markdown",
   "metadata": {},
   "source": [
    "# Upload images and documents for analysis\n",
    "# lui(\"What's in this image?\", \"chart.png\")\n",
    "# lui(\"Summarize this document\", \"report.pdf\")\n",
    "\n",
    "# Or pass data directly\n",
    "# lui(\"Analyze this data\", my_dataframe)\n",
    "# lui(\"What do you see?\", image_bytes)"
   ]
  }
 ],
 "metadata": {
  "kernelspec": {
   "display_name": "Python 3",
   "language": "python",
   "name": "python3"
  },
  "language_info": {
   "codemirror_mode": {
    "name": "ipython",
    "version": 3
   },
   "file_extension": ".py",
   "mimetype": "text/x-python",
   "name": "python",
   "nbconvert_exporter": "python",
   "pygments_lexer": "ipython3",
   "version": "3.12.11"
  }
 },
 "nbformat": 4,
 "nbformat_minor": 4
}