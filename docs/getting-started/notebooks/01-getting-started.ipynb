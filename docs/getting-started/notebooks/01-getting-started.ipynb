{
 "cells": [
  {
   "cell_type": "markdown",
   "id": "1e9db8de",
   "metadata": {},
   "source": [
    "# Getting Started with LouieAI Notebook Interface\n",
    "\n",
    "This notebook demonstrates the basic usage of the LouieAI notebook-friendly API (`lui`).\n",
    "\n",
    "## Authentication Requirements\n",
    "\n",
    "LouieAI uses PyGraphistry for authentication. Before running this notebook, you need:\n",
    "\n",
    "1. **PyGraphistry Account**: Sign up for free at [hub.graphistry.com](https://hub.graphistry.com)\n",
    "2. **Set Credentials**: Use one of these methods:\n",
    "\n",
    "   ```bash\n",
    "   # Option 1: Environment variables (recommended for notebooks)\n",
    "   export GRAPHISTRY_USERNAME=\"your_username\"\n",
    "   export GRAPHISTRY_PASSWORD=\"your_password\"\n",
    "   ```\n",
    "   \n",
    "   ```python\n",
    "   # Option 2: Authenticate in code\n",
    "   import graphistry\n",
    "   graphistry.register(api=3, server=\"hub.graphistry.com\", \n",
    "                      username=\"your_username\", password=\"your_password\")\n",
    "   ```\n",
    "\n",
    "## Setup\n",
    "\n",
    "First, make sure you have LouieAI installed and your credentials configured."
   ]
  },
  {
   "cell_type": "code",
   "execution_count": 1,
   "id": "fdb0cef5",
   "metadata": {
    "execution": {
     "iopub.execute_input": "2025-08-16T17:22:19.146023Z",
     "iopub.status.busy": "2025-08-16T17:22:19.145842Z",
     "iopub.status.idle": "2025-08-16T17:22:20.242123Z",
     "shell.execute_reply": "2025-08-16T17:22:20.241675Z"
    }
   },
   "outputs": [
    {
     "data": {
      "text/html": [
       "<div style='border: 1px solid #ddd; padding: 10px; border-radius: 5px; margin-bottom: 10px;'>\n",
       "<h4 style='margin-top: 0;'>🤖 LouieAI Session</h4>\n",
       "<hr style='margin: 10px 0;'>\n",
       "<p style='margin: 5px 0; font-size: 0.9em;'>⚪ <b>Session:</b> Not started (use <code>lui('your query')</code>)</p>\n",
       "<p style='margin: 5px 0; font-size: 0.9em;'>📚 <b>History:</b> 0 responses\n",
       "</p>\n",
       "<p style='margin: 5px 0; font-size: 0.9em;'>🔍 <b>Traces:</b> Disabled (use <code>lui.traces = True</code> to enable)</p>\n",
       "<details><summary><b>Quick Help</b> (click to expand)</summary>\n",
       "<pre style='margin: 10px 0; padding: 10px; background: #f5f5f5;'>\n",
       "# Make a query\n",
       "\n",
       "lui('Show me sales data from last week')\n",
       "\n",
       "\n",
       "# Control visibility\n",
       "\n",
       "lui('query', share_mode='Private')       # Default: only you\n",
       "\n",
       "lui('query', share_mode='Organization')  # Share within org\n",
       "\n",
       "lui('query', share_mode='Public')        # Share publicly\n",
       "\n",
       "\n",
       "# Access results\n",
       "\n",
       "df = lui.df          # Latest dataframe\n",
       "\n",
       "text = lui.text      # Latest text response\n",
       "\n",
       "all_dfs = lui.dfs    # All dataframes\n",
       "\n",
       "\n",
       "# History\n",
       "\n",
       "lui[-1].df           # Previous response's dataframe\n",
       "\n",
       "\n",
       "# Traces (AI reasoning)\n",
       "\n",
       "lui.traces = True    # Enable for session\n",
       "\n",
       "lui('query', traces=True)  # Enable for one query\n",
       "</pre>\n",
       "</details>\n",
       "</div>"
      ],
      "text/plain": [
       "<LouieAI Notebook Interface | Session: Not started | History: 0 responses | Traces: Disabled>"
      ]
     },
     "execution_count": 1,
     "metadata": {},
     "output_type": "execute_result"
    }
   ],
   "source": [
    "import os\n",
    "\n",
    "import graphistry\n",
    "\n",
    "from louieai import louie  # Factory function to create Louie interface\n",
    "\n",
    "# Authenticate with Graphistry\n",
    "# Uses GRAPHISTRY_USERNAME and GRAPHISTRY_PASSWORD from environment\n",
    "g = graphistry.register(\n",
    "    api=3,\n",
    "    server=os.environ.get(\"GRAPHISTRY_SERVER\", \"hub.graphistry.com\"),\n",
    "    username=os.environ.get(\"GRAPHISTRY_USERNAME\"),\n",
    "    password=os.environ.get(\"GRAPHISTRY_PASSWORD\"),\n",
    ")\n",
    "\n",
    "# Configure Louie server URL\n",
    "# Default to production server, or set LOUIE_SERVER env var for custom\n",
    "# Examples:\n",
    "#   export LOUIE_SERVER=\"http://localhost:8000\"  # Local development\n",
    "#   export LOUIE_SERVER=\"https://den.louie.ai\"    # Production (default)\n",
    "LOUIE_SERVER_URL = os.environ.get(\"LOUIE_SERVER\", \"https://den.louie.ai\")\n",
    "\n",
    "# Create the Louie interface\n",
    "lui = louie(g, server_url=LOUIE_SERVER_URL)\n",
    "\n",
    "lui  # Display status"
   ]
  },
  {
   "cell_type": "markdown",
   "id": "feb998d0",
   "metadata": {},
   "source": [
    "## Basic Queries\n",
    "\n",
    "The `lui` interface accepts natural language queries and returns AI-generated responses. Let's verify it works with a simple arithmetic question:"
   ]
  },
  {
   "cell_type": "code",
   "execution_count": 2,
   "id": "2b2e6f64",
   "metadata": {
    "execution": {
     "iopub.execute_input": "2025-08-16T17:22:20.243860Z",
     "iopub.status.busy": "2025-08-16T17:22:20.243629Z",
     "iopub.status.idle": "2025-08-16T17:22:28.107270Z",
     "shell.execute_reply": "2025-08-16T17:22:28.106972Z"
    }
   },
   "outputs": [
    {
     "data": {
      "text/html": [
       "<div style='border: 1px solid #ddd; padding: 15px; border-radius: 5px;'><h4 style='margin-top: 0;'>🤖 LouieAI Response</h4><div style='font-size: 0.8em; color: #666; margin-bottom: 10px;'>Thread: <code>D_Cc3z0iuA5LgACqwkOxxj</code> | Time: 7.9s</div><div style='margin-top: 10px;'><div id='B_LiDPZD7q'>The task is to calculate a simple arithmetic expression, 2 + 2.<br>The result of 2</div></div></div>"
      ],
      "text/plain": [
       "<IPython.core.display.HTML object>"
      ]
     },
     "metadata": {},
     "output_type": "display_data"
    },
    {
     "name": "stdout",
     "output_type": "stream",
     "text": [
      "Answer: The task is to calculate a simple arithmetic expression, 2 + 2.\n",
      "The result of 2\n",
      "⚠ Response may be truncated or incomplete\n"
     ]
    }
   ],
   "source": [
    "# Ask a simple arithmetic question - should return \"4\"\n",
    "response = lui(\"Calculate: 2 + 2\")\n",
    "\n",
    "# The response is automatically stored and accessible\n",
    "print(f\"Answer: {lui.text}\")\n",
    "\n",
    "# Verify we got a sensible answer\n",
    "if \"4\" in str(lui.text):\n",
    "    print(\"✓ Basic query working correctly!\")\n",
    "else:\n",
    "    print(\"⚠ Response may be truncated or incomplete\")"
   ]
  },
  {
   "cell_type": "markdown",
   "id": "8191d818",
   "metadata": {},
   "source": [
    "## Working with Data\n",
    "\n",
    "LouieAI can generate and analyze data. Let's create a sample dataset:"
   ]
  },
  {
   "cell_type": "code",
   "execution_count": 3,
   "id": "480a9a58",
   "metadata": {
    "execution": {
     "iopub.execute_input": "2025-08-16T17:22:28.108424Z",
     "iopub.status.busy": "2025-08-16T17:22:28.108295Z",
     "iopub.status.idle": "2025-08-16T17:22:50.146198Z",
     "shell.execute_reply": "2025-08-16T17:22:50.145880Z"
    }
   },
   "outputs": [
    {
     "data": {
      "text/html": [
       "<div style='border: 1px solid #ddd; padding: 15px; border-radius: 5px;'><h4 style='margin-top: 0;'>🤖 LouieAI Response</h4><div style='font-size: 0.8em; color: #666; margin-bottom: 10px;'>Thread: <code>D_Cc3z0iuA5LgACqwkOxxj</code> | Time: 20.2s</div><div style='margin-top: 10px;'><div id='B_2Xo5DZAP'>The task is to generate a pandas dataframe with 3 rows and columns for name, age, and city. I will use the CodeAgent to create this dataframe.<br><br>Plan:<br>1. Use the CodeAgent to generate a pandas dataframe with the specified columns and rows.<br>2. Ensure the dataframe is correctly formatted and contains the required data.<br><br>CodeAgent<br>Generate a pandas dataframe with 3 rows and columns: name, age, city. Fill it with example data.<br>I successfully generated a pandas DataFrame with 3 rows and columns for 'name', 'age', and 'city'. The DataFrame contains the following example data:<br><br>- Names: Alice, Bob, Charlie<br>- Ages: 25, 30, 35<br>- Cities: New York, Los Angeles, Chicago<br><br>The DataFrame has been saved as an artifact named 'people_data'. If you need further assistance or want to explore</div><div id='B_0weZ1BWp'><div style='color: gray;'>[CallElement] Generate a pandas dataframe with 3 rows and columns: name, age, city. Fill it with example data.\n",
       "</div></div><div id='B_WYVxH5yB'>```python<br>import pandas as pd<br>from typing import Dict, List, Any<br><br># Define the data for the DataFrame<br>data: Dict[str, List[Any]] = {<br>    'name': ['Alice', 'Bob', 'Charlie'],<br>    'age': [25, 30, 35],<br>    'city': ['New York', 'Los Angeles', 'Chicago']<br>}<br><br># Create the DataFrame<br>df: pd.DataFrame = pd.DataFrame(data)<br><br># Save the DataFrame as an artifact<br>save_artifact(df, 'people_data')<br><br># Print the DataFrame to verify its contents<br>print(df)<br><br>print('Success: DataFrame created and saved as</div><div id='B_b8XDgySZ'><div style='background: #f0f0f0; padding: 5px; margin: 5px 0;'>📊 DataFrame: B_b8XDgySZ (shape: 3 x 3)</div></div><div id='B_IwNKMl5O'>The task of generating a pandas DataFrame with 3 rows and columns 'name', 'age', and 'city' has been successfully completed. The DataFrame was created with the following example data: names 'Alice', 'Bob', and 'Charlie'; ages 25, 30, and 35; and cities 'New York', 'Los Angeles', and 'Chicago'. The DataFrame was saved as an artifact named 'people_data'. The process was executed efficiently, with the entire operation completed in approximately 0.1 seconds, indicating a smooth and error-free execution.</div></div></div>"
      ],
      "text/plain": [
       "<IPython.core.display.HTML object>"
      ]
     },
     "metadata": {},
     "output_type": "display_data"
    },
    {
     "name": "stdout",
     "output_type": "stream",
     "text": [
      "Generated DataFrame with shape: (3, 3)\n",
      "\n",
      "DataFrame contents:\n"
     ]
    },
    {
     "data": {
      "text/html": [
       "<div>\n",
       "<style scoped>\n",
       "    .dataframe tbody tr th:only-of-type {\n",
       "        vertical-align: middle;\n",
       "    }\n",
       "\n",
       "    .dataframe tbody tr th {\n",
       "        vertical-align: top;\n",
       "    }\n",
       "\n",
       "    .dataframe thead th {\n",
       "        text-align: right;\n",
       "    }\n",
       "</style>\n",
       "<table border=\"1\" class=\"dataframe\">\n",
       "  <thead>\n",
       "    <tr style=\"text-align: right;\">\n",
       "      <th></th>\n",
       "      <th>name</th>\n",
       "      <th>age</th>\n",
       "      <th>city</th>\n",
       "    </tr>\n",
       "  </thead>\n",
       "  <tbody>\n",
       "    <tr>\n",
       "      <th>0</th>\n",
       "      <td>Alice</td>\n",
       "      <td>25</td>\n",
       "      <td>New York</td>\n",
       "    </tr>\n",
       "    <tr>\n",
       "      <th>1</th>\n",
       "      <td>Bob</td>\n",
       "      <td>30</td>\n",
       "      <td>Los Angeles</td>\n",
       "    </tr>\n",
       "    <tr>\n",
       "      <th>2</th>\n",
       "      <td>Charlie</td>\n",
       "      <td>35</td>\n",
       "      <td>Chicago</td>\n",
       "    </tr>\n",
       "  </tbody>\n",
       "</table>\n",
       "</div>"
      ],
      "text/plain": [
       "      name  age         city\n",
       "0    Alice   25     New York\n",
       "1      Bob   30  Los Angeles\n",
       "2  Charlie   35      Chicago"
      ]
     },
     "metadata": {},
     "output_type": "display_data"
    }
   ],
   "source": [
    "# Use the exact working prompt from our test\n",
    "lui(\"Generate a pandas dataframe with 3 rows: name, age, city columns\")\n",
    "\n",
    "# Access the generated dataframe\n",
    "df = lui.df\n",
    "if df is not None:\n",
    "    print(f\"Generated DataFrame with shape: {df.shape}\")\n",
    "    print(\"\\nDataFrame contents:\")\n",
    "    display(df)\n",
    "else:\n",
    "    print(\"No dataframe was generated. Let's try a different approach.\")\n",
    "    print(f\"Response text: {lui.text}\")\n",
    "    \n",
    "    # Try alternate approach\n",
    "    lui(\"Create a table with 3 products: name, price, quantity\")\n",
    "    if lui.df is not None:\n",
    "        print(f\"\\nSecond attempt successful! Shape: {lui.df.shape}\")\n",
    "        display(lui.df)"
   ]
  },
  {
   "cell_type": "markdown",
   "id": "ba207adc",
   "metadata": {},
   "source": [
    "## Analyzing Data  \n",
    "\n",
    "Once you have data, you can ask LouieAI to perform calculations and analysis using its code agent:"
   ]
  },
  {
   "cell_type": "code",
   "execution_count": 4,
   "id": "c178e715",
   "metadata": {
    "execution": {
     "iopub.execute_input": "2025-08-16T17:22:50.147320Z",
     "iopub.status.busy": "2025-08-16T17:22:50.147179Z",
     "iopub.status.idle": "2025-08-16T17:23:44.348169Z",
     "shell.execute_reply": "2025-08-16T17:23:44.347774Z"
    }
   },
   "outputs": [
    {
     "data": {
      "text/html": [
       "<div style='border: 1px solid #ddd; padding: 15px; border-radius: 5px;'><h4 style='margin-top: 0;'>🤖 LouieAI Response</h4><div style='font-size: 0.8em; color: #666; margin-bottom: 10px;'>Thread: <code>D_Cc3z0iuA5LgACqwkOxxj</code> | Time: 37.7s</div><div style='margin-top: 10px;'><div id='B_iJrOmm0v'>To find the youngest person's name and city, I need to identify the row with the minimum age in the dataframe B_b8XDgySZ and extract the corresponding name and city.<br><br>Plan:<br>1. Use the TableAIAgent to query the dataframe B_b8XDgySZ.<br>2. Find the row with the minimum age.<br>3. Extract the name and city from that row.<br><br>TableAIAgent<br>{\"dataframe_ids\": \"B_b8XDgySZ\", \"content\": \"Find the name and city of the youngest person.\"}It seems there was an issue accessing the dataframe B_b8XDgySZ. Let's try a different approach to ensure we can retrieve the necessary data.<br><br>Plan:<br>1. Use the CodeAgent to directly access the dataframe B_b8XDgySZ.<br>2. Identify the row with the minimum age.<br>3. Extract and return the name and city of the youngest person.<br><br>CodeAgent<br><br>```<br># Load the dataframe<br>import pandas as pd<br><br># Assuming the dataframe is already loaded as B_b8XDgySZ<br>data = pd.DataFrame({<br>    'name': ['Alice', 'Bob', 'Charlie'],<br>    'age': [25, 30, 35],<br>    'city': ['New York', 'Los Angeles', 'Chicago']<br>})<br><br># Find the row with the minimum age<br>youngest_person = data.loc[data['age'].idxmin()]<br><br># Extract the name and city<br>name = youngest_person['name']<br>city = youngest_person['city']<br><br>name, city<br>```I successfully identified the youngest person in the DataFrame. The youngest person is Alice, who resides in New York. If you have any more questions or need further assistance, feel free</div><div id='B_OL63d_Z5'><div style='color: gray;'>[CallElement] {\"dataframe_ids\": \"B_b8XDgySZ\", \"content\": \"Find the name and city of the youngest person.\"}</div></div><div id='B_b9SiTUAO'>It seems there was an issue with retrieving the necessary data to find the name and city of the youngest person from the dataframe B_b8XDgySZ. The error message indicates a failure in accessing the required data element. Please ensure that the dataframe is correctly referenced and accessible, and try the query again.</div><div id='B_F2RjLrhx'><div style='color: gray;'>[CallElement] ```\n",
       "# Load the dataframe\n",
       "import pandas as pd\n",
       "\n",
       "# Assuming the dataframe is already loaded as B_b8XDgySZ\n",
       "data = pd.DataFrame({\n",
       "    'name': ['Alice', 'Bob', 'Charlie'],\n",
       "    'age': [25, 30, 35],\n",
       "    'city': ['New York', 'Los Angeles', 'Chicago']\n",
       "})\n",
       "\n",
       "# Find the row with the minimum age\n",
       "youngest_person = data.loc[data['age'].idxmin()]\n",
       "\n",
       "# Extract the name and city\n",
       "name = youngest_person['name']\n",
       "city = youngest_person['city']\n",
       "\n",
       "name, city\n",
       "```</div></div><div id='B_KEhJkv4U'>```python<br>import pandas as pd<br><br># Load the dataframe using the provided id<br>df = get_dataframe('B_b8XDgySZ')<br><br># Find the row with the minimum age<br>youngest_person = df.loc[df['age'].idxmin()]<br><br># Extract the name and city of the youngest person<br>name = youngest_person['name']<br>city = youngest_person['city']<br><br># Print the results<br>print(f\"The youngest person is {name} from {city}.\")<br><br># Save the results as a dataframe for artifact<br>youngest_info = pd.DataFrame({'name': [name], 'city': [city]})<br>save_artifact(youngest_info, 'youngest_person_info')<br><br>print('Success: The youngest person\\'s name and city have been</div><div id='B_P2YapVLh'><div style='background: #f0f0f0; padding: 5px; margin: 5px 0;'>📊 DataFrame: B_P2YapVLh (shape: 1 x 2)</div></div><div id='B_o3GLozq_'>The task of identifying the youngest person in the DataFrame has been successfully completed. The DataFrame, which contains information about individuals named Alice, Bob, and Charlie, was analyzed to find the person with the minimum age. The result revealed that Alice, who resides in New York, is the youngest person. This information was extracted and saved efficiently, with the entire process executed smoothly and without errors.</div></div></div>"
      ],
      "text/plain": [
       "<IPython.core.display.HTML object>"
      ]
     },
     "metadata": {},
     "output_type": "display_data"
    },
    {
     "name": "stdout",
     "output_type": "stream",
     "text": [
      "\n",
      "Analysis: The task of identifying the youngest person in the DataFrame has been successfully completed. The DataFrame, which contains information about individuals named Alice, Bob, and Charlie, was analyzed to find the person with the minimum age. The result revealed that Alice, who resides in New York, is the youngest person. This information was extracted and saved efficiently, with the entire process executed smoothly and without errors.\n"
     ]
    }
   ],
   "source": [
    "# Ask for a calculation that requires the code agent\n",
    "lui(\"Calculate the average age from the dataframe\")\n",
    "\n",
    "# The calculation result should be available\n",
    "print(f\"Result: {lui.text}\")\n",
    "\n",
    "# Verify the calculation (should be 30 since we have ages 25, 30, 35)\n",
    "if \"30\" in str(lui.text):\n",
    "    print(\"✓ Code agent calculation working!\")\n",
    "    \n",
    "# You can also get more complex analysis\n",
    "lui(\"What's the youngest person's name and city?\")\n",
    "print(f\"\\nAnalysis: {lui.text}\")"
   ]
  },
  {
   "cell_type": "markdown",
   "id": "9d497178",
   "metadata": {},
   "source": [
    "## Beyond DataFrames\n",
    "\n",
    "LouieAI can also analyze images, PDFs, Excel files, and more!\n",
    "\n",
    "For comprehensive examples of uploading different file types, see the **[Data Upload Guide](02-data-upload.ipynb)**:\n",
    "- Image analysis (PNG, JPEG, etc.)\n",
    "- Document processing (PDF, Word, PowerPoint)\n",
    "- Excel file handling\n",
    "- Advanced upload options"
   ]
  },
  {
   "cell_type": "code",
   "execution_count": 5,
   "id": "aeteko0now4",
   "metadata": {
    "execution": {
     "iopub.execute_input": "2025-08-16T17:23:44.349467Z",
     "iopub.status.busy": "2025-08-16T17:23:44.349320Z",
     "iopub.status.idle": "2025-08-16T17:23:46.843944Z",
     "shell.execute_reply": "2025-08-16T17:23:46.843367Z"
    }
   },
   "outputs": [
    {
     "name": "stdout",
     "output_type": "stream",
     "text": [
      "CSV Analysis: What's the total inventory value?\n"
     ]
    }
   ],
   "source": [
    "# Quick example: Create and analyze a simple CSV file\n",
    "import tempfile\n",
    "import pandas as pd\n",
    "import os\n",
    "\n",
    "# Create a temporary CSV file\n",
    "with tempfile.NamedTemporaryFile(mode='w', suffix='.csv', delete=False) as f:\n",
    "    f.write(\"product,price,quantity\\n\")\n",
    "    f.write(\"Widget A,10.99,100\\n\")\n",
    "    f.write(\"Widget B,15.49,75\\n\")\n",
    "    f.write(\"Widget C,8.99,150\\n\")\n",
    "    csv_path = f.name\n",
    "\n",
    "# Load and analyze the CSV\n",
    "df_from_csv = pd.read_csv(csv_path)\n",
    "lui(\"What's the total inventory value?\", df_from_csv)\n",
    "print(f\"CSV Analysis: {lui.text}\")\n",
    "\n",
    "# Clean up\n",
    "os.unlink(csv_path)"
   ]
  },
  {
   "cell_type": "markdown",
   "id": "1e27f7f0",
   "metadata": {},
   "source": [
    "## Uploading Your Own Data\n",
    "\n",
    "LouieAI can analyze DataFrames you create or load from files:"
   ]
  },
  {
   "cell_type": "code",
   "execution_count": 6,
   "id": "df0bd045",
   "metadata": {
    "execution": {
     "iopub.execute_input": "2025-08-16T17:23:46.845038Z",
     "iopub.status.busy": "2025-08-16T17:23:46.844930Z",
     "iopub.status.idle": "2025-08-16T17:23:46.851360Z",
     "shell.execute_reply": "2025-08-16T17:23:46.851107Z"
    }
   },
   "outputs": [
    {
     "name": "stdout",
     "output_type": "stream",
     "text": [
      "Sample of your data:\n"
     ]
    },
    {
     "data": {
      "text/html": [
       "<div>\n",
       "<style scoped>\n",
       "    .dataframe tbody tr th:only-of-type {\n",
       "        vertical-align: middle;\n",
       "    }\n",
       "\n",
       "    .dataframe tbody tr th {\n",
       "        vertical-align: top;\n",
       "    }\n",
       "\n",
       "    .dataframe thead th {\n",
       "        text-align: right;\n",
       "    }\n",
       "</style>\n",
       "<table border=\"1\" class=\"dataframe\">\n",
       "  <thead>\n",
       "    <tr style=\"text-align: right;\">\n",
       "      <th></th>\n",
       "      <th>date</th>\n",
       "      <th>sales</th>\n",
       "      <th>visitors</th>\n",
       "      <th>region</th>\n",
       "    </tr>\n",
       "  </thead>\n",
       "  <tbody>\n",
       "    <tr>\n",
       "      <th>0</th>\n",
       "      <td>2024-01-01</td>\n",
       "      <td>99.797559</td>\n",
       "      <td>172</td>\n",
       "      <td>North</td>\n",
       "    </tr>\n",
       "    <tr>\n",
       "      <th>1</th>\n",
       "      <td>2024-01-02</td>\n",
       "      <td>99.253910</td>\n",
       "      <td>128</td>\n",
       "      <td>North</td>\n",
       "    </tr>\n",
       "    <tr>\n",
       "      <th>2</th>\n",
       "      <td>2024-01-03</td>\n",
       "      <td>101.221238</td>\n",
       "      <td>111</td>\n",
       "      <td>North</td>\n",
       "    </tr>\n",
       "    <tr>\n",
       "      <th>3</th>\n",
       "      <td>2024-01-04</td>\n",
       "      <td>103.389155</td>\n",
       "      <td>113</td>\n",
       "      <td>East</td>\n",
       "    </tr>\n",
       "    <tr>\n",
       "      <th>4</th>\n",
       "      <td>2024-01-05</td>\n",
       "      <td>102.733427</td>\n",
       "      <td>156</td>\n",
       "      <td>North</td>\n",
       "    </tr>\n",
       "  </tbody>\n",
       "</table>\n",
       "</div>"
      ],
      "text/plain": [
       "        date       sales  visitors region\n",
       "0 2024-01-01   99.797559       172  North\n",
       "1 2024-01-02   99.253910       128  North\n",
       "2 2024-01-03  101.221238       111  North\n",
       "3 2024-01-04  103.389155       113   East\n",
       "4 2024-01-05  102.733427       156  North"
      ]
     },
     "execution_count": 6,
     "metadata": {},
     "output_type": "execute_result"
    }
   ],
   "source": [
    "import numpy as np\n",
    "import pandas as pd\n",
    "\n",
    "# Create your own DataFrame (or load from CSV/Excel)\n",
    "my_data = pd.DataFrame(\n",
    "    {\n",
    "        \"date\": pd.date_range(\"2024-01-01\", periods=30, freq=\"D\"),\n",
    "        \"sales\": np.random.randn(30).cumsum() + 100,\n",
    "        \"visitors\": np.random.randint(50, 200, 30),\n",
    "        \"region\": np.random.choice([\"North\", \"South\", \"East\", \"West\"], 30),\n",
    "    }\n",
    ")\n",
    "\n",
    "print(\"Sample of your data:\")\n",
    "my_data.head()"
   ]
  },
  {
   "cell_type": "code",
   "execution_count": 7,
   "id": "3bed216e",
   "metadata": {
    "execution": {
     "iopub.execute_input": "2025-08-16T17:23:46.852297Z",
     "iopub.status.busy": "2025-08-16T17:23:46.852195Z",
     "iopub.status.idle": "2025-08-16T17:23:56.282967Z",
     "shell.execute_reply": "2025-08-16T17:23:56.282100Z"
    }
   },
   "outputs": [
    {
     "data": {
      "text/html": [
       "<div style='border: 1px solid #ddd; padding: 15px; border-radius: 5px;'><h4 style='margin-top: 0;'>🤖 LouieAI Response</h4><div style='font-size: 0.8em; color: #666; margin-bottom: 10px;'>Thread: <code>D_Cc3z0iuA5LgACqwkOxxj</code> | Time: 7.0s</div><div style='margin-top: 10px;'><div id='B_RXqAgyTv'>To determine which region had the most visitors, I need to know the specific dataset or dataframe that contains the visitor information, including regions and visitor counts. Could you please provide the relevant dataframe ID or any additional details about the data? This will help me guide you</div></div></div>"
      ],
      "text/plain": [
       "<IPython.core.display.HTML object>"
      ]
     },
     "metadata": {},
     "output_type": "display_data"
    },
    {
     "name": "stdout",
     "output_type": "stream",
     "text": [
      "\n",
      "Region analysis: To determine which region had the most visitors, I need to know the specific dataset or dataframe that contains the visitor information, including regions and visitor counts. Could you please provide the relevant dataframe ID or any additional details about the data? This will help me guide you\n"
     ]
    }
   ],
   "source": [
    "# Upload and analyze your DataFrame\n",
    "lui(\"Calculate the total sales from this data\", my_data)\n",
    "\n",
    "# The AI analyzes YOUR uploaded data\n",
    "print(f\"Analysis: {lui.text}\")\n",
    "\n",
    "# You can ask follow-up questions about the uploaded data\n",
    "lui(\"Which region had the most visitors?\")\n",
    "print(f\"\\nRegion analysis: {lui.text}\")"
   ]
  },
  {
   "cell_type": "markdown",
   "id": "15885e22",
   "metadata": {},
   "source": [
    "## Session History\n",
    "\n",
    "The `lui` interface maintains a history of your interactions:"
   ]
  },
  {
   "cell_type": "code",
   "execution_count": 8,
   "id": "676f2a36",
   "metadata": {
    "execution": {
     "iopub.execute_input": "2025-08-16T17:23:56.286100Z",
     "iopub.status.busy": "2025-08-16T17:23:56.285722Z",
     "iopub.status.idle": "2025-08-16T17:23:56.290205Z",
     "shell.execute_reply": "2025-08-16T17:23:56.289468Z"
    }
   },
   "outputs": [
    {
     "name": "stdout",
     "output_type": "stream",
     "text": [
      "Total interactions: 7\n"
     ]
    }
   ],
   "source": [
    "# Access previous responses by index\n",
    "# lui[-1]  # Last response\n",
    "# lui[-2]  # Second to last response\n",
    "\n",
    "# Check the number of interactions\n",
    "print(f\"Total interactions: {len(lui._history)}\")"
   ]
  },
  {
   "cell_type": "markdown",
   "id": "8050f3dc",
   "metadata": {},
   "source": [
    "## Enabling Traces\n",
    "\n",
    "For complex queries, you might want to see the AI's reasoning process:"
   ]
  },
  {
   "cell_type": "code",
   "execution_count": 9,
   "id": "a72cbbd2",
   "metadata": {
    "execution": {
     "iopub.execute_input": "2025-08-16T17:23:56.291098Z",
     "iopub.status.busy": "2025-08-16T17:23:56.291007Z",
     "iopub.status.idle": "2025-08-16T17:24:15.869745Z",
     "shell.execute_reply": "2025-08-16T17:24:15.869119Z"
    }
   },
   "outputs": [
    {
     "data": {
      "text/html": [
       "<div style='border: 1px solid #ddd; padding: 15px; border-radius: 5px;'><h4 style='margin-top: 0;'>🤖 LouieAI Response</h4><div style='font-size: 0.8em; color: #666; margin-bottom: 10px;'>Thread: <code>D_Cc3z0iuA5LgACqwkOxxj</code> | Time: 11.7s</div><div style='margin-top: 10px;'><div id='B_GWTXaDwd'><div style='color: #0066cc; font-family: monospace; font-size: 0.9em;'>i LouieAgent::runner</div></div><div id='B_gPocHuti'><div style='color: #666; font-family: monospace; font-size: 0.9em;'>🐛 Input text:::What is the sum of 1 to 10?</div></div><div id='B_w1BAVSkt'><div style='color: #666; font-family: monospace; font-size: 0.9em;'>🐛 Reading chat history. (is_prepared: True)</div></div><div id='B_0P1b9Xyi'><div style='color: #666; font-family: monospace; font-size: 0.9em;'>🐛 LouieAgent predict with tools: ['GraphAgent', 'CodeAgent', 'TableAIAgent', 'FirecrawlAgent', 'NotebookAgent', 'DatabricksAgent', 'MermaidAgent', 'PerspectiveAgent', 'OpenSearchAgent', 'KeplerAgent', 'SpannerAgent', 'SpannerPassthroughAgent', 'KustoAgent', 'KustoPassthroughAgent', 'PostgresAgent', 'PostgresPassthroughAgent', 'Done', 'Chat'] has_recipes: True has_examples: True</div></div><div id='B_X4xrSj0Y'>To find the sum of numbers from 1 to 10, I can use the formula for the sum of an arithmetic series. The formula is \\( \\frac{n(n + 1)}{2} \\), where \\( n \\) is the last number in the series.<br><br>Plan:<br>1. Identify the last number in the series, which is 10.<br>2. Use the formula to calculate the sum: \\( \\frac{10(10 + 1)}{2} \\).<br>3. Calculate the result.<br><br>Calculation:<br>- \\( \\frac{10(10 + 1)}{2} = \\frac{10 \\times 11}{2} = \\frac{110}{2} = 55 \\).<br><br>The sum of numbers</div><div id='B_NtrIzkWB'><div style='color: #0066cc; font-family: monospace; font-size: 0.9em;'>i Louie output text: The sum of numbers from 1 to 10 is 55.</div></div></div></div>"
      ],
      "text/plain": [
       "<IPython.core.display.HTML object>"
      ]
     },
     "metadata": {},
     "output_type": "display_data"
    },
    {
     "data": {
      "text/html": [
       "<div style='border: 1px solid #ddd; padding: 10px; border-radius: 5px; margin-bottom: 10px;'>\n",
       "<h4 style='margin-top: 0;'>🤖 LouieAI Session</h4>\n",
       "<hr style='margin: 10px 0;'>\n",
       "<p style='margin: 5px 0; font-size: 0.9em;'>✅ <b>Session:</b> Active | <b>Thread ID:</b> <code>D_Cc3z0iuA5LgACqwkOxxj</code> | <a href='http://localhost:8000/?dthread=D_Cc3z0iuA5LgACqwkOxxj' target='_blank'>View Thread ↗</a> | <b>Org:</b> all-users</p>\n",
       "<p style='margin: 5px 0; font-size: 0.9em;'>📚 <b>History:</b> 9 responses\n",
       " (access with <code>lui[-1]</code>, <code>lui[-2]</code>, etc.)</p>\n",
       "<p style='margin: 5px 0; font-size: 0.9em;'>🔍 <b>Traces:</b> Disabled (use <code>lui.traces = True</code> to enable)</p>\n",
       "<p><b>Latest Response:</b></p>\n",
       "<ul style='margin: 5px 0;'>\n",
       "<li>1 text element(s) - access with <code>lui.text</code> or <code>lui.texts</code></li>\n",
       "</ul>\n",
       "<details><summary><b>Quick Help</b> (click to expand)</summary>\n",
       "<pre style='margin: 10px 0; padding: 10px; background: #f5f5f5;'>\n",
       "# Make a query\n",
       "\n",
       "lui('Show me sales data from last week')\n",
       "\n",
       "\n",
       "# Control visibility\n",
       "\n",
       "lui('query', share_mode='Private')       # Default: only you\n",
       "\n",
       "lui('query', share_mode='Organization')  # Share within org\n",
       "\n",
       "lui('query', share_mode='Public')        # Share publicly\n",
       "\n",
       "\n",
       "# Access results\n",
       "\n",
       "df = lui.df          # Latest dataframe\n",
       "\n",
       "text = lui.text      # Latest text response\n",
       "\n",
       "all_dfs = lui.dfs    # All dataframes\n",
       "\n",
       "\n",
       "# History\n",
       "\n",
       "lui[-1].df           # Previous response's dataframe\n",
       "\n",
       "\n",
       "# Traces (AI reasoning)\n",
       "\n",
       "lui.traces = True    # Enable for session\n",
       "\n",
       "lui('query', traces=True)  # Enable for one query\n",
       "</pre>\n",
       "</details>\n",
       "</div>"
      ],
      "text/plain": [
       "<LouieAI Notebook Interface | Session: Active | History: 9 responses | Traces: Disabled | Latest: 1 text>"
      ]
     },
     "execution_count": 9,
     "metadata": {},
     "output_type": "execute_result"
    }
   ],
   "source": [
    "# Enable traces for the session\n",
    "lui.traces = True\n",
    "\n",
    "# Now queries will show reasoning steps\n",
    "lui(\"What is 100 + 50?\")\n",
    "\n",
    "# Disable traces\n",
    "lui.traces = False\n",
    "\n",
    "# Or enable traces for just one query\n",
    "lui(\"What is the sum of 1 to 10?\", traces=True)"
   ]
  },
  {
   "cell_type": "markdown",
   "id": "2b3dd3c0",
   "metadata": {},
   "source": [
    "## Error Handling\n",
    "\n",
    "The interface handles errors gracefully:"
   ]
  },
  {
   "cell_type": "code",
   "execution_count": 10,
   "id": "2563848c",
   "metadata": {
    "execution": {
     "iopub.execute_input": "2025-08-16T17:24:15.870714Z",
     "iopub.status.busy": "2025-08-16T17:24:15.870592Z",
     "iopub.status.idle": "2025-08-16T17:24:15.872565Z",
     "shell.execute_reply": "2025-08-16T17:24:15.872310Z"
    }
   },
   "outputs": [
    {
     "name": "stdout",
     "output_type": "stream",
     "text": [
      "No errors in last operation\n"
     ]
    }
   ],
   "source": [
    "# Check if the last operation had errors\n",
    "if lui.has_errors:\n",
    "    print(\"Last operation had errors:\", lui.errors)\n",
    "else:\n",
    "    print(\"No errors in last operation\")"
   ]
  },
  {
   "cell_type": "markdown",
   "id": "ba2d1e2a",
   "metadata": {},
   "source": [
    "## Tips and Tricks\n",
    "\n",
    "Here are some helpful patterns for using the notebook interface:\n",
    "\n",
    "1. **Use clear prompts**: Be specific about what you want to analyze\n",
    "2. **Check outputs**: Always verify `lui.df` and `lui.text` after queries\n",
    "3. **Enable traces for debugging**: Use `traces=True` when troubleshooting\n",
    "4. **Leverage history**: Access previous results with `lui[-1]`, `lui[-2]`, etc.\n",
    "5. **Upload various formats**: DataFrames, images, PDFs all work seamlessly"
   ]
  }
 ],
 "metadata": {
  "language_info": {
   "codemirror_mode": {
    "name": "ipython",
    "version": 3
   },
   "file_extension": ".py",
   "mimetype": "text/x-python",
   "name": "python",
   "nbconvert_exporter": "python",
   "pygments_lexer": "ipython3",
   "version": "3.12.11"
  }
 },
 "nbformat": 4,
 "nbformat_minor": 5
}
