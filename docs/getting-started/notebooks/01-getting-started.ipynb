{
 "cells": [
  {
   "cell_type": "markdown",
   "id": "1e9db8de",
   "metadata": {},
   "source": [
    "# Getting Started with LouieAI Notebook Interface\n",
    "\n",
    "This notebook demonstrates the basic usage of the LouieAI notebook-friendly API (`lui`).\n",
    "\n",
    "## Authentication Requirements\n",
    "\n",
    "LouieAI uses PyGraphistry for authentication. Before running this notebook, you need:\n",
    "\n",
    "1. **PyGraphistry Account**: Sign up for free at [hub.graphistry.com](https://hub.graphistry.com)\n",
    "2. **Set Credentials**: Use one of these methods:\n",
    "\n",
    "   ```bash\n",
    "   # Option 1: Environment variables (recommended for notebooks)\n",
    "   export GRAPHISTRY_USERNAME=\"your_username\"\n",
    "   export GRAPHISTRY_PASSWORD=\"your_password\"\n",
    "   ```\n",
    "   \n",
    "   ```python\n",
    "   # Option 2: Authenticate in code\n",
    "   import graphistry\n",
    "   graphistry.register(api=3, server=\"hub.graphistry.com\", \n",
    "                      username=\"your_username\", password=\"your_password\")\n",
    "   ```\n",
    "\n",
    "## Setup\n",
    "\n",
    "First, make sure you have LouieAI installed and your credentials configured."
   ]
  },
  {
   "cell_type": "code",
   "execution_count": 1,
   "id": "fdb0cef5",
   "metadata": {
    "execution": {
     "iopub.execute_input": "2025-08-16T10:15:43.951497Z",
     "iopub.status.busy": "2025-08-16T10:15:43.951051Z",
     "iopub.status.idle": "2025-08-16T10:15:45.009055Z",
     "shell.execute_reply": "2025-08-16T10:15:45.008606Z"
    }
   },
   "outputs": [
    {
     "data": {
      "text/html": [
       "<div style='border: 1px solid #ddd; padding: 10px; border-radius: 5px; margin-bottom: 10px;'>\n",
       "<h4 style='margin-top: 0;'>🤖 LouieAI Session</h4>\n",
       "<hr style='margin: 10px 0;'>\n",
       "<p style='margin: 5px 0; font-size: 0.9em;'>⚪ <b>Session:</b> Not started (use <code>lui('your query')</code>)</p>\n",
       "<p style='margin: 5px 0; font-size: 0.9em;'>📚 <b>History:</b> 0 responses\n",
       "</p>\n",
       "<p style='margin: 5px 0; font-size: 0.9em;'>🔍 <b>Traces:</b> Disabled (use <code>lui.traces = True</code> to enable)</p>\n",
       "<details><summary><b>Quick Help</b> (click to expand)</summary>\n",
       "<pre style='margin: 10px 0; padding: 10px; background: #f5f5f5;'>\n",
       "# Make a query\n",
       "\n",
       "lui('Show me sales data from last week')\n",
       "\n",
       "\n",
       "# Control visibility\n",
       "\n",
       "lui('query', share_mode='Private')       # Default: only you\n",
       "\n",
       "lui('query', share_mode='Organization')  # Share within org\n",
       "\n",
       "lui('query', share_mode='Public')        # Share publicly\n",
       "\n",
       "\n",
       "# Access results\n",
       "\n",
       "df = lui.df          # Latest dataframe\n",
       "\n",
       "text = lui.text      # Latest text response\n",
       "\n",
       "all_dfs = lui.dfs    # All dataframes\n",
       "\n",
       "\n",
       "# History\n",
       "\n",
       "lui[-1].df           # Previous response's dataframe\n",
       "\n",
       "\n",
       "# Traces (AI reasoning)\n",
       "\n",
       "lui.traces = True    # Enable for session\n",
       "\n",
       "lui('query', traces=True)  # Enable for one query\n",
       "</pre>\n",
       "</details>\n",
       "</div>"
      ],
      "text/plain": [
       "<LouieAI Notebook Interface | Session: Not started | History: 0 responses | Traces: Disabled>"
      ]
     },
     "execution_count": 1,
     "metadata": {},
     "output_type": "execute_result"
    }
   ],
   "source": [
    "import os\n",
    "\n",
    "import graphistry\n",
    "\n",
    "from louieai import louie  # Factory function to create Louie interface\n",
    "\n",
    "# Authenticate with Graphistry\n",
    "# Uses GRAPHISTRY_USERNAME and GRAPHISTRY_PASSWORD from environment\n",
    "g = graphistry.register(\n",
    "    api=3,\n",
    "    server=os.environ.get(\"GRAPHISTRY_SERVER\", \"hub.graphistry.com\"),\n",
    "    username=os.environ.get(\"GRAPHISTRY_USERNAME\"),\n",
    "    password=os.environ.get(\"GRAPHISTRY_PASSWORD\"),\n",
    ")\n",
    "\n",
    "# Configure Louie server URL\n",
    "# Default to production server, or set LOUIE_SERVER env var for custom\n",
    "# Examples:\n",
    "#   export LOUIE_SERVER=\"http://localhost:8000\"  # Local development\n",
    "#   export LOUIE_SERVER=\"https://den.louie.ai\"    # Production (default)\n",
    "LOUIE_SERVER_URL = os.environ.get(\"LOUIE_SERVER\", \"https://den.louie.ai\")\n",
    "\n",
    "# Create the Louie interface\n",
    "lui = louie(g, server_url=LOUIE_SERVER_URL)\n",
    "\n",
    "lui  # Display status"
   ]
  },
  {
   "cell_type": "markdown",
   "id": "feb998d0",
   "metadata": {},
   "source": [
    "## Basic Queries\n",
    "\n",
    "Making queries with `lui` is simple - just call it like a function:"
   ]
  },
  {
   "cell_type": "code",
   "execution_count": 2,
   "id": "2b2e6f64",
   "metadata": {
    "execution": {
     "iopub.execute_input": "2025-08-16T10:15:45.010522Z",
     "iopub.status.busy": "2025-08-16T10:15:45.010345Z",
     "iopub.status.idle": "2025-08-16T10:15:52.014746Z",
     "shell.execute_reply": "2025-08-16T10:15:52.014427Z"
    }
   },
   "outputs": [
    {
     "data": {
      "text/html": [
       "<div style='border: 1px solid #ddd; padding: 15px; border-radius: 5px;'><h4 style='margin-top: 0;'>🤖 LouieAI Response</h4><div style='font-size: 0.8em; color: #666; margin-bottom: 10px;'>Thread: <code>D_Fw9sYtOApib9i_vhtq8S</code> | Time: 7.0s</div><div style='margin-top: 10px;'><div id='B_13AnIYeF'></div></div></div>"
      ],
      "text/plain": [
       "<IPython.core.display.HTML object>"
      ]
     },
     "metadata": {},
     "output_type": "display_data"
    },
    {
     "name": "stdout",
     "output_type": "stream",
     "text": [
      "Answer: \n"
     ]
    }
   ],
   "source": [
    "# Ask a simple question\n",
    "response = lui(\"What is the capital of France?\")\n",
    "\n",
    "# The response is automatically stored and accessible\n",
    "print(f\"Answer: {lui.text}\")"
   ]
  },
  {
   "cell_type": "markdown",
   "id": "8191d818",
   "metadata": {},
   "source": [
    "## Working with Data\n",
    "\n",
    "LouieAI can generate and analyze data. Let's create a sample dataset:"
   ]
  },
  {
   "cell_type": "code",
   "execution_count": 3,
   "id": "480a9a58",
   "metadata": {
    "execution": {
     "iopub.execute_input": "2025-08-16T10:15:52.015930Z",
     "iopub.status.busy": "2025-08-16T10:15:52.015807Z",
     "iopub.status.idle": "2025-08-16T10:16:04.989642Z",
     "shell.execute_reply": "2025-08-16T10:16:04.989177Z"
    }
   },
   "outputs": [
    {
     "data": {
      "text/html": [
       "<div style='border: 1px solid #ddd; padding: 15px; border-radius: 5px;'><h4 style='margin-top: 0;'>🤖 LouieAI Response</h4><div style='font-size: 0.8em; color: #666; margin-bottom: 10px;'>Thread: <code>D_Fw9sYtOApib9i_vhtq8S</code> | Time: 13.0s</div><div style='margin-top: 10px;'><div id='B_iL5_EUOP'>The user wants a dataframe with specific columns and data types for 10 products. I will use the PostgresAgent to query a Postgres database to retrieve this data.<br><br>Plan:<br>1. Use the PostgresAgent to query the database for 10 products with the specified columns: product_name, category, price, and units_sold.<br>2. Ensure the data types match the user's requirements: product_name and category as strings, price as a float, and units_sold as an integer.<br>3. Return the resulting dataframe.<br><br>PostgresAgent<br>\"SELECT product_name, category, price, units_sold FROM products LIMIT 10\"It seems there was an error because the \"products\" table does not exist in the database. Let's try a different approach to ensure we get the data you need.<br><br>Plan:<br>1. Verify the correct table name or check if there is an alternative table that contains product information.<br>2. If the table name is unknown, consult with a database administrator or check the database schema for the correct table name.<br>3. Retry the query with the correct table name.<br><br>Let's proceed with checking the database schema or consulting with a database administrator to find the correct table name. Once we have the correct table name, we can retry the query. If you have any additional information about</div><div id='B_CrppA0rz'><div style='color: gray;'>[CallElement] SELECT product_name, category, price, units_sold FROM products LIMIT 10</div></div><div id='B_qssCNY1y'>It seems there was an error when attempting to execute the SQL query. The error message indicates that the \"products\" table does not exist in the database. This could be due to a typo in the table name, the table not being created yet, or a different database schema being used. To resolve this, you might want to check the database schema to ensure the table exists and is correctly named, or consult with a database administrator for further assistance.</div></div></div>"
      ],
      "text/plain": [
       "<IPython.core.display.HTML object>"
      ]
     },
     "metadata": {},
     "output_type": "display_data"
    },
    {
     "name": "stdout",
     "output_type": "stream",
     "text": [
      "No dataframe was generated. Try asking for 'a table' or 'dataframe' explicitly.\n"
     ]
    }
   ],
   "source": [
    "# Request data generation with explicit \"return dataframe\" instruction\n",
    "lui(\n",
    "    \"Return a dataframe with 10 products containing columns: \"\n",
    "    \"product_name (string), category (string), price (float), units_sold (integer)\"\n",
    ")\n",
    "\n",
    "# Access the generated dataframe\n",
    "df = lui.df\n",
    "if df is not None:\n",
    "    print(f\"Generated DataFrame with shape: {df.shape}\")\n",
    "    print(\"\\nFirst few rows:\")\n",
    "    display(df.head())\n",
    "else:\n",
    "    print(\n",
    "        \"No dataframe was generated. Try asking for 'a table' \"\n",
    "        \"or 'dataframe' explicitly.\"\n",
    "    )"
   ]
  },
  {
   "cell_type": "markdown",
   "id": "ba207adc",
   "metadata": {},
   "source": [
    "## Analyzing Data\n",
    "\n",
    "Once you have data, you can ask questions about it:"
   ]
  },
  {
   "cell_type": "code",
   "execution_count": 4,
   "id": "c178e715",
   "metadata": {
    "execution": {
     "iopub.execute_input": "2025-08-16T10:16:04.990670Z",
     "iopub.status.busy": "2025-08-16T10:16:04.990546Z",
     "iopub.status.idle": "2025-08-16T10:16:22.759380Z",
     "shell.execute_reply": "2025-08-16T10:16:22.758509Z"
    }
   },
   "outputs": [
    {
     "data": {
      "text/html": [
       "<div style='border: 1px solid #ddd; padding: 15px; border-radius: 5px;'><h4 style='margin-top: 0;'>🤖 LouieAI Response</h4><div style='font-size: 0.8em; color: #666; margin-bottom: 10px;'>Thread: <code>D_Fw9sYtOApib9i_vhtq8S</code> | Time: 17.8s</div><div style='margin-top: 10px;'><div id='B_y32eLAZO'>To find the maximum price in the dataframe, I need to identify the dataframe and the column that contains the price information. Since the question is about a dataframe, I will use the TableAIAgent to analyze the data and find the maximum price.<br><br>Plan:<br>1. Identify the dataframe that contains the price information.<br>2. Use the TableAIAgent to find the maximum price in the specified column.<br>3. Return the result to the user.<br><br>TableAIAgent<br>\"What is the maximum price in the dataframe B_VP0DRbxd using the column 'price'?\"It seems there was an issue accessing the dataframe B_VP0DRbxd. This could be due to the dataframe not being properly loaded or accessible at the moment. Let's try to resolve this by ensuring the dataframe is correctly initialized and available for querying.<br><br>Plan:<br>1. Verify if the dataframe B_VP0DRbxd is correctly loaded and accessible.<br>2. If not, attempt to reload or reinitialize the dataframe.<br>3. Once the dataframe is accessible, use the TableAIAgent to find the maximum price in the 'price' column.<br><br>Let's proceed with checking the availability of the dataframe. If you have any</div><div id='B_xfmZ4o2J'><div style='color: gray;'>[CallElement] What is the maximum price in the dataframe B_VP0DRbxd using the column 'price'?</div></div><div id='B_AYN62kub'>It seems there was an issue accessing the dataframe B_VP0DRbxd, as indicated by the error message stating \"No DfElement found for deref_df(B_VP0DRbxd).\" This suggests that the dataframe might not be properly loaded or accessible at the moment. Please ensure that the dataframe is correctly initialized and available for querying. If the problem persists, you might need to check the data source or the way the dataframe is being referenced.</div></div></div>"
      ],
      "text/plain": [
       "<IPython.core.display.HTML object>"
      ]
     },
     "metadata": {},
     "output_type": "display_data"
    },
    {
     "name": "stdout",
     "output_type": "stream",
     "text": [
      "Answer: It seems there was an issue accessing the dataframe B_VP0DRbxd, as indicated by the error message stating \"No DfElement found for deref_df(B_VP0DRbxd).\" This suggests that the dataframe might not be properly loaded or accessible at the moment. Please ensure that the dataframe is correctly initialized and available for querying. If the problem persists, you might need to check the data source or the way the dataframe is being referenced.\n"
     ]
    }
   ],
   "source": [
    "# Simple analysis\n",
    "lui(\"What is the maximum price in the dataframe?\")\n",
    "\n",
    "# The text explanation is available\n",
    "print(f\"Answer: {lui.text}\")\n",
    "\n",
    "# If a dataframe is returned, display it\n",
    "if lui.df is not None:\n",
    "    print(\"\\nReturned data:\")\n",
    "    display(lui.df)"
   ]
  },
  {
   "cell_type": "markdown",
   "id": "9d497178",
   "metadata": {},
   "source": [
    "### Need more options?\n",
    "\n",
    "For advanced upload patterns including BytesIO, PIL Images, and more, see the [Data Upload Guide](02-data-upload.ipynb)."
   ]
  },
  {
   "cell_type": "markdown",
   "id": "1e27f7f0",
   "metadata": {},
   "source": [
    "## Uploading and Analyzing Your Own Data\n",
    "\n",
    "LouieAI supports uploading your own DataFrames, images, and documents for analysis:"
   ]
  },
  {
   "cell_type": "code",
   "execution_count": 5,
   "id": "df0bd045",
   "metadata": {
    "execution": {
     "iopub.execute_input": "2025-08-16T10:16:22.762517Z",
     "iopub.status.busy": "2025-08-16T10:16:22.762166Z",
     "iopub.status.idle": "2025-08-16T10:16:22.772598Z",
     "shell.execute_reply": "2025-08-16T10:16:22.772257Z"
    }
   },
   "outputs": [
    {
     "name": "stdout",
     "output_type": "stream",
     "text": [
      "Sample of your data:\n"
     ]
    },
    {
     "data": {
      "text/html": [
       "<div>\n",
       "<style scoped>\n",
       "    .dataframe tbody tr th:only-of-type {\n",
       "        vertical-align: middle;\n",
       "    }\n",
       "\n",
       "    .dataframe tbody tr th {\n",
       "        vertical-align: top;\n",
       "    }\n",
       "\n",
       "    .dataframe thead th {\n",
       "        text-align: right;\n",
       "    }\n",
       "</style>\n",
       "<table border=\"1\" class=\"dataframe\">\n",
       "  <thead>\n",
       "    <tr style=\"text-align: right;\">\n",
       "      <th></th>\n",
       "      <th>date</th>\n",
       "      <th>sales</th>\n",
       "      <th>visitors</th>\n",
       "      <th>region</th>\n",
       "    </tr>\n",
       "  </thead>\n",
       "  <tbody>\n",
       "    <tr>\n",
       "      <th>0</th>\n",
       "      <td>2024-01-01</td>\n",
       "      <td>98.634790</td>\n",
       "      <td>90</td>\n",
       "      <td>North</td>\n",
       "    </tr>\n",
       "    <tr>\n",
       "      <th>1</th>\n",
       "      <td>2024-01-02</td>\n",
       "      <td>98.057041</td>\n",
       "      <td>172</td>\n",
       "      <td>East</td>\n",
       "    </tr>\n",
       "    <tr>\n",
       "      <th>2</th>\n",
       "      <td>2024-01-03</td>\n",
       "      <td>96.438081</td>\n",
       "      <td>81</td>\n",
       "      <td>East</td>\n",
       "    </tr>\n",
       "    <tr>\n",
       "      <th>3</th>\n",
       "      <td>2024-01-04</td>\n",
       "      <td>93.819080</td>\n",
       "      <td>83</td>\n",
       "      <td>East</td>\n",
       "    </tr>\n",
       "    <tr>\n",
       "      <th>4</th>\n",
       "      <td>2024-01-05</td>\n",
       "      <td>92.092073</td>\n",
       "      <td>114</td>\n",
       "      <td>West</td>\n",
       "    </tr>\n",
       "  </tbody>\n",
       "</table>\n",
       "</div>"
      ],
      "text/plain": [
       "        date      sales  visitors region\n",
       "0 2024-01-01  98.634790        90  North\n",
       "1 2024-01-02  98.057041       172   East\n",
       "2 2024-01-03  96.438081        81   East\n",
       "3 2024-01-04  93.819080        83   East\n",
       "4 2024-01-05  92.092073       114   West"
      ]
     },
     "execution_count": 5,
     "metadata": {},
     "output_type": "execute_result"
    }
   ],
   "source": [
    "import numpy as np\n",
    "import pandas as pd\n",
    "\n",
    "# Create your own DataFrame (or load from CSV/Excel)\n",
    "my_data = pd.DataFrame(\n",
    "    {\n",
    "        \"date\": pd.date_range(\"2024-01-01\", periods=30, freq=\"D\"),\n",
    "        \"sales\": np.random.randn(30).cumsum() + 100,\n",
    "        \"visitors\": np.random.randint(50, 200, 30),\n",
    "        \"region\": np.random.choice([\"North\", \"South\", \"East\", \"West\"], 30),\n",
    "    }\n",
    ")\n",
    "\n",
    "print(\"Sample of your data:\")\n",
    "my_data.head()"
   ]
  },
  {
   "cell_type": "code",
   "execution_count": 6,
   "id": "1f66a6df",
   "metadata": {
    "execution": {
     "iopub.execute_input": "2025-08-16T10:16:22.773829Z",
     "iopub.status.busy": "2025-08-16T10:16:22.773687Z",
     "iopub.status.idle": "2025-08-16T10:16:22.775557Z",
     "shell.execute_reply": "2025-08-16T10:16:22.775300Z"
    }
   },
   "outputs": [],
   "source": [
    "# Analyze images\n",
    "# lui(\"What's in this image?\", \"chart.png\")\n",
    "# lui(\"Extract text from this screenshot\", \"screenshot.jpg\")\n",
    "\n",
    "# Analyze documents\n",
    "# lui(\"Summarize this document\", \"report.pdf\")\n",
    "# lui(\"Extract key points from this presentation\", \"slides.pptx\")\n",
    "\n",
    "# The AI will process your files and provide analysis\n",
    "# print(\"Analysis:\", lui.text)"
   ]
  },
  {
   "cell_type": "markdown",
   "id": "abb4a015",
   "metadata": {},
   "source": [
    "### Loading Data from Files\n",
    "\n",
    "You can also load and analyze data from CSV, Excel, or other formats:"
   ]
  },
  {
   "cell_type": "code",
   "execution_count": 7,
   "id": "e66159eb",
   "metadata": {
    "execution": {
     "iopub.execute_input": "2025-08-16T10:16:22.776574Z",
     "iopub.status.busy": "2025-08-16T10:16:22.776484Z",
     "iopub.status.idle": "2025-08-16T10:16:22.778090Z",
     "shell.execute_reply": "2025-08-16T10:16:22.777832Z"
    }
   },
   "outputs": [],
   "source": [
    "# Load data from CSV\n",
    "# df = pd.read_csv('sales_data.csv')\n",
    "# lui(\"Find patterns in this sales data\", df)\n",
    "\n",
    "# Load from Excel\n",
    "# df = pd.read_excel('report.xlsx', sheet_name='Sales')\n",
    "# lui(\"What are the key insights?\", df)\n",
    "\n",
    "# The data is now uploaded and analyzed by LouieAI\n",
    "# print(\"Analysis:\", lui.text)"
   ]
  },
  {
   "cell_type": "code",
   "execution_count": 8,
   "id": "3bed216e",
   "metadata": {
    "execution": {
     "iopub.execute_input": "2025-08-16T10:16:22.779175Z",
     "iopub.status.busy": "2025-08-16T10:16:22.779055Z",
     "iopub.status.idle": "2025-08-16T10:16:25.373880Z",
     "shell.execute_reply": "2025-08-16T10:16:25.373544Z"
    }
   },
   "outputs": [
    {
     "name": "stdout",
     "output_type": "stream",
     "text": [
      "Analysis: How many rows are in this sales data?\n"
     ]
    }
   ],
   "source": [
    "# Upload and analyze your DataFrame with a simple question\n",
    "lui(\"How many rows are in this sales data?\", my_data)\n",
    "\n",
    "# The AI analyzes YOUR data\n",
    "print(\"Analysis:\", lui.text)\n",
    "\n",
    "# Access any returned visualizations or processed data\n",
    "if lui.df is not None:\n",
    "    print(\"\\nProcessed results:\")\n",
    "    display(lui.df)"
   ]
  },
  {
   "cell_type": "markdown",
   "id": "15885e22",
   "metadata": {},
   "source": [
    "## Session History\n",
    "\n",
    "The `lui` interface maintains a history of your interactions:"
   ]
  },
  {
   "cell_type": "code",
   "execution_count": 9,
   "id": "676f2a36",
   "metadata": {
    "execution": {
     "iopub.execute_input": "2025-08-16T10:16:25.377293Z",
     "iopub.status.busy": "2025-08-16T10:16:25.376901Z",
     "iopub.status.idle": "2025-08-16T10:16:25.379267Z",
     "shell.execute_reply": "2025-08-16T10:16:25.379005Z"
    }
   },
   "outputs": [
    {
     "name": "stdout",
     "output_type": "stream",
     "text": [
      "Total interactions: 4\n"
     ]
    }
   ],
   "source": [
    "# Access previous responses by index\n",
    "# lui[-1]  # Last response\n",
    "# lui[-2]  # Second to last response\n",
    "\n",
    "# Check the number of interactions\n",
    "print(f\"Total interactions: {len(lui._history)}\")"
   ]
  },
  {
   "cell_type": "markdown",
   "id": "8050f3dc",
   "metadata": {},
   "source": [
    "## Enabling Traces\n",
    "\n",
    "For complex queries, you might want to see the AI's reasoning process:"
   ]
  },
  {
   "cell_type": "code",
   "execution_count": 10,
   "id": "a72cbbd2",
   "metadata": {
    "execution": {
     "iopub.execute_input": "2025-08-16T10:16:25.380305Z",
     "iopub.status.busy": "2025-08-16T10:16:25.380188Z",
     "iopub.status.idle": "2025-08-16T10:16:43.325990Z",
     "shell.execute_reply": "2025-08-16T10:16:43.325728Z"
    }
   },
   "outputs": [
    {
     "data": {
      "text/html": [
       "<div style='border: 1px solid #ddd; padding: 15px; border-radius: 5px;'><h4 style='margin-top: 0;'>🤖 LouieAI Response</h4><div style='font-size: 0.8em; color: #666; margin-bottom: 10px;'>Thread: <code>D_Fw9sYtOApib9i_vhtq8S</code> | Time: 7.0s</div><div style='margin-top: 10px;'><div id='B_2AgdYr40'><div style='color: #0066cc; font-family: monospace; font-size: 0.9em;'>i LouieAgent::runner</div></div><div id='B_sDUEH1u4'><div style='color: #666; font-family: monospace; font-size: 0.9em;'>🐛 Input text:::What is the sum of 1 to 10?</div></div><div id='B_aF81ek2f'><div style='color: #666; font-family: monospace; font-size: 0.9em;'>🐛 Reading chat history. (is_prepared: True)</div></div><div id='B_JabKt8XP'><div style='color: #666; font-family: monospace; font-size: 0.9em;'>🐛 LouieAgent predict with tools: ['GraphAgent', 'CodeAgent', 'TableAIAgent', 'FirecrawlAgent', 'NotebookAgent', 'DatabricksAgent', 'MermaidAgent', 'PerspectiveAgent', 'OpenSearchAgent', 'KeplerAgent', 'SpannerAgent', 'SpannerPassthroughAgent', 'KustoAgent', 'KustoPassthroughAgent', 'PostgresAgent', 'PostgresPassthroughAgent', 'Done', 'Chat'] has_recipes: True has_examples: True</div></div><div id='B_RnsCacW3'>To find the sum of numbers from 1 to 10, I can use the formula for the sum of an arithmetic series. The formula is \\( S = \\frac{n}{2} \\times (a + l) \\), where \\( n \\) is the number of terms, \\( a \\) is the first term, and \\( l \\) is the last term.<br><br>Plan:<br>1. Identify the number of terms \\( n = 10 \\).<br>2. Identify the first term \\( a = 1 \\) and the last term \\( l = 10 \\).<br>3. Use the formula to calculate the sum.<br><br>Calculation:<br>\\[ S = \\frac{10}{2} \\times (1 + 10) = 5 \\times 11 = 55 \\]<br><br>The sum</div><div id='B_kCj6hFRb'><div style='color: #0066cc; font-family: monospace; font-size: 0.9em;'>i Louie output text: The sum of numbers from 1 to 10 is 55.</div></div></div></div>"
      ],
      "text/plain": [
       "<IPython.core.display.HTML object>"
      ]
     },
     "metadata": {},
     "output_type": "display_data"
    },
    {
     "data": {
      "text/html": [
       "<div style='border: 1px solid #ddd; padding: 10px; border-radius: 5px; margin-bottom: 10px;'>\n",
       "<h4 style='margin-top: 0;'>🤖 LouieAI Session</h4>\n",
       "<hr style='margin: 10px 0;'>\n",
       "<p style='margin: 5px 0; font-size: 0.9em;'>✅ <b>Session:</b> Active | <b>Thread ID:</b> <code>D_Fw9sYtOApib9i_vhtq8S</code> | <a href='http://localhost:8000/?dthread=D_Fw9sYtOApib9i_vhtq8S' target='_blank'>View Thread ↗</a> | <b>Org:</b> all-users</p>\n",
       "<p style='margin: 5px 0; font-size: 0.9em;'>📚 <b>History:</b> 6 responses\n",
       " (access with <code>lui[-1]</code>, <code>lui[-2]</code>, etc.)</p>\n",
       "<p style='margin: 5px 0; font-size: 0.9em;'>🔍 <b>Traces:</b> Disabled (use <code>lui.traces = True</code> to enable)</p>\n",
       "<p><b>Latest Response:</b></p>\n",
       "<ul style='margin: 5px 0;'>\n",
       "<li>1 text element(s) - access with <code>lui.text</code> or <code>lui.texts</code></li>\n",
       "</ul>\n",
       "<details><summary><b>Quick Help</b> (click to expand)</summary>\n",
       "<pre style='margin: 10px 0; padding: 10px; background: #f5f5f5;'>\n",
       "# Make a query\n",
       "\n",
       "lui('Show me sales data from last week')\n",
       "\n",
       "\n",
       "# Control visibility\n",
       "\n",
       "lui('query', share_mode='Private')       # Default: only you\n",
       "\n",
       "lui('query', share_mode='Organization')  # Share within org\n",
       "\n",
       "lui('query', share_mode='Public')        # Share publicly\n",
       "\n",
       "\n",
       "# Access results\n",
       "\n",
       "df = lui.df          # Latest dataframe\n",
       "\n",
       "text = lui.text      # Latest text response\n",
       "\n",
       "all_dfs = lui.dfs    # All dataframes\n",
       "\n",
       "\n",
       "# History\n",
       "\n",
       "lui[-1].df           # Previous response's dataframe\n",
       "\n",
       "\n",
       "# Traces (AI reasoning)\n",
       "\n",
       "lui.traces = True    # Enable for session\n",
       "\n",
       "lui('query', traces=True)  # Enable for one query\n",
       "</pre>\n",
       "</details>\n",
       "</div>"
      ],
      "text/plain": [
       "<LouieAI Notebook Interface | Session: Active | History: 6 responses | Traces: Disabled | Latest: 1 text>"
      ]
     },
     "execution_count": 10,
     "metadata": {},
     "output_type": "execute_result"
    }
   ],
   "source": [
    "# Enable traces for the session\n",
    "lui.traces = True\n",
    "\n",
    "# Now queries will show reasoning steps\n",
    "lui(\"What is 100 + 50?\")\n",
    "\n",
    "# Disable traces\n",
    "lui.traces = False\n",
    "\n",
    "# Or enable traces for just one query\n",
    "lui(\"What is the sum of 1 to 10?\", traces=True)"
   ]
  },
  {
   "cell_type": "markdown",
   "id": "2b3dd3c0",
   "metadata": {},
   "source": [
    "## Error Handling\n",
    "\n",
    "The interface handles errors gracefully:"
   ]
  },
  {
   "cell_type": "code",
   "execution_count": 11,
   "id": "2563848c",
   "metadata": {
    "execution": {
     "iopub.execute_input": "2025-08-16T10:16:43.327019Z",
     "iopub.status.busy": "2025-08-16T10:16:43.326900Z",
     "iopub.status.idle": "2025-08-16T10:16:43.329241Z",
     "shell.execute_reply": "2025-08-16T10:16:43.328987Z"
    }
   },
   "outputs": [
    {
     "name": "stdout",
     "output_type": "stream",
     "text": [
      "No errors in last operation\n"
     ]
    }
   ],
   "source": [
    "# Check if the last operation had errors\n",
    "if lui.has_errors:\n",
    "    print(\"Last operation had errors:\", lui.errors)\n",
    "else:\n",
    "    print(\"No errors in last operation\")"
   ]
  },
  {
   "cell_type": "markdown",
   "id": "ba2d1e2a",
   "metadata": {},
   "source": [
    "## Tips and Tricks\n",
    "\n",
    "Here are some helpful patterns for using the notebook interface:\n",
    "\n",
    "1. **Use clear prompts**: Be specific about what you want to analyze\n",
    "2. **Check outputs**: Always verify `lui.df` and `lui.text` after queries\n",
    "3. **Enable traces for debugging**: Use `traces=True` when troubleshooting\n",
    "4. **Leverage history**: Access previous results with `lui[-1]`, `lui[-2]`, etc.\n",
    "5. **Upload various formats**: DataFrames, images, PDFs all work seamlessly"
   ]
  }
 ],
 "metadata": {
  "language_info": {
   "codemirror_mode": {
    "name": "ipython",
    "version": 3
   },
   "file_extension": ".py",
   "mimetype": "text/x-python",
   "name": "python",
   "nbconvert_exporter": "python",
   "pygments_lexer": "ipython3",
   "version": "3.12.11"
  }
 },
 "nbformat": 4,
 "nbformat_minor": 5
}
