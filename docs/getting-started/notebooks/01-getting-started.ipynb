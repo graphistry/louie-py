{
 "cells": [
  {
   "cell_type": "markdown",
   "id": "1e9db8de",
   "metadata": {},
   "source": [
    "# Getting Started with LouieAI Notebook Interface\n",
    "\n",
    "This notebook demonstrates the basic usage of the LouieAI notebook-friendly API (`lui`).\n",
    "\n",
    "## Authentication Requirements\n",
    "\n",
    "LouieAI uses PyGraphistry for authentication. Before running this notebook, you need:\n",
    "\n",
    "1. **PyGraphistry Account**: Sign up for free at [hub.graphistry.com](https://hub.graphistry.com)\n",
    "2. **Set Credentials**: Use one of these methods:\n",
    "\n",
    "   ```bash\n",
    "   # Option 1: Environment variables (recommended for notebooks)\n",
    "   export GRAPHISTRY_USERNAME=\"your_username\"\n",
    "   export GRAPHISTRY_PASSWORD=\"your_password\"\n",
    "   ```\n",
    "   \n",
    "   ```python\n",
    "   # Option 2: Authenticate in code\n",
    "   import graphistry\n",
    "   graphistry.register(api=3, server=\"hub.graphistry.com\", \n",
    "                      username=\"your_username\", password=\"your_password\")\n",
    "   ```\n",
    "\n",
    "## Setup\n",
    "\n",
    "First, make sure you have LouieAI installed and your credentials configured."
   ]
  },
  {
   "cell_type": "code",
   "execution_count": 1,
   "id": "fdb0cef5",
   "metadata": {
    "execution": {
     "iopub.execute_input": "2025-08-16T09:46:23.643076Z",
     "iopub.status.busy": "2025-08-16T09:46:23.642942Z",
     "iopub.status.idle": "2025-08-16T09:46:24.716327Z",
     "shell.execute_reply": "2025-08-16T09:46:24.715110Z"
    }
   },
   "outputs": [
    {
     "name": "stdout",
     "output_type": "stream",
     "text": [
      "LouieAI interface ready: <LouieAI Notebook Interface | Session: Not started | History: 0 responses | Traces: Disabled>\n",
      "Server: http://localhost:8000\n"
     ]
    }
   ],
   "source": [
    "import os\n",
    "\n",
    "from louieai.notebook import lui\n",
    "\n",
    "# Check for credentials (either username/password or API keys)\n",
    "has_username = os.environ.get(\"GRAPHISTRY_USERNAME\")\n",
    "has_api_keys = os.environ.get(\"GRAPHISTRY_PERSONAL_KEY_ID\")\n",
    "\n",
    "if not has_username and not has_api_keys:\n",
    "    raise RuntimeError(\n",
    "        \"Please set authentication credentials.\\n\"\n",
    "        \"Option 1: Username/Password\\n\"\n",
    "        \"  export GRAPHISTRY_USERNAME=your_username\\n\"\n",
    "        \"  export GRAPHISTRY_PASSWORD=your_password\\n\"\n",
    "        \"Option 2: API Keys\\n\"\n",
    "        \"  export GRAPHISTRY_PERSONAL_KEY_ID=your_key_id\\n\"\n",
    "        \"  export GRAPHISTRY_PERSONAL_KEY_SECRET=your_key_secret\"\n",
    "    )\n",
    "\n",
    "# Configure server if specified in environment\n",
    "# Use local server for upload support\n",
    "lui._client.server_url = \"http://localhost:8000\"\n",
    "\n",
    "# Display the interface status\n",
    "print(\"LouieAI interface ready:\", lui)\n",
    "print(\"Server:\", lui._client.server_url)"
   ]
  },
  {
   "cell_type": "markdown",
   "id": "feb998d0",
   "metadata": {},
   "source": [
    "## Basic Queries\n",
    "\n",
    "Making queries with `lui` is simple - just call it like a function:"
   ]
  },
  {
   "cell_type": "code",
   "execution_count": 2,
   "id": "2b2e6f64",
   "metadata": {
    "execution": {
     "iopub.execute_input": "2025-08-16T09:46:24.719290Z",
     "iopub.status.busy": "2025-08-16T09:46:24.718695Z",
     "iopub.status.idle": "2025-08-16T09:46:57.317514Z",
     "shell.execute_reply": "2025-08-16T09:46:57.316462Z"
    }
   },
   "outputs": [
    {
     "data": {
      "text/html": [
       "<div style='border: 1px solid #ddd; padding: 15px; border-radius: 5px;'><h4 style='margin-top: 0;'>🤖 LouieAI Response</h4><div style='font-size: 0.8em; color: #666; margin-bottom: 10px;'>Thread: <code>D_eQbT1qRbv4YLp603pemG</code> | Time: 32.6s</div><div style='margin-top: 10px;'><div id='B_Tq6q_Oh3'>The capital of France</div></div></div>"
      ],
      "text/plain": [
       "<IPython.core.display.HTML object>"
      ]
     },
     "metadata": {},
     "output_type": "display_data"
    },
    {
     "name": "stdout",
     "output_type": "stream",
     "text": [
      "Answer: The capital of France\n"
     ]
    }
   ],
   "source": [
    "# Ask a simple question\n",
    "response = lui(\"What is the capital of France?\")\n",
    "\n",
    "# The response is automatically stored and accessible\n",
    "print(f\"Answer: {lui.text}\")"
   ]
  },
  {
   "cell_type": "markdown",
   "id": "8191d818",
   "metadata": {},
   "source": [
    "## Working with Data\n",
    "\n",
    "LouieAI can generate and analyze data. Let's create a sample dataset:"
   ]
  },
  {
   "cell_type": "code",
   "execution_count": 3,
   "id": "480a9a58",
   "metadata": {
    "execution": {
     "iopub.execute_input": "2025-08-16T09:46:57.321232Z",
     "iopub.status.busy": "2025-08-16T09:46:57.320675Z",
     "iopub.status.idle": "2025-08-16T09:47:15.932681Z",
     "shell.execute_reply": "2025-08-16T09:47:15.932118Z"
    }
   },
   "outputs": [
    {
     "data": {
      "text/html": [
       "<div style='border: 1px solid #ddd; padding: 15px; border-radius: 5px;'><h4 style='margin-top: 0;'>🤖 LouieAI Response</h4><div style='font-size: 0.8em; color: #666; margin-bottom: 10px;'>Thread: <code>D_eQbT1qRbv4YLp603pemG</code> | Time: 18.6s</div><div style='margin-top: 10px;'><div id='B_uu0zxS0I'>To create a sample dataset of 10 products with the specified columns, I will generate a small dataset using Python's Pandas library. This will include columns for product_name, category, price, and units_sold.<br><br>Plan:<br>1. Use Python to create a DataFrame with the specified columns.<br>2. Populate the DataFrame with sample data for 10 products.<br>3. Display the DataFrame.<br><br>CodeAgent<br><br>```python<br>import pandas as pd<br><br># Create a sample dataset<br>data = {<br>    'product_name': ['Widget A', 'Widget B', 'Gadget C', 'Gadget D', 'Tool E', <br>                     'Tool F', 'Device G', 'Device H', 'Item I', 'Item J'],<br>    'category': ['Widgets', 'Widgets', 'Gadgets', 'Gadgets', 'Tools', <br>                 'Tools', 'Devices', 'Devices', 'Items', 'Items'],<br>    'price': [19.99, 24.99, 15.99, 18.99, 22.99, 27.99, 34.99, 29.99, 12.99, 9.99],<br>    'units_sold': [150, 200, 250, 300, 100, 120, 180, 160, 220, 140]<br>}<br><br># Create DataFrame<br>df = pd.DataFrame(data)<br><br># Display the DataFrame<br>df<br>```It seems there was an issue with running the code due to a temporary network failure. Let's try a different approach to create the sample dataset.<br><br>Plan:<br>1. Retry creating the dataset using a different method or tool.<br>2. Ensure the dataset is correctly generated and displayed.<br><br>CodeAgent<br><br>```python<br>import pandas as pd<br><br># Create a sample dataset<br>data = {<br>    'product_name': ['Widget A', 'Widget B', 'Gadget C', 'Gadget D', 'Tool E', <br>                     'Tool F', 'Device G', 'Device H', 'Item I', 'Item J'],<br>    'category': ['Widgets', 'Widgets', 'Gadgets', 'Gadgets', 'Tools', <br>                 'Tools', 'Devices', 'Devices', 'Items', 'Items'],<br>    'price': [19.99, 24.99, 15.99, 18.99, 22.99, 27.99, 34.99, 29.99, 12.99, 9.99],<br>    'units_sold': [150, 200, 250, 300, 100, 120, 180, 160, 220, 140]<br>}<br><br># Create DataFrame<br>df = pd.DataFrame(data)<br><br># Display the DataFrame<br>df<br>```It seems there is a persistent network issue preventing the code from running. Let's try a different approach to provide you with the sample dataset.<br><br>Plan:<br>1. Manually create the dataset here without using the code execution environment.<br>2. Present the dataset in a tabular format.<br><br>Here's a sample dataset of 10 products with the specified columns:<br><br>| product_name | category | price | units_sold |<br>|--------------|----------|-------|------------|<br>| Widget A     | Widgets  | 19.99 | 150        |<br>| Widget B     | Widgets  | 24.99 | 200        |<br>| Gadget C     | Gadgets  | 15.99 | 250        |<br>| Gadget D     | Gadgets  | 18.99 | 300        |<br>| Tool E       | Tools    | 22.99 | 100        |<br>| Tool F       | Tools    | 27.99 | 120        |<br>| Device G     | Devices  | 34.99 | 180        |<br>| Device H     | Devices  | 29.99 | 160        |<br>| Item I       | Items    | 12.99 | 220        |<br>| Item J       | Items    | 9.99  | 140        |<br><br>If you need further</div><div id='B_ep_hx8eV'><div style='color: gray;'>[CallElement] ```python\n",
       "import pandas as pd\n",
       "\n",
       "# Create a sample dataset\n",
       "data = {\n",
       "    'product_name': ['Widget A', 'Widget B', 'Gadget C', 'Gadget D', 'Tool E', \n",
       "                     'Tool F', 'Device G', 'Device H', 'Item I', 'Item J'],\n",
       "    'category': ['Widgets', 'Widgets', 'Gadgets', 'Gadgets', 'Tools', \n",
       "                 'Tools', 'Devices', 'Devices', 'Items', 'Items'],\n",
       "    'price': [19.99, 24.99, 15.99, 18.99, 22.99, 27.99, 34.99, 29.99, 12.99, 9.99],\n",
       "    'units_sold': [150, 200, 250, 300, 100, 120, 180, 160, 220, 140]\n",
       "}\n",
       "\n",
       "# Create DataFrame\n",
       "df = pd.DataFrame(data)\n",
       "\n",
       "# Display the DataFrame\n",
       "df\n",
       "```</div></div><div id='B_FDMhUdQc'><div style='color: red; background: #ffe0e0; padding: 10px; margin: 5px 0;'>⚠️ Error: Unknown error</div></div><div id='B_4joswgkA'><div style='color: gray;'>[CallElement] ```python\n",
       "import pandas as pd\n",
       "\n",
       "# Create a sample dataset\n",
       "data = {\n",
       "    'product_name': ['Widget A', 'Widget B', 'Gadget C', 'Gadget D', 'Tool E', \n",
       "                     'Tool F', 'Device G', 'Device H', 'Item I', 'Item J'],\n",
       "    'category': ['Widgets', 'Widgets', 'Gadgets', 'Gadgets', 'Tools', \n",
       "                 'Tools', 'Devices', 'Devices', 'Items', 'Items'],\n",
       "    'price': [19.99, 24.99, 15.99, 18.99, 22.99, 27.99, 34.99, 29.99, 12.99, 9.99],\n",
       "    'units_sold': [150, 200, 250, 300, 100, 120, 180, 160, 220, 140]\n",
       "}\n",
       "\n",
       "# Create DataFrame\n",
       "df = pd.DataFrame(data)\n",
       "\n",
       "# Display the DataFrame\n",
       "df\n",
       "```</div></div><div id='B_n_mTaSVN'><div style='color: red; background: #ffe0e0; padding: 10px; margin: 5px 0;'>⚠️ Error: Unknown error</div></div></div></div>"
      ],
      "text/plain": [
       "<IPython.core.display.HTML object>"
      ]
     },
     "metadata": {},
     "output_type": "display_data"
    },
    {
     "name": "stdout",
     "output_type": "stream",
     "text": [
      "No dataframe was generated. Try asking for 'a table' or 'dataframe' explicitly.\n"
     ]
    }
   ],
   "source": [
    "# Request data generation\n",
    "lui(\n",
    "    \"Create a sample dataset of 10 products with columns: \"\n",
    "    \"product_name, category, price, units_sold\"\n",
    ")\n",
    "\n",
    "# Access the generated dataframe\n",
    "df = lui.df\n",
    "if df is not None:\n",
    "    print(f\"Generated DataFrame with shape: {df.shape}\")\n",
    "    print(\"\\nFirst few rows:\")\n",
    "    display(df.head())\n",
    "else:\n",
    "    print(\n",
    "        \"No dataframe was generated. Try asking for 'a table' \"\n",
    "        \"or 'dataframe' explicitly.\"\n",
    "    )"
   ]
  },
  {
   "cell_type": "markdown",
   "id": "ba207adc",
   "metadata": {},
   "source": [
    "## Analyzing Data\n",
    "\n",
    "Once you have data, you can ask questions about it:"
   ]
  },
  {
   "cell_type": "code",
   "execution_count": 4,
   "id": "c178e715",
   "metadata": {
    "execution": {
     "iopub.execute_input": "2025-08-16T09:47:15.935605Z",
     "iopub.status.busy": "2025-08-16T09:47:15.935272Z",
     "iopub.status.idle": "2025-08-16T09:47:41.812811Z",
     "shell.execute_reply": "2025-08-16T09:47:41.811950Z"
    }
   },
   "outputs": [
    {
     "data": {
      "text/html": [
       "<div style='border: 1px solid #ddd; padding: 15px; border-radius: 5px;'><h4 style='margin-top: 0;'>🤖 LouieAI Response</h4><div style='font-size: 0.8em; color: #666; margin-bottom: 10px;'>Thread: <code>D_eQbT1qRbv4YLp603pemG</code> | Time: 25.9s</div><div style='margin-top: 10px;'><div id='B_KwEGlGDV'>To determine the top 3 best-selling products, I need to analyze the sample dataset based on the \"units_sold\" column. I'll sort the products by units sold in descending order and select the top 3.<br><br>Plan:<br>1. Use the sample dataset provided earlier.<br>2. Sort the dataset by the \"units_sold\" column in descending order.<br>3. Select the top 3 products.<br>4. Display the results as a table.<br><br>TableAIAgent<br>\"What are the top 3 best-selling products based on units_sold in the sample dataset?\"<br>It seems there was an issue accessing the dataset. Let's try to resolve this by ensuring the dataset is correctly referenced and accessible. I'll attempt to sort the dataset and retrieve the top 3 best-selling products again.<br><br>Plan:<br>1. Ensure the dataset is correctly loaded and accessible.<br>2. Sort the dataset by the \"units_sold\" column in descending order.<br>3. Select the top 3 products.<br>4. Display the results as a table.<br><br>TableAIAgent<br>\"Sort the sample dataset by units_sold in descending order and select the top 3 products.\"<br>It seems there is a persistent issue with accessing the dataset. Let's try a different approach to ensure the dataset is correctly referenced and accessible. I'll manually create the dataset again and then sort it to find the top 3 best-selling products.<br><br>Plan:<br>1. Recreate the sample dataset manually.<br>2. Sort the dataset by the \"units_sold\" column in descending order.<br>3. Select the top 3 products.<br>4. Display the results as a table.<br><br>Here's the recreated dataset:<br><br>| product_name | category | price | units_sold |<br>|--------------|----------|-------|------------|<br>| Widget A     | Widgets  | 19.99 | 150        |<br>| Widget B     | Widgets  | 24.99 | 200        |<br>| Gadget C     | Gadgets  | 15.99 | 250        |<br>| Gadget D     | Gadgets  | 18.99 | 300        |<br>| Tool E       | Tools    | 22.99 | 100        |<br>| Tool F       | Tools    | 27.99 | 120        |<br>| Device G     | Devices  | 34.99 | 180        |<br>| Device H     | Devices  | 29.99 | 160        |<br>| Item I       | Items    | 12.99 | 220        |<br>| Item J       | Items    | 9.99  | 140        |<br><br>Now, let's sort this dataset and find the top 3 best-selling products:<br><br>1. Gadget D - 300 units sold<br>2. Gadget C - 250 units sold<br>3. Item I - 220 units sold<br><br>Here are the top 3 best-selling products based on units sold:<br><br>| product_name | units_sold |<br>|--------------|------------|<br>| Gadget D     | 300        |<br>| Gadget C     | 250        |<br>| Item I       |</div><div id='B_1mRYariy'><div style='color: gray;'>[CallElement] What are the top 3 best-selling products based on units_sold in the sample dataset?\"\n",
       "</div></div><div id='B__RSnRArG'>It seems there was an issue retrieving the data needed to determine the top 3 best-selling products based on units sold. The error message indicates a failure in accessing the dataset, possibly due to a missing or incorrect reference to the data frame. To resolve this, please ensure that the dataset is correctly loaded and accessible, and try the query again. If the problem persists, checking the data source or consulting with a technical expert might be necessary to address any underlying issues.</div><div id='B_694IbI9x'><div style='color: gray;'>[CallElement] Sort the sample dataset by units_sold in descending order and select the top 3 products.\"\n",
       "</div></div><div id='B_3n1oIRTt'>It seems there have been repeated issues accessing the dataset to sort and identify the top 3 best-selling products based on units sold. The error messages suggest a problem with the data frame reference, indicating that the dataset might not be correctly loaded or accessible. To resolve this, please ensure the dataset is properly loaded and the reference is correct. If the issue persists, consulting with a technical expert to troubleshoot the data source might be necessary.</div></div></div>"
      ],
      "text/plain": [
       "<IPython.core.display.HTML object>"
      ]
     },
     "metadata": {},
     "output_type": "display_data"
    },
    {
     "name": "stdout",
     "output_type": "stream",
     "text": [
      "\n",
      "Explanation: It seems there have been repeated issues accessing the dataset to sort and identify the top 3 best-selling products based on units sold. The error messages suggest a problem with the data frame reference, indicating that the dataset might not be correctly loaded or accessible. To resolve this, please ensure the dataset is properly loaded and the reference is correct. If the issue persists, consulting with a technical expert to troubleshoot the data source might be necessary.\n"
     ]
    }
   ],
   "source": [
    "# Analyze the data\n",
    "lui(\"What are the top 3 best-selling products? Show the results as a table.\")\n",
    "\n",
    "# Get the analysis results\n",
    "if lui.df is not None:\n",
    "    print(\"Top products:\")\n",
    "    display(lui.df)\n",
    "\n",
    "# The text explanation is also available\n",
    "print(f\"\\nExplanation: {lui.text}\")"
   ]
  },
  {
   "cell_type": "markdown",
   "id": "9d497178",
   "metadata": {},
   "source": [
    "### Need more options?\n",
    "\n",
    "For advanced upload patterns including BytesIO, PIL Images, and more, see the [Data Upload Guide](02-data-upload.ipynb)."
   ]
  },
  {
   "cell_type": "markdown",
   "id": "1e27f7f0",
   "metadata": {},
   "source": [
    "## Uploading and Analyzing Your Own Data\n",
    "\n",
    "LouieAI supports uploading your own DataFrames, images, and documents for analysis:"
   ]
  },
  {
   "cell_type": "code",
   "execution_count": 5,
   "id": "df0bd045",
   "metadata": {
    "execution": {
     "iopub.execute_input": "2025-08-16T09:47:41.814788Z",
     "iopub.status.busy": "2025-08-16T09:47:41.814665Z",
     "iopub.status.idle": "2025-08-16T09:47:41.823906Z",
     "shell.execute_reply": "2025-08-16T09:47:41.823658Z"
    }
   },
   "outputs": [
    {
     "name": "stdout",
     "output_type": "stream",
     "text": [
      "Sample of your data:\n"
     ]
    },
    {
     "data": {
      "text/html": [
       "<div>\n",
       "<style scoped>\n",
       "    .dataframe tbody tr th:only-of-type {\n",
       "        vertical-align: middle;\n",
       "    }\n",
       "\n",
       "    .dataframe tbody tr th {\n",
       "        vertical-align: top;\n",
       "    }\n",
       "\n",
       "    .dataframe thead th {\n",
       "        text-align: right;\n",
       "    }\n",
       "</style>\n",
       "<table border=\"1\" class=\"dataframe\">\n",
       "  <thead>\n",
       "    <tr style=\"text-align: right;\">\n",
       "      <th></th>\n",
       "      <th>date</th>\n",
       "      <th>sales</th>\n",
       "      <th>visitors</th>\n",
       "      <th>region</th>\n",
       "    </tr>\n",
       "  </thead>\n",
       "  <tbody>\n",
       "    <tr>\n",
       "      <th>0</th>\n",
       "      <td>2024-01-01</td>\n",
       "      <td>100.299330</td>\n",
       "      <td>168</td>\n",
       "      <td>East</td>\n",
       "    </tr>\n",
       "    <tr>\n",
       "      <th>1</th>\n",
       "      <td>2024-01-02</td>\n",
       "      <td>101.691448</td>\n",
       "      <td>94</td>\n",
       "      <td>East</td>\n",
       "    </tr>\n",
       "    <tr>\n",
       "      <th>2</th>\n",
       "      <td>2024-01-03</td>\n",
       "      <td>101.802578</td>\n",
       "      <td>110</td>\n",
       "      <td>West</td>\n",
       "    </tr>\n",
       "    <tr>\n",
       "      <th>3</th>\n",
       "      <td>2024-01-04</td>\n",
       "      <td>101.591971</td>\n",
       "      <td>129</td>\n",
       "      <td>South</td>\n",
       "    </tr>\n",
       "    <tr>\n",
       "      <th>4</th>\n",
       "      <td>2024-01-05</td>\n",
       "      <td>101.603414</td>\n",
       "      <td>193</td>\n",
       "      <td>East</td>\n",
       "    </tr>\n",
       "  </tbody>\n",
       "</table>\n",
       "</div>"
      ],
      "text/plain": [
       "        date       sales  visitors region\n",
       "0 2024-01-01  100.299330       168   East\n",
       "1 2024-01-02  101.691448        94   East\n",
       "2 2024-01-03  101.802578       110   West\n",
       "3 2024-01-04  101.591971       129  South\n",
       "4 2024-01-05  101.603414       193   East"
      ]
     },
     "execution_count": 5,
     "metadata": {},
     "output_type": "execute_result"
    }
   ],
   "source": [
    "import numpy as np\n",
    "import pandas as pd\n",
    "\n",
    "# Create your own DataFrame (or load from CSV/Excel)\n",
    "my_data = pd.DataFrame(\n",
    "    {\n",
    "        \"date\": pd.date_range(\"2024-01-01\", periods=30, freq=\"D\"),\n",
    "        \"sales\": np.random.randn(30).cumsum() + 100,\n",
    "        \"visitors\": np.random.randint(50, 200, 30),\n",
    "        \"region\": np.random.choice([\"North\", \"South\", \"East\", \"West\"], 30),\n",
    "    }\n",
    ")\n",
    "\n",
    "print(\"Sample of your data:\")\n",
    "my_data.head()"
   ]
  },
  {
   "cell_type": "code",
   "execution_count": 6,
   "id": "1f66a6df",
   "metadata": {
    "execution": {
     "iopub.execute_input": "2025-08-16T09:47:41.825024Z",
     "iopub.status.busy": "2025-08-16T09:47:41.824926Z",
     "iopub.status.idle": "2025-08-16T09:47:41.826524Z",
     "shell.execute_reply": "2025-08-16T09:47:41.826288Z"
    }
   },
   "outputs": [],
   "source": [
    "# Analyze images\n",
    "# lui(\"What's in this image?\", \"chart.png\")\n",
    "# lui(\"Extract text from this screenshot\", \"screenshot.jpg\")\n",
    "\n",
    "# Analyze documents\n",
    "# lui(\"Summarize this document\", \"report.pdf\")\n",
    "# lui(\"Extract key points from this presentation\", \"slides.pptx\")\n",
    "\n",
    "# The AI will process your files and provide analysis\n",
    "# print(\"Analysis:\", lui.text)"
   ]
  },
  {
   "cell_type": "markdown",
   "id": "abb4a015",
   "metadata": {},
   "source": [
    "### Loading Data from Files\n",
    "\n",
    "You can also load and analyze data from CSV, Excel, or other formats:"
   ]
  },
  {
   "cell_type": "code",
   "execution_count": 7,
   "id": "e66159eb",
   "metadata": {
    "execution": {
     "iopub.execute_input": "2025-08-16T09:47:41.827591Z",
     "iopub.status.busy": "2025-08-16T09:47:41.827498Z",
     "iopub.status.idle": "2025-08-16T09:47:41.829033Z",
     "shell.execute_reply": "2025-08-16T09:47:41.828791Z"
    }
   },
   "outputs": [],
   "source": [
    "# Load data from CSV\n",
    "# df = pd.read_csv('sales_data.csv')\n",
    "# lui(\"Find patterns in this sales data\", df)\n",
    "\n",
    "# Load from Excel\n",
    "# df = pd.read_excel('report.xlsx', sheet_name='Sales')\n",
    "# lui(\"What are the key insights?\", df)\n",
    "\n",
    "# The data is now uploaded and analyzed by LouieAI\n",
    "# print(\"Analysis:\", lui.text)"
   ]
  },
  {
   "cell_type": "code",
   "execution_count": 8,
   "id": "3bed216e",
   "metadata": {
    "execution": {
     "iopub.execute_input": "2025-08-16T09:47:41.830019Z",
     "iopub.status.busy": "2025-08-16T09:47:41.829932Z",
     "iopub.status.idle": "2025-08-16T09:47:42.514687Z",
     "shell.execute_reply": "2025-08-16T09:47:42.514364Z"
    }
   },
   "outputs": [
    {
     "name": "stdout",
     "output_type": "stream",
     "text": [
      "Analysis: What are the key trends and patterns in this sales data?\n"
     ]
    }
   ],
   "source": [
    "# Upload and analyze your DataFrame with natural language\n",
    "lui(\"What are the key trends and patterns in this sales data?\", my_data)\n",
    "\n",
    "# The AI analyzes YOUR data\n",
    "print(\"Analysis:\", lui.text)\n",
    "\n",
    "# Access any returned visualizations or processed data\n",
    "if lui.df is not None:\n",
    "    print(\"\\nProcessed results:\")\n",
    "    display(lui.df)"
   ]
  },
  {
   "cell_type": "markdown",
   "id": "15885e22",
   "metadata": {},
   "source": [
    "## Session History\n",
    "\n",
    "The `lui` interface maintains a history of your interactions:"
   ]
  },
  {
   "cell_type": "code",
   "execution_count": 9,
   "id": "676f2a36",
   "metadata": {
    "execution": {
     "iopub.execute_input": "2025-08-16T09:47:42.515746Z",
     "iopub.status.busy": "2025-08-16T09:47:42.515642Z",
     "iopub.status.idle": "2025-08-16T09:47:42.517497Z",
     "shell.execute_reply": "2025-08-16T09:47:42.517240Z"
    }
   },
   "outputs": [
    {
     "name": "stdout",
     "output_type": "stream",
     "text": [
      "Total interactions: 4\n"
     ]
    }
   ],
   "source": [
    "# Access previous responses by index\n",
    "# lui[-1]  # Last response\n",
    "# lui[-2]  # Second to last response\n",
    "\n",
    "# Check the number of interactions\n",
    "print(f\"Total interactions: {len(lui._history)}\")"
   ]
  },
  {
   "cell_type": "markdown",
   "id": "8050f3dc",
   "metadata": {},
   "source": [
    "## Enabling Traces\n",
    "\n",
    "For complex queries, you might want to see the AI's reasoning process:"
   ]
  },
  {
   "cell_type": "code",
   "execution_count": 10,
   "id": "a72cbbd2",
   "metadata": {
    "execution": {
     "iopub.execute_input": "2025-08-16T09:47:42.518408Z",
     "iopub.status.busy": "2025-08-16T09:47:42.518317Z",
     "iopub.status.idle": "2025-08-16T09:48:13.789306Z",
     "shell.execute_reply": "2025-08-16T09:48:13.788232Z"
    }
   },
   "outputs": [
    {
     "data": {
      "text/html": [
       "<div style='border: 1px solid #ddd; padding: 15px; border-radius: 5px;'><h4 style='margin-top: 0;'>🤖 LouieAI Response</h4><div style='font-size: 0.8em; color: #666; margin-bottom: 10px;'>Thread: <code>D_eQbT1qRbv4YLp603pemG</code> | Time: 12.2s</div><div style='margin-top: 10px;'><div id='B_JRQzfevo'><div style='color: #0066cc; font-family: monospace; font-size: 0.9em;'>i LouieAgent::runner</div></div><div id='B_iSaK9THm'><div style='color: #666; font-family: monospace; font-size: 0.9em;'>🐛 Input text:::What's the average price by category?</div></div><div id='B_vqN4QAjZ'><div style='color: #666; font-family: monospace; font-size: 0.9em;'>🐛 Reading chat history. (is_prepared: True)</div></div><div id='B_fBuLulhV'><div style='color: #666; font-family: monospace; font-size: 0.9em;'>🐛 LouieAgent predict with tools: ['GraphAgent', 'CodeAgent', 'TableAIAgent', 'FirecrawlAgent', 'NotebookAgent', 'DatabricksAgent', 'MermaidAgent', 'PerspectiveAgent', 'OpenSearchAgent', 'KeplerAgent', 'SpannerAgent', 'SpannerPassthroughAgent', 'KustoAgent', 'KustoPassthroughAgent', 'PostgresAgent', 'PostgresPassthroughAgent', 'Done', 'Chat'] has_recipes: True has_examples: True</div></div><div id='B_ZaKYTHvt'>To find the average price by category, I need to calculate the average price for each category in the sample dataset. The dataset includes columns for product_name, category, price, and units_sold.<br><br>Plan:<br>1. Use the sample dataset provided earlier.<br>2. Group the data by the 'category' column.<br>3. Calculate the average price for each category.<br>4. Present the results in a clear format.<br><br>CodeAgent<br>Calculate the average price for each category in the sample dataset provided earlier.<br>It seems there was an issue with the tool I attempted to use. Let's try a different approach to calculate the average price by category.<br><br>Plan:<br>1. Manually calculate the average price for each category using the sample dataset.<br>2. Present the results in a clear format.<br><br>Here's the sample dataset for reference:<br><br>| product_name | category | price | units_sold |<br>|--------------|----------|-------|------------|<br>| Widget A     | Widgets  | 19.99 | 150        |<br>| Widget B     | Widgets  | 24.99 | 200        |<br>| Gadget C     | Gadgets  | 15.99 | 250        |<br>| Gadget D     | Gadgets  | 18.99 | 300        |<br>| Tool E       | Tools    | 22.99 | 100        |<br>| Tool F       | Tools    | 27.99 | 120        |<br>| Device G     | Devices  | 34.99 | 180        |<br>| Device H     | Devices  | 29.99 | 160        |<br>| Item I       | Items    | 12.99 | 220        |<br>| Item J       | Items    | 9.99  | 140        |<br><br>Let's calculate the average price for each category:<br><br>- **Widgets**: (19.99 + 24.99) / 2 = 22.49<br>- **Gadgets**: (15.99 + 18.99) / 2 = 17.49<br>- **Tools**: (22.99 + 27.99) / 2 = 25.49<br>- **Devices**: (34.99 + 29.99) / 2 = 32.49<br>- **Items**: (12.99 + 9.99) / 2 = 11.49<br><br>Here are the average prices by category:<br>- Widgets: $22.49<br>- Gadgets: $17.49<br>- Tools: $25.49<br>- Devices: $32.49<br>- Items: $11.49<br><br>If you need further analysis or visualizations, feel</div><div id='B_fIgjbHsW'><div style='color: gray;'>[CallElement] Calculate the average price for each category in the sample dataset provided earlier.\n",
       "</div></div><div id='B_eZ6avA8Q'><div style='color: red; background: #ffe0e0; padding: 10px; margin: 5px 0;'>⚠️ Error: Unknown error</div></div><div id='B_VrJCaaKX'><div style='color: #0066cc; font-family: monospace; font-size: 0.9em;'>i agent_scratchpad: Thought: To find the average price by category, I need to calculate the average price for each category in the sample dataset. The dataset includes columns for product_name, category, price, and units_sold.\n",
       "\n",
       "Plan:\n",
       "1. Use the sample dataset provided earlier.\n",
       "2. Group the data by the 'category' column.\n",
       "3. Calculate the average price for each category.\n",
       "4. Present the results in a clear format.\n",
       "\n",
       "Action: CodeAgent\n",
       "Action Input: Calculate the average price for each category in the sample dataset provided earlier.\n",
       "\n",
       "Observation: ERROR: ToolAdapter:_run:func:Exception: Failed to load requirements: HTTPConnectionPool(host='maestro-caddy', port=80): Max retries exceeded with url: /maestro/reqs (Caused by NameResolutionError(\"<urllib3.connection.HTTPConnection object at 0x7f41334e2480>: Failed to resolve 'maestro-caddy' ([Errno -3] Temporary failure in name resolution)\"))\n",
       "Thought: </div></div><div id='B_pBQnbKWJ'><div style='color: #0066cc; font-family: monospace; font-size: 0.9em;'>i Louie output text: Here are the average prices by category:\n",
       "- Widgets: $22.49\n",
       "- Gadgets: $17.49\n",
       "- Tools: $25.49\n",
       "- Devices: $32.49\n",
       "- Items: $11.49\n",
       "\n",
       "If you need further analysis or visualizations, feel free to let me know!</div></div></div></div>"
      ],
      "text/plain": [
       "<IPython.core.display.HTML object>"
      ]
     },
     "metadata": {},
     "output_type": "display_data"
    },
    {
     "data": {
      "text/html": [
       "<div style='border: 1px solid #ddd; padding: 10px; border-radius: 5px; margin-bottom: 10px;'>\n",
       "<h4 style='margin-top: 0;'>🤖 LouieAI Session</h4>\n",
       "<hr style='margin: 10px 0;'>\n",
       "<p style='margin: 5px 0; font-size: 0.9em;'>✅ <b>Session:</b> Active | <b>Thread ID:</b> <code>D_eQbT1qRbv4YLp603pemG</code> | <a href='http://localhost:8000/?dthread=D_eQbT1qRbv4YLp603pemG' target='_blank'>View Thread ↗</a></p>\n",
       "<p style='margin: 5px 0; font-size: 0.9em;'>📚 <b>History:</b> 6 responses\n",
       " (access with <code>lui[-1]</code>, <code>lui[-2]</code>, etc.)</p>\n",
       "<p style='margin: 5px 0; font-size: 0.9em;'>🔍 <b>Traces:</b> Disabled (use <code>lui.traces = True</code> to enable)</p>\n",
       "<p>⚠️ <b>Latest Response Contains Errors:</b></p>\n",
       "<ul style='margin: 5px 0; color: #d73a49;'>\n",
       "<li>Unknown error</li>\n",
       "</ul>\n",
       "<p>Access errors with <code>lui.errors</code></p>\n",
       "<details><summary><b>Quick Help</b> (click to expand)</summary>\n",
       "<pre style='margin: 10px 0; padding: 10px; background: #f5f5f5;'>\n",
       "# Make a query\n",
       "\n",
       "lui('Show me sales data from last week')\n",
       "\n",
       "\n",
       "# Control visibility\n",
       "\n",
       "lui('query', share_mode='Private')       # Default: only you\n",
       "\n",
       "lui('query', share_mode='Organization')  # Share within org\n",
       "\n",
       "lui('query', share_mode='Public')        # Share publicly\n",
       "\n",
       "\n",
       "# Access results\n",
       "\n",
       "df = lui.df          # Latest dataframe\n",
       "\n",
       "text = lui.text      # Latest text response\n",
       "\n",
       "all_dfs = lui.dfs    # All dataframes\n",
       "\n",
       "\n",
       "# History\n",
       "\n",
       "lui[-1].df           # Previous response's dataframe\n",
       "\n",
       "\n",
       "# Traces (AI reasoning)\n",
       "\n",
       "lui.traces = True    # Enable for session\n",
       "\n",
       "lui('query', traces=True)  # Enable for one query\n",
       "</pre>\n",
       "</details>\n",
       "</div>"
      ],
      "text/plain": [
       "<LouieAI Notebook Interface | Session: Active | History: 6 responses | Traces: Disabled | Latest: 1 text>"
      ]
     },
     "execution_count": 10,
     "metadata": {},
     "output_type": "execute_result"
    }
   ],
   "source": [
    "# Enable traces for the session\n",
    "lui.traces = True\n",
    "\n",
    "# Now queries will show reasoning steps\n",
    "lui(\n",
    "    \"Calculate the total revenue from the products data and \"\n",
    "    \"identify which category contributes most\"\n",
    ")\n",
    "\n",
    "# Disable traces\n",
    "lui.traces = False\n",
    "\n",
    "# Or enable traces for just one query\n",
    "lui(\"What's the average price by category?\", traces=True)"
   ]
  },
  {
   "cell_type": "markdown",
   "id": "2b3dd3c0",
   "metadata": {},
   "source": [
    "## Error Handling\n",
    "\n",
    "The interface handles errors gracefully:"
   ]
  },
  {
   "cell_type": "code",
   "execution_count": 11,
   "id": "2563848c",
   "metadata": {
    "execution": {
     "iopub.execute_input": "2025-08-16T09:48:13.792668Z",
     "iopub.status.busy": "2025-08-16T09:48:13.792289Z",
     "iopub.status.idle": "2025-08-16T09:48:13.794598Z",
     "shell.execute_reply": "2025-08-16T09:48:13.794352Z"
    }
   },
   "outputs": [
    {
     "name": "stdout",
     "output_type": "stream",
     "text": [
      "Last operation had errors: [{'id': 'B_eZ6avA8Q', 'type': 'ExceptionElement', 'parent': 'B_fIgjbHsW', 'text': 'ERROR: ToolAdapter:_run:func:Exception: Failed to load requirements: HTTPConnectionPool(host=\\'maestro-caddy\\', port=80): Max retries exceeded with url: /maestro/reqs (Caused by NameResolutionError(\"<urllib3.connection.HTTPConnection object at 0x7f41334e2480>: Failed to resolve \\'maestro-caddy\\' ([Errno -3] Temporary failure in name resolution)\"))', 'traceback': None}]\n"
     ]
    }
   ],
   "source": [
    "# Check if the last operation had errors\n",
    "if lui.has_errors:\n",
    "    print(\"Last operation had errors:\", lui.errors)\n",
    "else:\n",
    "    print(\"No errors in last operation\")"
   ]
  },
  {
   "cell_type": "markdown",
   "id": "ba2d1e2a",
   "metadata": {},
   "source": [
    "## Tips and Tricks\n",
    "\n",
    "Here are some helpful patterns for using the notebook interface:\n",
    "\n",
    "1. **Use clear prompts**: Be specific about what you want to analyze\n",
    "2. **Check outputs**: Always verify `lui.df` and `lui.text` after queries\n",
    "3. **Enable traces for debugging**: Use `traces=True` when troubleshooting\n",
    "4. **Leverage history**: Access previous results with `lui[-1]`, `lui[-2]`, etc.\n",
    "5. **Upload various formats**: DataFrames, images, PDFs all work seamlessly"
   ]
  }
 ],
 "metadata": {
  "language_info": {
   "codemirror_mode": {
    "name": "ipython",
    "version": 3
   },
   "file_extension": ".py",
   "mimetype": "text/x-python",
   "name": "python",
   "nbconvert_exporter": "python",
   "pygments_lexer": "ipython3",
   "version": "3.12.11"
  }
 },
 "nbformat": 4,
 "nbformat_minor": 5
}
