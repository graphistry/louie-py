{
 "cells": [
  {
   "cell_type": "markdown",
   "id": "1e9db8de",
   "metadata": {},
   "source": [
    "# Getting Started with LouieAI Notebook Interface\n",
    "\n",
    "This notebook demonstrates the basic usage of the LouieAI notebook-friendly API (`lui`).\n",
    "\n",
    "## Authentication Requirements\n",
    "\n",
    "LouieAI uses PyGraphistry for authentication. Before running this notebook, you need:\n",
    "\n",
    "1. **PyGraphistry Account**: Sign up for free at [hub.graphistry.com](https://hub.graphistry.com)\n",
    "2. **Set Credentials**: Use one of these methods:\n",
    "\n",
    "   ```bash\n",
    "   # Option 1: Environment variables (recommended for notebooks)\n",
    "   export GRAPHISTRY_USERNAME=\"your_username\"\n",
    "   export GRAPHISTRY_PASSWORD=\"your_password\"\n",
    "   ```\n",
    "   \n",
    "   ```python\n",
    "   # Option 2: Authenticate in code\n",
    "   import graphistry\n",
    "   graphistry.register(api=3, server=\"hub.graphistry.com\", \n",
    "                      username=\"your_username\", password=\"your_password\")\n",
    "   ```\n",
    "\n",
    "## Setup\n",
    "\n",
    "First, make sure you have LouieAI installed and your credentials configured."
   ]
  },
  {
   "cell_type": "code",
   "execution_count": 1,
   "id": "fdb0cef5",
   "metadata": {
    "execution": {
     "iopub.execute_input": "2025-08-16T10:08:27.240235Z",
     "iopub.status.busy": "2025-08-16T10:08:27.240014Z",
     "iopub.status.idle": "2025-08-16T10:08:28.465429Z",
     "shell.execute_reply": "2025-08-16T10:08:28.465027Z"
    }
   },
   "outputs": [
    {
     "data": {
      "text/html": [
       "<div style='border: 1px solid #ddd; padding: 10px; border-radius: 5px; margin-bottom: 10px;'>\n",
       "<h4 style='margin-top: 0;'>🤖 LouieAI Session</h4>\n",
       "<hr style='margin: 10px 0;'>\n",
       "<p style='margin: 5px 0; font-size: 0.9em;'>⚪ <b>Session:</b> Not started (use <code>lui('your query')</code>)</p>\n",
       "<p style='margin: 5px 0; font-size: 0.9em;'>📚 <b>History:</b> 0 responses\n",
       "</p>\n",
       "<p style='margin: 5px 0; font-size: 0.9em;'>🔍 <b>Traces:</b> Disabled (use <code>lui.traces = True</code> to enable)</p>\n",
       "<details><summary><b>Quick Help</b> (click to expand)</summary>\n",
       "<pre style='margin: 10px 0; padding: 10px; background: #f5f5f5;'>\n",
       "# Make a query\n",
       "\n",
       "lui('Show me sales data from last week')\n",
       "\n",
       "\n",
       "# Control visibility\n",
       "\n",
       "lui('query', share_mode='Private')       # Default: only you\n",
       "\n",
       "lui('query', share_mode='Organization')  # Share within org\n",
       "\n",
       "lui('query', share_mode='Public')        # Share publicly\n",
       "\n",
       "\n",
       "# Access results\n",
       "\n",
       "df = lui.df          # Latest dataframe\n",
       "\n",
       "text = lui.text      # Latest text response\n",
       "\n",
       "all_dfs = lui.dfs    # All dataframes\n",
       "\n",
       "\n",
       "# History\n",
       "\n",
       "lui[-1].df           # Previous response's dataframe\n",
       "\n",
       "\n",
       "# Traces (AI reasoning)\n",
       "\n",
       "lui.traces = True    # Enable for session\n",
       "\n",
       "lui('query', traces=True)  # Enable for one query\n",
       "</pre>\n",
       "</details>\n",
       "</div>"
      ],
      "text/plain": [
       "<LouieAI Notebook Interface | Session: Not started | History: 0 responses | Traces: Disabled>"
      ]
     },
     "execution_count": 1,
     "metadata": {},
     "output_type": "execute_result"
    }
   ],
   "source": [
    "import os\n",
    "\n",
    "import graphistry\n",
    "\n",
    "from louieai import louie  # Factory function to create Louie interface\n",
    "\n",
    "# Authenticate with Graphistry\n",
    "# Uses GRAPHISTRY_USERNAME and GRAPHISTRY_PASSWORD from environment\n",
    "g = graphistry.register(\n",
    "    api=3,\n",
    "    server=os.environ.get(\"GRAPHISTRY_SERVER\", \"hub.graphistry.com\"),\n",
    "    username=os.environ.get(\"GRAPHISTRY_USERNAME\"),\n",
    "    password=os.environ.get(\"GRAPHISTRY_PASSWORD\"),\n",
    ")\n",
    "\n",
    "# Configure Louie server URL\n",
    "# Default to production server, or set LOUIE_SERVER env var for custom\n",
    "# Examples:\n",
    "#   export LOUIE_SERVER=\"http://localhost:8000\"  # Local development\n",
    "#   export LOUIE_SERVER=\"https://den.louie.ai\"    # Production (default)\n",
    "LOUIE_SERVER_URL = os.environ.get(\"LOUIE_SERVER\", \"https://den.louie.ai\")\n",
    "\n",
    "# Create the Louie interface\n",
    "lui = louie(g, server_url=LOUIE_SERVER_URL)\n",
    "\n",
    "lui  # Display status"
   ]
  },
  {
   "cell_type": "markdown",
   "id": "feb998d0",
   "metadata": {},
   "source": [
    "## Basic Queries\n",
    "\n",
    "Making queries with `lui` is simple - just call it like a function:"
   ]
  },
  {
   "cell_type": "code",
   "execution_count": 2,
   "id": "2b2e6f64",
   "metadata": {
    "execution": {
     "iopub.execute_input": "2025-08-16T10:08:28.466916Z",
     "iopub.status.busy": "2025-08-16T10:08:28.466722Z",
     "iopub.status.idle": "2025-08-16T10:09:03.879769Z",
     "shell.execute_reply": "2025-08-16T10:09:03.879221Z"
    }
   },
   "outputs": [
    {
     "data": {
      "text/html": [
       "<div style='border: 1px solid #ddd; padding: 15px; border-radius: 5px;'><h4 style='margin-top: 0;'>🤖 LouieAI Response</h4><div style='font-size: 0.8em; color: #666; margin-bottom: 10px;'>Thread: <code>D_qcS7wl5WndQq3y_ec21R</code> | Time: 35.4s</div><div style='margin-top: 10px;'><div id='B_OSM9xMgg'></div></div></div>"
      ],
      "text/plain": [
       "<IPython.core.display.HTML object>"
      ]
     },
     "metadata": {},
     "output_type": "display_data"
    },
    {
     "name": "stdout",
     "output_type": "stream",
     "text": [
      "Answer: \n"
     ]
    }
   ],
   "source": [
    "# Ask a simple question\n",
    "response = lui(\"What is the capital of France?\")\n",
    "\n",
    "# The response is automatically stored and accessible\n",
    "print(f\"Answer: {lui.text}\")"
   ]
  },
  {
   "cell_type": "markdown",
   "id": "8191d818",
   "metadata": {},
   "source": [
    "## Working with Data\n",
    "\n",
    "LouieAI can generate and analyze data. Let's create a sample dataset:"
   ]
  },
  {
   "cell_type": "code",
   "execution_count": 3,
   "id": "480a9a58",
   "metadata": {
    "execution": {
     "iopub.execute_input": "2025-08-16T10:09:03.881734Z",
     "iopub.status.busy": "2025-08-16T10:09:03.881511Z",
     "iopub.status.idle": "2025-08-16T10:09:18.800127Z",
     "shell.execute_reply": "2025-08-16T10:09:18.799818Z"
    }
   },
   "outputs": [
    {
     "data": {
      "text/html": [
       "<div style='border: 1px solid #ddd; padding: 15px; border-radius: 5px;'><h4 style='margin-top: 0;'>🤖 LouieAI Response</h4><div style='font-size: 0.8em; color: #666; margin-bottom: 10px;'>Thread: <code>D_qcS7wl5WndQq3y_ec21R</code> | Time: 14.9s</div><div style='margin-top: 10px;'><div id='B_qUj5Mmui'>To create a dataframe with the specified columns and data types, I will write a code snippet that generates this data. <br>Plan:<br>1. Write a code snippet to create a dataframe with the specified columns and data types.<br>2. Populate the dataframe with 10 sample products.<br>3. Ensure the data types are correct for each column.<br>4. Display the dataframe.<br><br>CodeAgent<br><br>```python<br>import pandas as pd<br><br># Create a dataframe with specified columns and data types<br>data = {<br>    'product_name': ['Product A', 'Product B', 'Product C', 'Product D', 'Product E', <br>                     'Product F', 'Product G', 'Product H', 'Product I', 'Product J'],<br>    'category': ['Electronics', 'Clothing', 'Home', 'Beauty', 'Sports', <br>                 'Toys', 'Books', 'Automotive', 'Garden', 'Health'],<br>    'price': [199.99, 49.99, 29.99, 19.99, 99.99, <br>              14.99, 9.99, 299.99, 39.99, 24.99],<br>    'units_sold': [150, 200, 300, 250, 180, <br>                   220, 400, 100, 90, 160]<br>}<br><br># Convert the dictionary to a dataframe<br>df = pd.DataFrame(data)<br><br># Display the dataframe<br>df<br>```<br>I have successfully created a dataframe with 10 products, each containing columns for product name, category, price, and units sold. If you need any specific analysis or operations on this</div><div id='B_ixkvkVLc'><div style='color: gray;'>[CallElement] ```python\n",
       "import pandas as pd\n",
       "\n",
       "# Create a dataframe with specified columns and data types\n",
       "data = {\n",
       "    'product_name': ['Product A', 'Product B', 'Product C', 'Product D', 'Product E', \n",
       "                     'Product F', 'Product G', 'Product H', 'Product I', 'Product J'],\n",
       "    'category': ['Electronics', 'Clothing', 'Home', 'Beauty', 'Sports', \n",
       "                 'Toys', 'Books', 'Automotive', 'Garden', 'Health'],\n",
       "    'price': [199.99, 49.99, 29.99, 19.99, 99.99, \n",
       "              14.99, 9.99, 299.99, 39.99, 24.99],\n",
       "    'units_sold': [150, 200, 300, 250, 180, \n",
       "                   220, 400, 100, 90, 160]\n",
       "}\n",
       "\n",
       "# Convert the dictionary to a dataframe\n",
       "df = pd.DataFrame(data)\n",
       "\n",
       "# Display the dataframe\n",
       "df\n",
       "```\n",
       "</div></div><div id='B_GyYFfcQf'>The provided code successfully creates a pandas DataFrame containing information about various products, including their names, categories, prices, and units sold. The DataFrame is structured with columns for each of these attributes, allowing for easy manipulation and analysis of the data. If you have specific operations or analyses you would like to perform on this DataFrame, such as calculating total revenue, finding the most popular product category, or filtering products by price range, please let me know, and I can assist you further.</div></div></div>"
      ],
      "text/plain": [
       "<IPython.core.display.HTML object>"
      ]
     },
     "metadata": {},
     "output_type": "display_data"
    },
    {
     "name": "stdout",
     "output_type": "stream",
     "text": [
      "No dataframe was generated. Try asking for 'a table' or 'dataframe' explicitly.\n"
     ]
    }
   ],
   "source": [
    "# Request data generation with explicit \"dataframe\" mention\n",
    "lui(\n",
    "    \"Create a dataframe with 10 products containing columns: \"\n",
    "    \"product_name (string), category (string), price (float), units_sold (integer)\"\n",
    ")\n",
    "\n",
    "# Access the generated dataframe\n",
    "df = lui.df\n",
    "if df is not None:\n",
    "    print(f\"Generated DataFrame with shape: {df.shape}\")\n",
    "    print(\"\\nFirst few rows:\")\n",
    "    display(df.head())\n",
    "else:\n",
    "    print(\n",
    "        \"No dataframe was generated. Try asking for 'a table' \"\n",
    "        \"or 'dataframe' explicitly.\"\n",
    "    )"
   ]
  },
  {
   "cell_type": "markdown",
   "id": "ba207adc",
   "metadata": {},
   "source": [
    "## Analyzing Data\n",
    "\n",
    "Once you have data, you can ask questions about it:"
   ]
  },
  {
   "cell_type": "code",
   "execution_count": 4,
   "id": "c178e715",
   "metadata": {
    "execution": {
     "iopub.execute_input": "2025-08-16T10:09:18.801529Z",
     "iopub.status.busy": "2025-08-16T10:09:18.801404Z",
     "iopub.status.idle": "2025-08-16T10:09:39.697047Z",
     "shell.execute_reply": "2025-08-16T10:09:39.695824Z"
    }
   },
   "outputs": [
    {
     "data": {
      "text/html": [
       "<div style='border: 1px solid #ddd; padding: 15px; border-radius: 5px;'><h4 style='margin-top: 0;'>🤖 LouieAI Response</h4><div style='font-size: 0.8em; color: #666; margin-bottom: 10px;'>Thread: <code>D_qcS7wl5WndQq3y_ec21R</code> | Time: 20.9s</div><div style='margin-top: 10px;'><div id='B_aaxJAV_F'>To find the maximum price in the dataframe, I need to analyze the 'price' column of the dataframe that was previously created. <br><br>Plan:<br>1. Retrieve the dataframe that contains the product information.<br>2. Identify the 'price' column and find the maximum value.<br>3. Provide the result to the user.<br><br>TableAIAgent<br>\"What is the maximum price in the dataframe B_6P3SfSKk using the 'price' column?\"It seems there was an issue accessing the dataframe to determine the maximum price. Let's try a different approach to ensure we can retrieve the data correctly.<br><br>Plan:<br>1. Verify the dataframe is correctly loaded and accessible.<br>2. Re-attempt to find the maximum value in the 'price' column.<br><br>CodeAgent<br>\"\"\"<br>import pandas as pd<br><br># Recreate the dataframe with the given data<br>data = {<br>    'product_name': ['Product A', 'Product B', 'Product C', 'Product D', 'Product E', <br>                     'Product F', 'Product G', 'Product H', 'Product I', 'Product J'],<br>    'category': ['Electronics', 'Clothing', 'Home', 'Beauty', 'Sports', <br>                 'Toys', 'Books', 'Automotive', 'Garden', 'Health'],<br>    'price': [199.99, 49.99, 29.99, 19.99, 99.99, <br>              14.99, 9.99, 299.99, 39.99, 24.99],<br>    'units_sold': [150, 200, 300, 250, 180, <br>                   220, 400, 100, 90, 160]<br>}<br><br># Convert the dictionary to a dataframe<br>df = pd.DataFrame(data)<br><br># Find the maximum price<br>max_price = df['price'].max()<br>max_price<br>\"\"\"The maximum price in the dataframe is $299.99, which corresponds to 'Product H' in the 'Automotive' category. If you need any further analysis or operations on this dataframe, feel</div><div id='B_jNbDPxvg'><div style='color: gray;'>[CallElement] What is the maximum price in the dataframe B_6P3SfSKk using the 'price' column?</div></div><div id='B_UimJLenK'>It seems there was an issue accessing the dataframe B_6P3SfSKk to determine the maximum price in the 'price' column. The error message indicates a failure in locating the dataframe, which suggests that it might not be properly loaded or accessible at the moment. Please ensure that the dataframe is correctly referenced and available for analysis.</div><div id='B_PNVsYZdX'><div style='color: gray;'>[CallElement] \n",
       "import pandas as pd\n",
       "\n",
       "# Recreate the dataframe with the given data\n",
       "data = {\n",
       "    'product_name': ['Product A', 'Product B', 'Product C', 'Product D', 'Product E', \n",
       "                     'Product F', 'Product G', 'Product H', 'Product I', 'Product J'],\n",
       "    'category': ['Electronics', 'Clothing', 'Home', 'Beauty', 'Sports', \n",
       "                 'Toys', 'Books', 'Automotive', 'Garden', 'Health'],\n",
       "    'price': [199.99, 49.99, 29.99, 19.99, 99.99, \n",
       "              14.99, 9.99, 299.99, 39.99, 24.99],\n",
       "    'units_sold': [150, 200, 300, 250, 180, \n",
       "                   220, 400, 100, 90, 160]\n",
       "}\n",
       "\n",
       "# Convert the dictionary to a dataframe\n",
       "df = pd.DataFrame(data)\n",
       "\n",
       "# Find the maximum price\n",
       "max_price = df['price'].max()\n",
       "max_price\n",
       "</div></div><div id='B_p7libbuH'>The code provided successfully creates a pandas DataFrame with product information, including product names, categories, prices, and units sold. It then calculates the maximum price among the products using the `max()` function on the 'price' column. The maximum price found is $299.99, which corresponds to 'Product H' in the 'Automotive' category. If you need further analysis or operations on this DataFrame, such as identifying the product with the maximum price or analyzing sales data, feel free to ask for assistance.</div></div></div>"
      ],
      "text/plain": [
       "<IPython.core.display.HTML object>"
      ]
     },
     "metadata": {},
     "output_type": "display_data"
    },
    {
     "name": "stdout",
     "output_type": "stream",
     "text": [
      "Answer: The code provided successfully creates a pandas DataFrame with product information, including product names, categories, prices, and units sold. It then calculates the maximum price among the products using the `max()` function on the 'price' column. The maximum price found is $299.99, which corresponds to 'Product H' in the 'Automotive' category. If you need further analysis or operations on this DataFrame, such as identifying the product with the maximum price or analyzing sales data, feel free to ask for assistance.\n"
     ]
    }
   ],
   "source": [
    "# Simple analysis\n",
    "lui(\"What is the maximum price in the dataframe?\")\n",
    "\n",
    "# The text explanation is available\n",
    "print(f\"Answer: {lui.text}\")\n",
    "\n",
    "# If a dataframe is returned, display it\n",
    "if lui.df is not None:\n",
    "    print(\"\\nReturned data:\")\n",
    "    display(lui.df)"
   ]
  },
  {
   "cell_type": "markdown",
   "id": "9d497178",
   "metadata": {},
   "source": [
    "### Need more options?\n",
    "\n",
    "For advanced upload patterns including BytesIO, PIL Images, and more, see the [Data Upload Guide](02-data-upload.ipynb)."
   ]
  },
  {
   "cell_type": "markdown",
   "id": "1e27f7f0",
   "metadata": {},
   "source": [
    "## Uploading and Analyzing Your Own Data\n",
    "\n",
    "LouieAI supports uploading your own DataFrames, images, and documents for analysis:"
   ]
  },
  {
   "cell_type": "code",
   "execution_count": 5,
   "id": "df0bd045",
   "metadata": {
    "execution": {
     "iopub.execute_input": "2025-08-16T10:09:39.698719Z",
     "iopub.status.busy": "2025-08-16T10:09:39.698494Z",
     "iopub.status.idle": "2025-08-16T10:09:39.706304Z",
     "shell.execute_reply": "2025-08-16T10:09:39.706043Z"
    }
   },
   "outputs": [
    {
     "name": "stdout",
     "output_type": "stream",
     "text": [
      "Sample of your data:\n"
     ]
    },
    {
     "data": {
      "text/html": [
       "<div>\n",
       "<style scoped>\n",
       "    .dataframe tbody tr th:only-of-type {\n",
       "        vertical-align: middle;\n",
       "    }\n",
       "\n",
       "    .dataframe tbody tr th {\n",
       "        vertical-align: top;\n",
       "    }\n",
       "\n",
       "    .dataframe thead th {\n",
       "        text-align: right;\n",
       "    }\n",
       "</style>\n",
       "<table border=\"1\" class=\"dataframe\">\n",
       "  <thead>\n",
       "    <tr style=\"text-align: right;\">\n",
       "      <th></th>\n",
       "      <th>date</th>\n",
       "      <th>sales</th>\n",
       "      <th>visitors</th>\n",
       "      <th>region</th>\n",
       "    </tr>\n",
       "  </thead>\n",
       "  <tbody>\n",
       "    <tr>\n",
       "      <th>0</th>\n",
       "      <td>2024-01-01</td>\n",
       "      <td>99.982571</td>\n",
       "      <td>174</td>\n",
       "      <td>South</td>\n",
       "    </tr>\n",
       "    <tr>\n",
       "      <th>1</th>\n",
       "      <td>2024-01-02</td>\n",
       "      <td>100.582152</td>\n",
       "      <td>62</td>\n",
       "      <td>East</td>\n",
       "    </tr>\n",
       "    <tr>\n",
       "      <th>2</th>\n",
       "      <td>2024-01-03</td>\n",
       "      <td>101.640608</td>\n",
       "      <td>176</td>\n",
       "      <td>South</td>\n",
       "    </tr>\n",
       "    <tr>\n",
       "      <th>3</th>\n",
       "      <td>2024-01-04</td>\n",
       "      <td>101.622979</td>\n",
       "      <td>63</td>\n",
       "      <td>East</td>\n",
       "    </tr>\n",
       "    <tr>\n",
       "      <th>4</th>\n",
       "      <td>2024-01-05</td>\n",
       "      <td>101.668398</td>\n",
       "      <td>162</td>\n",
       "      <td>South</td>\n",
       "    </tr>\n",
       "  </tbody>\n",
       "</table>\n",
       "</div>"
      ],
      "text/plain": [
       "        date       sales  visitors region\n",
       "0 2024-01-01   99.982571       174  South\n",
       "1 2024-01-02  100.582152        62   East\n",
       "2 2024-01-03  101.640608       176  South\n",
       "3 2024-01-04  101.622979        63   East\n",
       "4 2024-01-05  101.668398       162  South"
      ]
     },
     "execution_count": 5,
     "metadata": {},
     "output_type": "execute_result"
    }
   ],
   "source": [
    "import numpy as np\n",
    "import pandas as pd\n",
    "\n",
    "# Create your own DataFrame (or load from CSV/Excel)\n",
    "my_data = pd.DataFrame(\n",
    "    {\n",
    "        \"date\": pd.date_range(\"2024-01-01\", periods=30, freq=\"D\"),\n",
    "        \"sales\": np.random.randn(30).cumsum() + 100,\n",
    "        \"visitors\": np.random.randint(50, 200, 30),\n",
    "        \"region\": np.random.choice([\"North\", \"South\", \"East\", \"West\"], 30),\n",
    "    }\n",
    ")\n",
    "\n",
    "print(\"Sample of your data:\")\n",
    "my_data.head()"
   ]
  },
  {
   "cell_type": "code",
   "execution_count": 6,
   "id": "1f66a6df",
   "metadata": {
    "execution": {
     "iopub.execute_input": "2025-08-16T10:09:39.707296Z",
     "iopub.status.busy": "2025-08-16T10:09:39.707198Z",
     "iopub.status.idle": "2025-08-16T10:09:39.708753Z",
     "shell.execute_reply": "2025-08-16T10:09:39.708509Z"
    }
   },
   "outputs": [],
   "source": [
    "# Analyze images\n",
    "# lui(\"What's in this image?\", \"chart.png\")\n",
    "# lui(\"Extract text from this screenshot\", \"screenshot.jpg\")\n",
    "\n",
    "# Analyze documents\n",
    "# lui(\"Summarize this document\", \"report.pdf\")\n",
    "# lui(\"Extract key points from this presentation\", \"slides.pptx\")\n",
    "\n",
    "# The AI will process your files and provide analysis\n",
    "# print(\"Analysis:\", lui.text)"
   ]
  },
  {
   "cell_type": "markdown",
   "id": "abb4a015",
   "metadata": {},
   "source": [
    "### Loading Data from Files\n",
    "\n",
    "You can also load and analyze data from CSV, Excel, or other formats:"
   ]
  },
  {
   "cell_type": "code",
   "execution_count": 7,
   "id": "e66159eb",
   "metadata": {
    "execution": {
     "iopub.execute_input": "2025-08-16T10:09:39.709733Z",
     "iopub.status.busy": "2025-08-16T10:09:39.709644Z",
     "iopub.status.idle": "2025-08-16T10:09:39.711069Z",
     "shell.execute_reply": "2025-08-16T10:09:39.710839Z"
    }
   },
   "outputs": [],
   "source": [
    "# Load data from CSV\n",
    "# df = pd.read_csv('sales_data.csv')\n",
    "# lui(\"Find patterns in this sales data\", df)\n",
    "\n",
    "# Load from Excel\n",
    "# df = pd.read_excel('report.xlsx', sheet_name='Sales')\n",
    "# lui(\"What are the key insights?\", df)\n",
    "\n",
    "# The data is now uploaded and analyzed by LouieAI\n",
    "# print(\"Analysis:\", lui.text)"
   ]
  },
  {
   "cell_type": "code",
   "execution_count": 8,
   "id": "3bed216e",
   "metadata": {
    "execution": {
     "iopub.execute_input": "2025-08-16T10:09:39.712059Z",
     "iopub.status.busy": "2025-08-16T10:09:39.711973Z",
     "iopub.status.idle": "2025-08-16T10:09:42.204388Z",
     "shell.execute_reply": "2025-08-16T10:09:42.204019Z"
    }
   },
   "outputs": [
    {
     "name": "stdout",
     "output_type": "stream",
     "text": [
      "Analysis: How many rows are in this sales data?\n"
     ]
    }
   ],
   "source": [
    "# Upload and analyze your DataFrame with a simple question\n",
    "lui(\"How many rows are in this sales data?\", my_data)\n",
    "\n",
    "# The AI analyzes YOUR data\n",
    "print(\"Analysis:\", lui.text)\n",
    "\n",
    "# Access any returned visualizations or processed data\n",
    "if lui.df is not None:\n",
    "    print(\"\\nProcessed results:\")\n",
    "    display(lui.df)"
   ]
  },
  {
   "cell_type": "markdown",
   "id": "15885e22",
   "metadata": {},
   "source": [
    "## Session History\n",
    "\n",
    "The `lui` interface maintains a history of your interactions:"
   ]
  },
  {
   "cell_type": "code",
   "execution_count": 9,
   "id": "676f2a36",
   "metadata": {
    "execution": {
     "iopub.execute_input": "2025-08-16T10:09:42.205747Z",
     "iopub.status.busy": "2025-08-16T10:09:42.205561Z",
     "iopub.status.idle": "2025-08-16T10:09:42.208597Z",
     "shell.execute_reply": "2025-08-16T10:09:42.207940Z"
    }
   },
   "outputs": [
    {
     "name": "stdout",
     "output_type": "stream",
     "text": [
      "Total interactions: 4\n"
     ]
    }
   ],
   "source": [
    "# Access previous responses by index\n",
    "# lui[-1]  # Last response\n",
    "# lui[-2]  # Second to last response\n",
    "\n",
    "# Check the number of interactions\n",
    "print(f\"Total interactions: {len(lui._history)}\")"
   ]
  },
  {
   "cell_type": "markdown",
   "id": "8050f3dc",
   "metadata": {},
   "source": [
    "## Enabling Traces\n",
    "\n",
    "For complex queries, you might want to see the AI's reasoning process:"
   ]
  },
  {
   "cell_type": "code",
   "execution_count": 10,
   "id": "a72cbbd2",
   "metadata": {
    "execution": {
     "iopub.execute_input": "2025-08-16T10:09:42.209929Z",
     "iopub.status.busy": "2025-08-16T10:09:42.209831Z",
     "iopub.status.idle": "2025-08-16T10:09:55.583354Z",
     "shell.execute_reply": "2025-08-16T10:09:55.583041Z"
    }
   },
   "outputs": [
    {
     "data": {
      "text/html": [
       "<div style='border: 1px solid #ddd; padding: 15px; border-radius: 5px;'><h4 style='margin-top: 0;'>🤖 LouieAI Response</h4><div style='font-size: 0.8em; color: #666; margin-bottom: 10px;'>Thread: <code>D_qcS7wl5WndQq3y_ec21R</code> | Time: 7.4s</div><div style='margin-top: 10px;'><div id='B_S87EuQGL'><div style='color: #0066cc; font-family: monospace; font-size: 0.9em;'>i LouieAgent::runner</div></div><div id='B_mMjEshZK'><div style='color: #666; font-family: monospace; font-size: 0.9em;'>🐛 Input text:::What is the sum of 1 to 10?</div></div><div id='B_NgC8ahCs'><div style='color: #666; font-family: monospace; font-size: 0.9em;'>🐛 Reading chat history. (is_prepared: True)</div></div><div id='B_9ocrK77f'><div style='color: #666; font-family: monospace; font-size: 0.9em;'>🐛 LouieAgent predict with tools: ['GraphAgent', 'CodeAgent', 'TableAIAgent', 'FirecrawlAgent', 'NotebookAgent', 'DatabricksAgent', 'MermaidAgent', 'PerspectiveAgent', 'OpenSearchAgent', 'KeplerAgent', 'SpannerAgent', 'SpannerPassthroughAgent', 'KustoAgent', 'KustoPassthroughAgent', 'PostgresAgent', 'PostgresPassthroughAgent', 'Done', 'Chat'] has_recipes: True has_examples: True</div></div><div id='B_jj62VkoB'>The sum of the numbers from 1 to 10 is 55. If you have</div><div id='B_VmEzgaX1'><div style='color: #0066cc; font-family: monospace; font-size: 0.9em;'>i Louie output text: The sum of the numbers from 1 to 10 is 55. If you have any more questions or need further assistance, feel free to ask!</div></div></div></div>"
      ],
      "text/plain": [
       "<IPython.core.display.HTML object>"
      ]
     },
     "metadata": {},
     "output_type": "display_data"
    },
    {
     "data": {
      "text/html": [
       "<div style='border: 1px solid #ddd; padding: 10px; border-radius: 5px; margin-bottom: 10px;'>\n",
       "<h4 style='margin-top: 0;'>🤖 LouieAI Session</h4>\n",
       "<hr style='margin: 10px 0;'>\n",
       "<p style='margin: 5px 0; font-size: 0.9em;'>✅ <b>Session:</b> Active | <b>Thread ID:</b> <code>D_qcS7wl5WndQq3y_ec21R</code> | <a href='http://localhost:8000/?dthread=D_qcS7wl5WndQq3y_ec21R' target='_blank'>View Thread ↗</a> | <b>Org:</b> all-users</p>\n",
       "<p style='margin: 5px 0; font-size: 0.9em;'>📚 <b>History:</b> 6 responses\n",
       " (access with <code>lui[-1]</code>, <code>lui[-2]</code>, etc.)</p>\n",
       "<p style='margin: 5px 0; font-size: 0.9em;'>🔍 <b>Traces:</b> Disabled (use <code>lui.traces = True</code> to enable)</p>\n",
       "<p><b>Latest Response:</b></p>\n",
       "<ul style='margin: 5px 0;'>\n",
       "<li>1 text element(s) - access with <code>lui.text</code> or <code>lui.texts</code></li>\n",
       "</ul>\n",
       "<details><summary><b>Quick Help</b> (click to expand)</summary>\n",
       "<pre style='margin: 10px 0; padding: 10px; background: #f5f5f5;'>\n",
       "# Make a query\n",
       "\n",
       "lui('Show me sales data from last week')\n",
       "\n",
       "\n",
       "# Control visibility\n",
       "\n",
       "lui('query', share_mode='Private')       # Default: only you\n",
       "\n",
       "lui('query', share_mode='Organization')  # Share within org\n",
       "\n",
       "lui('query', share_mode='Public')        # Share publicly\n",
       "\n",
       "\n",
       "# Access results\n",
       "\n",
       "df = lui.df          # Latest dataframe\n",
       "\n",
       "text = lui.text      # Latest text response\n",
       "\n",
       "all_dfs = lui.dfs    # All dataframes\n",
       "\n",
       "\n",
       "# History\n",
       "\n",
       "lui[-1].df           # Previous response's dataframe\n",
       "\n",
       "\n",
       "# Traces (AI reasoning)\n",
       "\n",
       "lui.traces = True    # Enable for session\n",
       "\n",
       "lui('query', traces=True)  # Enable for one query\n",
       "</pre>\n",
       "</details>\n",
       "</div>"
      ],
      "text/plain": [
       "<LouieAI Notebook Interface | Session: Active | History: 6 responses | Traces: Disabled | Latest: 1 text>"
      ]
     },
     "execution_count": 10,
     "metadata": {},
     "output_type": "execute_result"
    }
   ],
   "source": [
    "# Enable traces for the session\n",
    "lui.traces = True\n",
    "\n",
    "# Now queries will show reasoning steps\n",
    "lui(\"What is 100 + 50?\")\n",
    "\n",
    "# Disable traces\n",
    "lui.traces = False\n",
    "\n",
    "# Or enable traces for just one query\n",
    "lui(\"What is the sum of 1 to 10?\", traces=True)"
   ]
  },
  {
   "cell_type": "markdown",
   "id": "2b3dd3c0",
   "metadata": {},
   "source": [
    "## Error Handling\n",
    "\n",
    "The interface handles errors gracefully:"
   ]
  },
  {
   "cell_type": "code",
   "execution_count": 11,
   "id": "2563848c",
   "metadata": {
    "execution": {
     "iopub.execute_input": "2025-08-16T10:09:55.584404Z",
     "iopub.status.busy": "2025-08-16T10:09:55.584303Z",
     "iopub.status.idle": "2025-08-16T10:09:55.586157Z",
     "shell.execute_reply": "2025-08-16T10:09:55.585923Z"
    }
   },
   "outputs": [
    {
     "name": "stdout",
     "output_type": "stream",
     "text": [
      "No errors in last operation\n"
     ]
    }
   ],
   "source": [
    "# Check if the last operation had errors\n",
    "if lui.has_errors:\n",
    "    print(\"Last operation had errors:\", lui.errors)\n",
    "else:\n",
    "    print(\"No errors in last operation\")"
   ]
  },
  {
   "cell_type": "markdown",
   "id": "ba2d1e2a",
   "metadata": {},
   "source": [
    "## Tips and Tricks\n",
    "\n",
    "Here are some helpful patterns for using the notebook interface:\n",
    "\n",
    "1. **Use clear prompts**: Be specific about what you want to analyze\n",
    "2. **Check outputs**: Always verify `lui.df` and `lui.text` after queries\n",
    "3. **Enable traces for debugging**: Use `traces=True` when troubleshooting\n",
    "4. **Leverage history**: Access previous results with `lui[-1]`, `lui[-2]`, etc.\n",
    "5. **Upload various formats**: DataFrames, images, PDFs all work seamlessly"
   ]
  }
 ],
 "metadata": {
  "language_info": {
   "codemirror_mode": {
    "name": "ipython",
    "version": 3
   },
   "file_extension": ".py",
   "mimetype": "text/x-python",
   "name": "python",
   "nbconvert_exporter": "python",
   "pygments_lexer": "ipython3",
   "version": "3.12.11"
  }
 },
 "nbformat": 4,
 "nbformat_minor": 5
}
