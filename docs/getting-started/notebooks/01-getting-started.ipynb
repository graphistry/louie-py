{
 "cells": [
  {
   "cell_type": "markdown",
   "id": "1e9db8de",
   "metadata": {},
   "source": [
    "# Getting Started with LouieAI Notebook Interface\n",
    "\n",
    "This notebook demonstrates the basic usage of the LouieAI notebook-friendly API (`lui`).\n",
    "\n",
    "## Authentication Requirements\n",
    "\n",
    "LouieAI uses PyGraphistry for authentication. Before running this notebook, you need:\n",
    "\n",
    "1. **PyGraphistry Account**: Sign up for free at [hub.graphistry.com](https://hub.graphistry.com)\n",
    "2. **Set Credentials**: Use one of these methods:\n",
    "\n",
    "   ```bash\n",
    "   # Option 1: Environment variables (recommended for notebooks)\n",
    "   export GRAPHISTRY_USERNAME=\"your_username\"\n",
    "   export GRAPHISTRY_PASSWORD=\"your_password\"\n",
    "   ```\n",
    "   \n",
    "   ```python\n",
    "   # Option 2: Authenticate in code\n",
    "   import graphistry\n",
    "   graphistry.register(api=3, server=\"hub.graphistry.com\", \n",
    "                      username=\"your_username\", password=\"your_password\")\n",
    "   ```\n",
    "\n",
    "## Setup\n",
    "\n",
    "First, make sure you have LouieAI installed and your credentials configured."
   ]
  },
  {
   "cell_type": "code",
   "execution_count": 1,
   "id": "fdb0cef5",
   "metadata": {
    "execution": {
     "iopub.execute_input": "2025-08-16T17:52:24.119577Z",
     "iopub.status.busy": "2025-08-16T17:52:24.119182Z",
     "iopub.status.idle": "2025-08-16T17:52:25.212062Z",
     "shell.execute_reply": "2025-08-16T17:52:25.211768Z"
    }
   },
   "outputs": [
    {
     "data": {
      "text/html": [
       "<div style='border: 1px solid #ddd; padding: 10px; border-radius: 5px; margin-bottom: 10px;'>\n",
       "<h4 style='margin-top: 0;'>🤖 LouieAI Session</h4>\n",
       "<hr style='margin: 10px 0;'>\n",
       "<p style='margin: 5px 0; font-size: 0.9em;'>⚪ <b>Session:</b> Not started (use <code>lui('your query')</code>)</p>\n",
       "<p style='margin: 5px 0; font-size: 0.9em;'>📚 <b>History:</b> 0 responses\n",
       "</p>\n",
       "<p style='margin: 5px 0; font-size: 0.9em;'>🔍 <b>Traces:</b> Disabled (use <code>lui.traces = True</code> to enable)</p>\n",
       "<details><summary><b>Quick Help</b> (click to expand)</summary>\n",
       "<pre style='margin: 10px 0; padding: 10px; background: #f5f5f5;'>\n",
       "# Make a query\n",
       "\n",
       "lui('Show me sales data from last week')\n",
       "\n",
       "\n",
       "# Control visibility\n",
       "\n",
       "lui('query', share_mode='Private')       # Default: only you\n",
       "\n",
       "lui('query', share_mode='Organization')  # Share within org\n",
       "\n",
       "lui('query', share_mode='Public')        # Share publicly\n",
       "\n",
       "\n",
       "# Access results\n",
       "\n",
       "df = lui.df          # Latest dataframe\n",
       "\n",
       "text = lui.text      # Latest text response\n",
       "\n",
       "all_dfs = lui.dfs    # All dataframes\n",
       "\n",
       "\n",
       "# History\n",
       "\n",
       "lui[-1].df           # Previous response's dataframe\n",
       "\n",
       "\n",
       "# Traces (AI reasoning)\n",
       "\n",
       "lui.traces = True    # Enable for session\n",
       "\n",
       "lui('query', traces=True)  # Enable for one query\n",
       "</pre>\n",
       "</details>\n",
       "</div>"
      ],
      "text/plain": [
       "<LouieAI Notebook Interface | Session: Not started | History: 0 responses | Traces: Disabled>"
      ]
     },
     "execution_count": 1,
     "metadata": {},
     "output_type": "execute_result"
    }
   ],
   "source": [
    "import os\n",
    "\n",
    "import graphistry\n",
    "\n",
    "from louieai import louie  # Factory function to create Louie interface\n",
    "\n",
    "# Authenticate with Graphistry\n",
    "# Uses GRAPHISTRY_USERNAME and GRAPHISTRY_PASSWORD from environment\n",
    "g = graphistry.register(\n",
    "    api=3,\n",
    "    server=os.environ.get(\"GRAPHISTRY_SERVER\", \"hub.graphistry.com\"),\n",
    "    username=os.environ.get(\"GRAPHISTRY_USERNAME\"),\n",
    "    password=os.environ.get(\"GRAPHISTRY_PASSWORD\"),\n",
    ")\n",
    "\n",
    "# Configure Louie server URL\n",
    "# Default to production server, or set LOUIE_SERVER env var for custom\n",
    "# Examples:\n",
    "#   export LOUIE_SERVER=\"http://localhost:8000\"  # Local development\n",
    "#   export LOUIE_SERVER=\"https://den.louie.ai\"    # Production (default)\n",
    "LOUIE_SERVER_URL = os.environ.get(\"LOUIE_SERVER\", \"https://den.louie.ai\")\n",
    "\n",
    "# Create the Louie interface\n",
    "lui = louie(g, server_url=LOUIE_SERVER_URL)\n",
    "\n",
    "lui  # Display status"
   ]
  },
  {
   "cell_type": "markdown",
   "id": "feb998d0",
   "metadata": {},
   "source": [
    "## Basic Queries\n",
    "\n",
    "The `lui` interface accepts natural language queries and returns AI-generated responses. Let's verify it works with a simple arithmetic question:"
   ]
  },
  {
   "cell_type": "code",
   "execution_count": 2,
   "id": "2b2e6f64",
   "metadata": {
    "execution": {
     "iopub.execute_input": "2025-08-16T17:52:25.213369Z",
     "iopub.status.busy": "2025-08-16T17:52:25.213191Z",
     "iopub.status.idle": "2025-08-16T17:52:32.714439Z",
     "shell.execute_reply": "2025-08-16T17:52:32.714132Z"
    }
   },
   "outputs": [
    {
     "data": {
      "text/html": [
       "<div style='border: 1px solid #ddd; padding: 15px; border-radius: 5px;'><h4 style='margin-top: 0;'>🤖 LouieAI Response</h4><div style='font-size: 0.8em; color: #666; margin-bottom: 10px;'>Thread: <code>D_XyrI1RC741CHguIK_10Z</code> | Time: 7.5s</div><div style='margin-top: 10px;'><div id='B_A4Sm1MZT'>2 plus 2 equals 4.</div></div></div>"
      ],
      "text/plain": [
       "<IPython.core.display.HTML object>"
      ]
     },
     "metadata": {},
     "output_type": "display_data"
    },
    {
     "name": "stdout",
     "output_type": "stream",
     "text": [
      "Answer: 2 plus 2 equals 4.\n",
      "✅ Basic query working correctly!\n"
     ]
    }
   ],
   "source": [
    "# Ask a simple arithmetic question - should mention \"4\"\n",
    "response = lui(\"What is 2 plus 2? Just tell me the answer.\")\n",
    "\n",
    "# The response is automatically stored and accessible\n",
    "print(f\"Answer: {lui.text}\")\n",
    "\n",
    "# Verify we got the correct answer\n",
    "if \"4\" in str(lui.text) or \"four\" in str(lui.text).lower():\n",
    "    print(\"✅ Basic query working correctly!\")\n",
    "else:\n",
    "    print(\"⚠️ Response may be incomplete - expected '4' in answer\")"
   ]
  },
  {
   "cell_type": "markdown",
   "id": "8191d818",
   "metadata": {},
   "source": [
    "## Working with Data\n",
    "\n",
    "LouieAI can generate and analyze data. Let's create a sample dataset:"
   ]
  },
  {
   "cell_type": "code",
   "execution_count": 3,
   "id": "480a9a58",
   "metadata": {
    "execution": {
     "iopub.execute_input": "2025-08-16T17:52:32.716316Z",
     "iopub.status.busy": "2025-08-16T17:52:32.715941Z",
     "iopub.status.idle": "2025-08-16T17:52:59.543440Z",
     "shell.execute_reply": "2025-08-16T17:52:59.542554Z"
    }
   },
   "outputs": [
    {
     "data": {
      "text/html": [
       "<div style='border: 1px solid #ddd; padding: 15px; border-radius: 5px;'><h4 style='margin-top: 0;'>🤖 LouieAI Response</h4><div style='font-size: 0.8em; color: #666; margin-bottom: 10px;'>Thread: <code>D_XyrI1RC741CHguIK_10Z</code> | Time: 24.9s</div><div style='margin-top: 10px;'><div id='B_ZljmQ9Vi'>The task is to generate a pandas dataframe with 3 rows and columns for name, age, and city. I will use the CodeAgent to create this dataframe.<br><br>Plan:<br>1. Use the CodeAgent to generate a pandas dataframe with the specified columns and rows.<br>2. Ensure the dataframe is correctly formatted and contains the required data.<br><br>CodeAgent<br>Generate a pandas dataframe with 3 rows and columns: name, age, city. Fill it with example data.I successfully generated a pandas DataFrame with 3 rows and columns: name, age, and city. Here's the data:<br><br>- Name: Alice, Age: 25, City: New York<br>- Name: Bob, Age: 30, City: Los Angeles<br>- Name: Charlie, Age: 35, City: Chicago<br><br>The DataFrame has been saved as an artifact named \"people_data.\" If you need anything else</div><div id='B_Hz8qFkA4'><div style='color: gray;'>[CallElement] Generate a pandas dataframe with 3 rows and columns: name, age, city. Fill it with example data.</div></div><div id='B_pwhrW2ef'>```python<br>import pandas as pd<br><br># Create a dictionary with the data<br>data = {<br>    'name': ['Alice', 'Bob', 'Charlie'],<br>    'age': [25, 30, 35],<br>    'city': ['New York', 'Los Angeles', 'Chicago']<br>}<br><br># Convert the dictionary into a pandas DataFrame<br>df = pd.DataFrame(data)<br><br># Save the DataFrame as an artifact<br>save_artifact(df, 'people_data')<br><br># Print the DataFrame to verify its contents<br>print(df)<br><br>print('Successfully created a DataFrame with name, age, and</div><div id='B_7clTzcCY'><div style='background: #f0f0f0; padding: 5px; margin: 5px 0;'>📊 DataFrame: B_7clTzcCY (shape: 3 x 3)</div></div><div id='B_kz52gmU7'>The task of generating a pandas DataFrame with 3 rows and columns: name, age, and city has been successfully completed. The DataFrame was created with the following example data: names \"Alice,\" \"Bob,\" and \"Charlie,\" ages 25, 30, and 35, and cities \"New York,\" \"Los Angeles,\" and \"Chicago.\" The DataFrame was saved as an artifact named \"people_data\" and verified to contain the correct data. The process was executed efficiently, with the entire operation completed in approximately 0.1 seconds.</div></div></div>"
      ],
      "text/plain": [
       "<IPython.core.display.HTML object>"
      ]
     },
     "metadata": {},
     "output_type": "display_data"
    },
    {
     "name": "stdout",
     "output_type": "stream",
     "text": [
      "Generated DataFrame with shape: (3, 3)\n",
      "\n",
      "DataFrame contents:\n"
     ]
    },
    {
     "data": {
      "text/html": [
       "<div>\n",
       "<style scoped>\n",
       "    .dataframe tbody tr th:only-of-type {\n",
       "        vertical-align: middle;\n",
       "    }\n",
       "\n",
       "    .dataframe tbody tr th {\n",
       "        vertical-align: top;\n",
       "    }\n",
       "\n",
       "    .dataframe thead th {\n",
       "        text-align: right;\n",
       "    }\n",
       "</style>\n",
       "<table border=\"1\" class=\"dataframe\">\n",
       "  <thead>\n",
       "    <tr style=\"text-align: right;\">\n",
       "      <th></th>\n",
       "      <th>name</th>\n",
       "      <th>age</th>\n",
       "      <th>city</th>\n",
       "    </tr>\n",
       "  </thead>\n",
       "  <tbody>\n",
       "    <tr>\n",
       "      <th>0</th>\n",
       "      <td>Alice</td>\n",
       "      <td>25</td>\n",
       "      <td>New York</td>\n",
       "    </tr>\n",
       "    <tr>\n",
       "      <th>1</th>\n",
       "      <td>Bob</td>\n",
       "      <td>30</td>\n",
       "      <td>Los Angeles</td>\n",
       "    </tr>\n",
       "    <tr>\n",
       "      <th>2</th>\n",
       "      <td>Charlie</td>\n",
       "      <td>35</td>\n",
       "      <td>Chicago</td>\n",
       "    </tr>\n",
       "  </tbody>\n",
       "</table>\n",
       "</div>"
      ],
      "text/plain": [
       "      name  age         city\n",
       "0    Alice   25     New York\n",
       "1      Bob   30  Los Angeles\n",
       "2  Charlie   35      Chicago"
      ]
     },
     "metadata": {},
     "output_type": "display_data"
    }
   ],
   "source": [
    "# Use the exact working prompt from our test\n",
    "lui(\"Generate a pandas dataframe with 3 rows: name, age, city columns\")\n",
    "\n",
    "# Access the generated dataframe\n",
    "df = lui.df\n",
    "if df is not None:\n",
    "    print(f\"Generated DataFrame with shape: {df.shape}\")\n",
    "    print(\"\\nDataFrame contents:\")\n",
    "    display(df)\n",
    "else:\n",
    "    print(\"No dataframe was generated. Let's try a different approach.\")\n",
    "    print(f\"Response text: {lui.text}\")\n",
    "    \n",
    "    # Try alternate approach\n",
    "    lui(\"Create a table with 3 products: name, price, quantity\")\n",
    "    if lui.df is not None:\n",
    "        print(f\"\\nSecond attempt successful! Shape: {lui.df.shape}\")\n",
    "        display(lui.df)"
   ]
  },
  {
   "cell_type": "markdown",
   "id": "ba207adc",
   "metadata": {},
   "source": [
    "## Analyzing Data  \n",
    "\n",
    "Once you have data, you can ask LouieAI to perform calculations and analysis using its code agent:"
   ]
  },
  {
   "cell_type": "code",
   "execution_count": 4,
   "id": "c178e715",
   "metadata": {
    "execution": {
     "iopub.execute_input": "2025-08-16T17:52:59.546355Z",
     "iopub.status.busy": "2025-08-16T17:52:59.546173Z",
     "iopub.status.idle": "2025-08-16T17:53:29.429483Z",
     "shell.execute_reply": "2025-08-16T17:53:29.429149Z"
    }
   },
   "outputs": [
    {
     "data": {
      "text/html": [
       "<div style='border: 1px solid #ddd; padding: 15px; border-radius: 5px;'><h4 style='margin-top: 0;'>🤖 LouieAI Response</h4><div style='font-size: 0.8em; color: #666; margin-bottom: 10px;'>Thread: <code>D_XyrI1RC741CHguIK_10Z</code> | Time: 14.9s</div><div style='margin-top: 10px;'><div id='B_vwTHAfii'>To determine the oldest person in the dataframe, I need to examine the \"age\" column and identify the person with the highest age value.<br><br>Plan:<br>1. Access the dataframe B_7clTzcCY.<br>2. Identify the row with the maximum age value.<br>3. Retrieve the corresponding name of the oldest person.<br><br>TableAIAgent<br>\"Who is the oldest person in the dataframe B_7clTzcCY using the 'age' column?\"<br>The oldest person in the dataframe B_7clTzcCY is Charlie, who</div><div id='B_iG6rRShH'><div style='color: gray;'>[CallElement] Who is the oldest person in the dataframe B_7clTzcCY using the 'age' column?\"\n",
       "</div></div><div id='B_clwi4UqI'>Charlie is the oldest person in the dataframe B_7clTzcCY, with an age of 35 years. This conclusion is based on the analysis of the 'age' column, where Charlie's age is the highest compared to the other individuals, Alice and Bob, who are 25 and 30 years old, respectively.</div><div id='B_RYsu2Cji'>The oldest person in the dataframe B_7clTzcCY, using the 'age' column, is Charlie, who is 35 years old. This conclusion is drawn from the provided table, which lists the ages and names of individuals. Charlie has the highest age value of 35 compared to Alice, who is 25, and Bob, who is 30.</div><div id='B_iXTlYjVI'>===== Metadata =====<br>Settings:<br>- Max Tokens: 1000000<br>- Table Format: csv<br>- Head and Tail: True<br>- Columns Filtered: None<br>- Preprocess Function: None<br>DF Metadata:<br>- Original Shape: (3, 2)<br>- Original Token Count: 31<br>- Pruned Token Count: 28<br>- Rows in Head: 3<br>- Rows in Tail: 0<br>- Omitted Rows: 0<br>- Individual Rows Truncated: False<br>- Dropped Noise Columns: []<br>- Response was truncated (max_chars=1000000): False<br>----------------------------------------<br>+-----+---------+<br>| age | name |<br>+=====+=========+<br>| 25 | Alice |<br>| 30 | Bob |<br>| 35 | Charlie |<br>+-----+---------+</div><div id='B_mKM4_ukY'>Who is the oldest person in the dataframe B_7clTzcCY using the 'age' column?\"<br></div></div></div>"
      ],
      "text/plain": [
       "<IPython.core.display.HTML object>"
      ]
     },
     "metadata": {},
     "output_type": "display_data"
    },
    {
     "name": "stdout",
     "output_type": "stream",
     "text": [
      "\n",
      "Analysis: Who is the oldest person in the dataframe B_7clTzcCY using the 'age' column?\"\n",
      "...\n"
     ]
    }
   ],
   "source": [
    "# Ask for a simple fact about the data\n",
    "lui(\"How many people are in the dataframe?\")\n",
    "\n",
    "# The answer should be available\n",
    "print(f\"Result: {lui.text[:200]}...\")\n",
    "\n",
    "# Verify the answer (should mention 3)\n",
    "if \"3\" in str(lui.text) or \"three\" in str(lui.text).lower():\n",
    "    print(\"✅ Data analysis working!\")\n",
    "else:\n",
    "    print(\"⚠️ Expected count of 3 not found\")\n",
    "    \n",
    "# Ask another simple question\n",
    "lui(\"Who is the oldest person?\")\n",
    "print(f\"\\nAnalysis: {lui.text[:200]}...\")"
   ]
  },
  {
   "cell_type": "markdown",
   "id": "9d497178",
   "metadata": {},
   "source": [
    "## Beyond DataFrames\n",
    "\n",
    "LouieAI can also analyze images, PDFs, Excel files, and more!\n",
    "\n",
    "For comprehensive examples of uploading different file types, see the **[Data Upload Guide](02-data-upload.ipynb)**:\n",
    "- Image analysis (PNG, JPEG, etc.)\n",
    "- Document processing (PDF, Word, PowerPoint)\n",
    "- Excel file handling\n",
    "- Advanced upload options"
   ]
  },
  {
   "cell_type": "code",
   "execution_count": 5,
   "id": "aeteko0now4",
   "metadata": {
    "execution": {
     "iopub.execute_input": "2025-08-16T17:53:29.431696Z",
     "iopub.status.busy": "2025-08-16T17:53:29.431466Z",
     "iopub.status.idle": "2025-08-16T17:53:31.905260Z",
     "shell.execute_reply": "2025-08-16T17:53:31.904896Z"
    }
   },
   "outputs": [
    {
     "name": "stdout",
     "output_type": "stream",
     "text": [
      "Product inventory:\n",
      "    product  price  quantity\n",
      "0  Widget A  10.99       100\n",
      "1  Widget B  15.49        75\n",
      "2  Widget C   8.99       150\n"
     ]
    },
    {
     "name": "stdout",
     "output_type": "stream",
     "text": [
      "\n",
      "Inventory Analysis: Calculate the total inventory value (sum of price * quantity for all products)...\n"
     ]
    }
   ],
   "source": [
    "# Quick example: Working with product data\n",
    "import pandas as pd\n",
    "\n",
    "# Create a products DataFrame\n",
    "products_df = pd.DataFrame({\n",
    "    \"product\": [\"Widget A\", \"Widget B\", \"Widget C\"],\n",
    "    \"price\": [10.99, 15.49, 8.99],\n",
    "    \"quantity\": [100, 75, 150]\n",
    "})\n",
    "\n",
    "print(\"Product inventory:\")\n",
    "print(products_df)\n",
    "\n",
    "# Analyze with LouieAI\n",
    "lui(\"Calculate the total inventory value (sum of price * quantity for all products)\", products_df)\n",
    "print(f\"\\nInventory Analysis: {lui.text[:300]}...\")\n",
    "\n",
    "# Check if calculation was performed\n",
    "if any(str(val) in str(lui.text) for val in [\"3610\", \"3611\", \"3,610\", \"3,611\"]):\n",
    "    print(\"✅ Inventory calculation working!\")"
   ]
  },
  {
   "cell_type": "markdown",
   "id": "1e27f7f0",
   "metadata": {},
   "source": [
    "## Uploading Your Own Data\n",
    "\n",
    "LouieAI can analyze DataFrames you create or load from files:"
   ]
  },
  {
   "cell_type": "code",
   "execution_count": 6,
   "id": "df0bd045",
   "metadata": {
    "execution": {
     "iopub.execute_input": "2025-08-16T17:53:31.906434Z",
     "iopub.status.busy": "2025-08-16T17:53:31.906330Z",
     "iopub.status.idle": "2025-08-16T17:53:31.912636Z",
     "shell.execute_reply": "2025-08-16T17:53:31.912395Z"
    }
   },
   "outputs": [
    {
     "name": "stdout",
     "output_type": "stream",
     "text": [
      "Sample of your data:\n"
     ]
    },
    {
     "data": {
      "text/html": [
       "<div>\n",
       "<style scoped>\n",
       "    .dataframe tbody tr th:only-of-type {\n",
       "        vertical-align: middle;\n",
       "    }\n",
       "\n",
       "    .dataframe tbody tr th {\n",
       "        vertical-align: top;\n",
       "    }\n",
       "\n",
       "    .dataframe thead th {\n",
       "        text-align: right;\n",
       "    }\n",
       "</style>\n",
       "<table border=\"1\" class=\"dataframe\">\n",
       "  <thead>\n",
       "    <tr style=\"text-align: right;\">\n",
       "      <th></th>\n",
       "      <th>date</th>\n",
       "      <th>sales</th>\n",
       "      <th>visitors</th>\n",
       "      <th>region</th>\n",
       "    </tr>\n",
       "  </thead>\n",
       "  <tbody>\n",
       "    <tr>\n",
       "      <th>0</th>\n",
       "      <td>2024-01-01</td>\n",
       "      <td>100.132129</td>\n",
       "      <td>172</td>\n",
       "      <td>North</td>\n",
       "    </tr>\n",
       "    <tr>\n",
       "      <th>1</th>\n",
       "      <td>2024-01-02</td>\n",
       "      <td>100.427145</td>\n",
       "      <td>94</td>\n",
       "      <td>South</td>\n",
       "    </tr>\n",
       "    <tr>\n",
       "      <th>2</th>\n",
       "      <td>2024-01-03</td>\n",
       "      <td>99.481349</td>\n",
       "      <td>166</td>\n",
       "      <td>North</td>\n",
       "    </tr>\n",
       "    <tr>\n",
       "      <th>3</th>\n",
       "      <td>2024-01-04</td>\n",
       "      <td>98.658227</td>\n",
       "      <td>63</td>\n",
       "      <td>South</td>\n",
       "    </tr>\n",
       "    <tr>\n",
       "      <th>4</th>\n",
       "      <td>2024-01-05</td>\n",
       "      <td>97.870372</td>\n",
       "      <td>120</td>\n",
       "      <td>South</td>\n",
       "    </tr>\n",
       "  </tbody>\n",
       "</table>\n",
       "</div>"
      ],
      "text/plain": [
       "        date       sales  visitors region\n",
       "0 2024-01-01  100.132129       172  North\n",
       "1 2024-01-02  100.427145        94  South\n",
       "2 2024-01-03   99.481349       166  North\n",
       "3 2024-01-04   98.658227        63  South\n",
       "4 2024-01-05   97.870372       120  South"
      ]
     },
     "execution_count": 6,
     "metadata": {},
     "output_type": "execute_result"
    }
   ],
   "source": [
    "import numpy as np\n",
    "import pandas as pd\n",
    "\n",
    "# Create your own DataFrame (or load from CSV/Excel)\n",
    "my_data = pd.DataFrame(\n",
    "    {\n",
    "        \"date\": pd.date_range(\"2024-01-01\", periods=30, freq=\"D\"),\n",
    "        \"sales\": np.random.randn(30).cumsum() + 100,\n",
    "        \"visitors\": np.random.randint(50, 200, 30),\n",
    "        \"region\": np.random.choice([\"North\", \"South\", \"East\", \"West\"], 30),\n",
    "    }\n",
    ")\n",
    "\n",
    "print(\"Sample of your data:\")\n",
    "my_data.head()"
   ]
  },
  {
   "cell_type": "code",
   "execution_count": 7,
   "id": "3bed216e",
   "metadata": {
    "execution": {
     "iopub.execute_input": "2025-08-16T17:53:31.913595Z",
     "iopub.status.busy": "2025-08-16T17:53:31.913497Z",
     "iopub.status.idle": "2025-08-16T17:53:50.178785Z",
     "shell.execute_reply": "2025-08-16T17:53:50.178467Z"
    }
   },
   "outputs": [
    {
     "data": {
      "text/html": [
       "<div style='border: 1px solid #ddd; padding: 15px; border-radius: 5px;'><h4 style='margin-top: 0;'>🤖 LouieAI Response</h4><div style='font-size: 0.8em; color: #666; margin-bottom: 10px;'>Thread: <code>D_XyrI1RC741CHguIK_10Z</code> | Time: 15.8s</div><div style='margin-top: 10px;'><div id='B_hibXYBtD'>To determine which region appears most frequently in the data, I need to analyze the relevant column in the dataframe that contains region information. Since the dataframe B_7clTzcCY does not have a region column, I need to identify the correct dataframe that contains this information.<br><br>Plan:<br>1. Identify the dataframe that contains region information.<br>2. Use the TableAIAgent to analyze the dataframe and determine the most frequently appearing region.<br><br>TableAIAgent<br>\"What is the most common region in the dataframe?\" (Assuming the correct dataframe ID is B_Y2ipolZB, as it is not specified in the current context)<br>It seems there was an issue with identifying the correct dataframe for your query about the most common region. The system attempted to access a dataframe with the ID B_Y2ipolZB, but it encountered an error indicating that no such dataframe was found. Please ensure that the dataframe ID is correct or provide additional context or details so that I can assist you further. If you have the correct dataframe ID or additional information, please let me know, and I'll be</div><div id='B_bl2LKrCj'><div style='color: gray;'>[CallElement] What is the most common region in the dataframe?\" (Assuming the correct dataframe ID is B_Y2ipolZB, as it is not specified in the current context)\n",
       "</div></div><div id='B_JaTrxsX7'>It seems there was an issue with identifying the correct dataframe for your query about the most common region. The system attempted to access a dataframe with the ID B_Y2ipolZB, but it encountered an error indicating that no such dataframe was found. Please ensure that the dataframe ID is correct or provide additional context or details so that I can assist you further.</div></div></div>"
      ],
      "text/plain": [
       "<IPython.core.display.HTML object>"
      ]
     },
     "metadata": {},
     "output_type": "display_data"
    },
    {
     "name": "stdout",
     "output_type": "stream",
     "text": [
      "\n",
      "Region analysis: It seems there was an issue with identifying the correct dataframe for your query about the most common region. The system attempted to access a dataframe with the ID B_Y2ipolZB, but it encountered an...\n"
     ]
    }
   ],
   "source": [
    "# Upload and analyze your DataFrame\n",
    "lui(\"Calculate the sum of all sales values in this dataset\", my_data)\n",
    "\n",
    "# The AI analyzes YOUR uploaded data\n",
    "print(f\"Analysis: {lui.text[:300]}...\")\n",
    "\n",
    "# Check if it processed the data\n",
    "if \"sales\" in str(lui.text).lower() or \"sum\" in str(lui.text).lower():\n",
    "    print(\"✅ DataFrame upload and analysis working!\")\n",
    "\n",
    "# You can ask follow-up questions about the uploaded data\n",
    "lui(\"Which region appears most frequently in the data?\")\n",
    "print(f\"\\nRegion analysis: {lui.text[:200]}...\")"
   ]
  },
  {
   "cell_type": "markdown",
   "id": "15885e22",
   "metadata": {},
   "source": [
    "## Session History\n",
    "\n",
    "The `lui` interface maintains a history of your interactions:"
   ]
  },
  {
   "cell_type": "code",
   "execution_count": 8,
   "id": "676f2a36",
   "metadata": {
    "execution": {
     "iopub.execute_input": "2025-08-16T17:53:50.179944Z",
     "iopub.status.busy": "2025-08-16T17:53:50.179813Z",
     "iopub.status.idle": "2025-08-16T17:53:50.182004Z",
     "shell.execute_reply": "2025-08-16T17:53:50.181685Z"
    }
   },
   "outputs": [
    {
     "name": "stdout",
     "output_type": "stream",
     "text": [
      "Total interactions: 7\n"
     ]
    }
   ],
   "source": [
    "# Access previous responses by index\n",
    "# lui[-1]  # Last response\n",
    "# lui[-2]  # Second to last response\n",
    "\n",
    "# Check the number of interactions\n",
    "print(f\"Total interactions: {len(lui._history)}\")"
   ]
  },
  {
   "cell_type": "markdown",
   "id": "8050f3dc",
   "metadata": {},
   "source": [
    "## Enabling Traces\n",
    "\n",
    "For complex queries, you might want to see the AI's reasoning process:"
   ]
  },
  {
   "cell_type": "code",
   "execution_count": 9,
   "id": "a72cbbd2",
   "metadata": {
    "execution": {
     "iopub.execute_input": "2025-08-16T17:53:50.183205Z",
     "iopub.status.busy": "2025-08-16T17:53:50.183063Z",
     "iopub.status.idle": "2025-08-16T17:54:06.250560Z",
     "shell.execute_reply": "2025-08-16T17:54:06.250272Z"
    }
   },
   "outputs": [
    {
     "data": {
      "text/html": [
       "<div style='border: 1px solid #ddd; padding: 15px; border-radius: 5px;'><h4 style='margin-top: 0;'>🤖 LouieAI Response</h4><div style='font-size: 0.8em; color: #666; margin-bottom: 10px;'>Thread: <code>D_XyrI1RC741CHguIK_10Z</code> | Time: 10.3s</div><div style='margin-top: 10px;'><div id='B_3l_ckdFV'><div style='color: #0066cc; font-family: monospace; font-size: 0.9em;'>i LouieAgent::runner</div></div><div id='B_2tX9SZo0'><div style='color: #666; font-family: monospace; font-size: 0.9em;'>🐛 Input text:::What is the sum of 1 to 10?</div></div><div id='B_ssawNLNC'><div style='color: #666; font-family: monospace; font-size: 0.9em;'>🐛 Reading chat history. (is_prepared: True)</div></div><div id='B__zCrhhoP'><div style='color: #666; font-family: monospace; font-size: 0.9em;'>🐛 LouieAgent predict with tools: ['GraphAgent', 'CodeAgent', 'TableAIAgent', 'FirecrawlAgent', 'NotebookAgent', 'DatabricksAgent', 'MermaidAgent', 'PerspectiveAgent', 'OpenSearchAgent', 'KeplerAgent', 'SpannerAgent', 'SpannerPassthroughAgent', 'KustoAgent', 'KustoPassthroughAgent', 'PostgresAgent', 'PostgresPassthroughAgent', 'Done', 'Chat'] has_recipes: True has_examples: True</div></div><div id='B_RFc7W3cD'>To find the sum of numbers from 1 to 10, I can use the formula for the sum of an arithmetic series or simply add the numbers together.<br><br>Plan:<br>1. Use the formula for the sum of an arithmetic series: \\( S = \\frac{n}{2} \\times (a + l) \\), where \\( n \\) is the number of terms, \\( a \\) is the first term, and \\( l \\) is the last term.<br>2. In this case, \\( n = 10 \\), \\( a = 1 \\), and \\( l = 10 \\).<br>3. Calculate the sum.<br><br>Calculation:<br>- \\( S = \\frac{10}{2} \\times (1 + 10) = 5 \\times 11 = 55 \\)<br><br>The sum of numbers from</div><div id='B_UQy2ZF6v'><div style='color: #0066cc; font-family: monospace; font-size: 0.9em;'>i Louie output text: The sum of numbers from 1 to 10 is 55.</div></div></div></div>"
      ],
      "text/plain": [
       "<IPython.core.display.HTML object>"
      ]
     },
     "metadata": {},
     "output_type": "display_data"
    },
    {
     "data": {
      "text/html": [
       "<div style='border: 1px solid #ddd; padding: 10px; border-radius: 5px; margin-bottom: 10px;'>\n",
       "<h4 style='margin-top: 0;'>🤖 LouieAI Session</h4>\n",
       "<hr style='margin: 10px 0;'>\n",
       "<p style='margin: 5px 0; font-size: 0.9em;'>✅ <b>Session:</b> Active | <b>Thread ID:</b> <code>D_XyrI1RC741CHguIK_10Z</code> | <a href='http://localhost:8000/?dthread=D_XyrI1RC741CHguIK_10Z' target='_blank'>View Thread ↗</a> | <b>Org:</b> all-users</p>\n",
       "<p style='margin: 5px 0; font-size: 0.9em;'>📚 <b>History:</b> 9 responses\n",
       " (access with <code>lui[-1]</code>, <code>lui[-2]</code>, etc.)</p>\n",
       "<p style='margin: 5px 0; font-size: 0.9em;'>🔍 <b>Traces:</b> Disabled (use <code>lui.traces = True</code> to enable)</p>\n",
       "<p><b>Latest Response:</b></p>\n",
       "<ul style='margin: 5px 0;'>\n",
       "<li>1 text element(s) - access with <code>lui.text</code> or <code>lui.texts</code></li>\n",
       "</ul>\n",
       "<details><summary><b>Quick Help</b> (click to expand)</summary>\n",
       "<pre style='margin: 10px 0; padding: 10px; background: #f5f5f5;'>\n",
       "# Make a query\n",
       "\n",
       "lui('Show me sales data from last week')\n",
       "\n",
       "\n",
       "# Control visibility\n",
       "\n",
       "lui('query', share_mode='Private')       # Default: only you\n",
       "\n",
       "lui('query', share_mode='Organization')  # Share within org\n",
       "\n",
       "lui('query', share_mode='Public')        # Share publicly\n",
       "\n",
       "\n",
       "# Access results\n",
       "\n",
       "df = lui.df          # Latest dataframe\n",
       "\n",
       "text = lui.text      # Latest text response\n",
       "\n",
       "all_dfs = lui.dfs    # All dataframes\n",
       "\n",
       "\n",
       "# History\n",
       "\n",
       "lui[-1].df           # Previous response's dataframe\n",
       "\n",
       "\n",
       "# Traces (AI reasoning)\n",
       "\n",
       "lui.traces = True    # Enable for session\n",
       "\n",
       "lui('query', traces=True)  # Enable for one query\n",
       "</pre>\n",
       "</details>\n",
       "</div>"
      ],
      "text/plain": [
       "<LouieAI Notebook Interface | Session: Active | History: 9 responses | Traces: Disabled | Latest: 1 text>"
      ]
     },
     "execution_count": 9,
     "metadata": {},
     "output_type": "execute_result"
    }
   ],
   "source": [
    "# Enable traces for the session\n",
    "lui.traces = True\n",
    "\n",
    "# Now queries will show reasoning steps\n",
    "lui(\"What is 100 + 50?\")\n",
    "\n",
    "# Disable traces\n",
    "lui.traces = False\n",
    "\n",
    "# Or enable traces for just one query\n",
    "lui(\"What is the sum of 1 to 10?\", traces=True)"
   ]
  },
  {
   "cell_type": "markdown",
   "id": "2b3dd3c0",
   "metadata": {},
   "source": [
    "## Error Handling\n",
    "\n",
    "The interface handles errors gracefully:"
   ]
  },
  {
   "cell_type": "code",
   "execution_count": 10,
   "id": "2563848c",
   "metadata": {
    "execution": {
     "iopub.execute_input": "2025-08-16T17:54:06.251577Z",
     "iopub.status.busy": "2025-08-16T17:54:06.251457Z",
     "iopub.status.idle": "2025-08-16T17:54:06.253651Z",
     "shell.execute_reply": "2025-08-16T17:54:06.253360Z"
    }
   },
   "outputs": [
    {
     "name": "stdout",
     "output_type": "stream",
     "text": [
      "No errors in last operation\n"
     ]
    }
   ],
   "source": [
    "# Check if the last operation had errors\n",
    "if lui.has_errors:\n",
    "    print(\"Last operation had errors:\", lui.errors)\n",
    "else:\n",
    "    print(\"No errors in last operation\")"
   ]
  },
  {
   "cell_type": "markdown",
   "id": "ba2d1e2a",
   "metadata": {},
   "source": [
    "## Tips and Tricks\n",
    "\n",
    "Here are some helpful patterns for using the notebook interface:\n",
    "\n",
    "1. **Use clear prompts**: Be specific about what you want to analyze\n",
    "2. **Check outputs**: Always verify `lui.df` and `lui.text` after queries\n",
    "3. **Enable traces for debugging**: Use `traces=True` when troubleshooting\n",
    "4. **Leverage history**: Access previous results with `lui[-1]`, `lui[-2]`, etc.\n",
    "5. **Upload various formats**: DataFrames, images, PDFs all work seamlessly"
   ]
  }
 ],
 "metadata": {
  "language_info": {
   "codemirror_mode": {
    "name": "ipython",
    "version": 3
   },
   "file_extension": ".py",
   "mimetype": "text/x-python",
   "name": "python",
   "nbconvert_exporter": "python",
   "pygments_lexer": "ipython3",
   "version": "3.12.11"
  }
 },
 "nbformat": 4,
 "nbformat_minor": 5
}
